{
 "cells": [
  {
   "cell_type": "markdown",
   "metadata": {},
   "source": [
    "# 1 - Introduction to Pandas [45 min]"
   ]
  },
  {
   "cell_type": "markdown",
   "metadata": {},
   "source": [
    "## Dataset"
   ]
  },
  {
   "cell_type": "markdown",
   "metadata": {},
   "source": [
    "http://jmcauley.ucsd.edu/data/amazon/"
   ]
  },
  {
   "cell_type": "code",
   "execution_count": 7,
   "metadata": {
    "collapsed": true
   },
   "outputs": [],
   "source": [
    "import pandas as pd\n",
    "pd.options.display.max_rows = 6\n",
    "pd.options.display.max_columns = 8\n",
    "pd.options.display.width = 100"
   ]
  },
  {
   "cell_type": "markdown",
   "metadata": {},
   "source": [
    "## Reading data"
   ]
  },
  {
   "cell_type": "code",
   "execution_count": 8,
   "metadata": {
    "collapsed": false
   },
   "outputs": [],
   "source": [
    "import gzip\n",
    "\n",
    "def parse(path):\n",
    "    g = gzip.open(path, 'rb')\n",
    "    for l in g:\n",
    "        yield eval(l)\n",
    "\n",
    "def getDF(path):\n",
    "    i = 0\n",
    "    df = {}\n",
    "    for d in parse(path):\n",
    "        df[i] = d\n",
    "        i += 1\n",
    "    return pd.DataFrame.from_dict(df, orient='index')"
   ]
  },
  {
   "cell_type": "markdown",
   "metadata": {},
   "source": [
    "#### EXERCISE: Find a category that interests you in the Amazon Product Data, download the file and write the right path in the cell below "
   ]
  },
  {
   "cell_type": "code",
   "execution_count": null,
   "metadata": {
    "collapsed": true
   },
   "outputs": [],
   "source": [
    "df = getDF('reviews_Beauty_5.json.gz')"
   ]
  },
  {
   "cell_type": "code",
   "execution_count": 9,
   "metadata": {
    "collapsed": false
   },
   "outputs": [
    {
     "data": {
      "text/html": [
       "<div>\n",
       "<table border=\"1\" class=\"dataframe\">\n",
       "  <thead>\n",
       "    <tr style=\"text-align: right;\">\n",
       "      <th></th>\n",
       "      <th>overall</th>\n",
       "      <th>summary</th>\n",
       "      <th>helpful</th>\n",
       "      <th>reviewerName</th>\n",
       "      <th>...</th>\n",
       "      <th>reviewerID</th>\n",
       "      <th>reviewText</th>\n",
       "      <th>asin</th>\n",
       "      <th>unixReviewTime</th>\n",
       "    </tr>\n",
       "  </thead>\n",
       "  <tbody>\n",
       "    <tr>\n",
       "      <th>0</th>\n",
       "      <td>1.0</td>\n",
       "      <td>Don't waste your money</td>\n",
       "      <td>[3, 4]</td>\n",
       "      <td>Andrea</td>\n",
       "      <td>...</td>\n",
       "      <td>A1YJEY40YUW4SE</td>\n",
       "      <td>Very oily and creamy. Not at all what I expect...</td>\n",
       "      <td>7806397051</td>\n",
       "      <td>1391040000</td>\n",
       "    </tr>\n",
       "    <tr>\n",
       "      <th>1</th>\n",
       "      <td>3.0</td>\n",
       "      <td>OK Palette!</td>\n",
       "      <td>[1, 1]</td>\n",
       "      <td>Jessica H.</td>\n",
       "      <td>...</td>\n",
       "      <td>A60XNB876KYML</td>\n",
       "      <td>This palette was a decent price and I was look...</td>\n",
       "      <td>7806397051</td>\n",
       "      <td>1397779200</td>\n",
       "    </tr>\n",
       "    <tr>\n",
       "      <th>2</th>\n",
       "      <td>4.0</td>\n",
       "      <td>great quality</td>\n",
       "      <td>[0, 1]</td>\n",
       "      <td>Karen</td>\n",
       "      <td>...</td>\n",
       "      <td>A3G6XNM240RMWA</td>\n",
       "      <td>The texture of this concealer pallet is fantas...</td>\n",
       "      <td>7806397051</td>\n",
       "      <td>1378425600</td>\n",
       "    </tr>\n",
       "    <tr>\n",
       "      <th>...</th>\n",
       "      <td>...</td>\n",
       "      <td>...</td>\n",
       "      <td>...</td>\n",
       "      <td>...</td>\n",
       "      <td>...</td>\n",
       "      <td>...</td>\n",
       "      <td>...</td>\n",
       "      <td>...</td>\n",
       "      <td>...</td>\n",
       "    </tr>\n",
       "    <tr>\n",
       "      <th>198499</th>\n",
       "      <td>5.0</td>\n",
       "      <td>One Pound Organic Grade A Unrefined Shea Butter</td>\n",
       "      <td>[0, 0]</td>\n",
       "      <td>M. Hill</td>\n",
       "      <td>...</td>\n",
       "      <td>A35Q0RBM3YNQNF</td>\n",
       "      <td>The skin is the body's largest organ and it ab...</td>\n",
       "      <td>B00LLPT4HI</td>\n",
       "      <td>1405468800</td>\n",
       "    </tr>\n",
       "    <tr>\n",
       "      <th>198500</th>\n",
       "      <td>5.0</td>\n",
       "      <td>This stuff is amazing!</td>\n",
       "      <td>[0, 0]</td>\n",
       "      <td>Richard C. Drew \"Anaal Nathra/Uthe vas Bethod...</td>\n",
       "      <td>...</td>\n",
       "      <td>A3LGT6UZL99IW1</td>\n",
       "      <td>I have very dry elbows and knees.  I have a to...</td>\n",
       "      <td>B00LLPT4HI</td>\n",
       "      <td>1405382400</td>\n",
       "    </tr>\n",
       "    <tr>\n",
       "      <th>198501</th>\n",
       "      <td>5.0</td>\n",
       "      <td>The \"Real Stuff\"!</td>\n",
       "      <td>[0, 1]</td>\n",
       "      <td>Wulfstan \"wulfstan\"</td>\n",
       "      <td>...</td>\n",
       "      <td>A3UJRNI8UR4871</td>\n",
       "      <td>This is 100% pure Shea Butter. Do not mistake ...</td>\n",
       "      <td>B00LLPT4HI</td>\n",
       "      <td>1405987200</td>\n",
       "    </tr>\n",
       "  </tbody>\n",
       "</table>\n",
       "<p>198502 rows × 9 columns</p>\n",
       "</div>"
      ],
      "text/plain": [
       "        overall                                          summary helpful  \\\n",
       "0           1.0                           Don't waste your money  [3, 4]   \n",
       "1           3.0                                      OK Palette!  [1, 1]   \n",
       "2           4.0                                    great quality  [0, 1]   \n",
       "...         ...                                              ...     ...   \n",
       "198499      5.0  One Pound Organic Grade A Unrefined Shea Butter  [0, 0]   \n",
       "198500      5.0                           This stuff is amazing!  [0, 0]   \n",
       "198501      5.0                                The \"Real Stuff\"!  [0, 1]   \n",
       "\n",
       "                                            reviewerName      ...            reviewerID  \\\n",
       "0                                                 Andrea      ...        A1YJEY40YUW4SE   \n",
       "1                                             Jessica H.      ...         A60XNB876KYML   \n",
       "2                                                  Karen      ...        A3G6XNM240RMWA   \n",
       "...                                                  ...      ...                   ...   \n",
       "198499                                           M. Hill      ...        A35Q0RBM3YNQNF   \n",
       "198500  Richard C. Drew \"Anaal Nathra/Uthe vas Bethod...      ...        A3LGT6UZL99IW1   \n",
       "198501                               Wulfstan \"wulfstan\"      ...        A3UJRNI8UR4871   \n",
       "\n",
       "                                               reviewText        asin unixReviewTime  \n",
       "0       Very oily and creamy. Not at all what I expect...  7806397051     1391040000  \n",
       "1       This palette was a decent price and I was look...  7806397051     1397779200  \n",
       "2       The texture of this concealer pallet is fantas...  7806397051     1378425600  \n",
       "...                                                   ...         ...            ...  \n",
       "198499  The skin is the body's largest organ and it ab...  B00LLPT4HI     1405468800  \n",
       "198500  I have very dry elbows and knees.  I have a to...  B00LLPT4HI     1405382400  \n",
       "198501  This is 100% pure Shea Butter. Do not mistake ...  B00LLPT4HI     1405987200  \n",
       "\n",
       "[198502 rows x 9 columns]"
      ]
     },
     "execution_count": 9,
     "metadata": {},
     "output_type": "execute_result"
    }
   ],
   "source": [
    "df"
   ]
  },
  {
   "cell_type": "markdown",
   "metadata": {},
   "source": [
    "### EXERCISE: Save and load the dataset into different formats (CSV, HDF5...)"
   ]
  },
  {
   "cell_type": "markdown",
   "metadata": {},
   "source": [
    "http://pandas.pydata.org/pandas-docs/stable/io.html"
   ]
  },
  {
   "cell_type": "markdown",
   "metadata": {},
   "source": [
    "The pandas I/O API is a set of top level reader functions accessed like pd.read_csv() that generally return a pandas object.\n",
    "\n",
    "    read_csv\n",
    "    read_excel\n",
    "    read_hdf\n",
    "    read_sql\n",
    "    read_json\n",
    "    ...\n",
    "\n",
    "The corresponding writer functions are object methods that are accessed like df.to_csv()\n",
    "\n",
    "    to_csv\n",
    "    to_excel\n",
    "    to_hdf\n",
    "    to_sql\n",
    "    to_json\n",
    "    ..."
   ]
  },
  {
   "cell_type": "markdown",
   "metadata": {},
   "source": [
    "### EXERCISE: Compare the performance of the readers"
   ]
  },
  {
   "cell_type": "markdown",
   "metadata": {},
   "source": [
    "Use ``%timeit`` magical function"
   ]
  },
  {
   "cell_type": "markdown",
   "metadata": {},
   "source": [
    "## Getting a feel of the data"
   ]
  },
  {
   "cell_type": "code",
   "execution_count": 4,
   "metadata": {
    "collapsed": false
   },
   "outputs": [
    {
     "name": "stdout",
     "output_type": "stream",
     "text": [
      "<class 'pandas.core.frame.DataFrame'>\n",
      "Int64Index: 198502 entries, 0 to 198501\n",
      "Data columns (total 9 columns):\n",
      "overall           198502 non-null float64\n",
      "summary           198502 non-null object\n",
      "helpful           198502 non-null object\n",
      "reviewerName      197116 non-null object\n",
      "reviewTime        198502 non-null object\n",
      "reviewerID        198502 non-null object\n",
      "reviewText        198502 non-null object\n",
      "asin              198502 non-null object\n",
      "unixReviewTime    198502 non-null int64\n",
      "dtypes: float64(1), int64(1), object(7)\n",
      "memory usage: 15.1+ MB\n"
     ]
    }
   ],
   "source": [
    "df.info()"
   ]
  },
  {
   "cell_type": "markdown",
   "metadata": {},
   "source": [
    "http://pandas.pydata.org/pandas-docs/stable/text.html"
   ]
  },
  {
   "cell_type": "code",
   "execution_count": 18,
   "metadata": {
    "collapsed": false
   },
   "outputs": [],
   "source": [
    "df['unixReviewTime'] = pd.to_datetime(df['unixReviewTime'],unit='s')"
   ]
  },
  {
   "cell_type": "code",
   "execution_count": 21,
   "metadata": {
    "collapsed": false
   },
   "outputs": [
    {
     "data": {
      "text/html": [
       "<div>\n",
       "<table border=\"1\" class=\"dataframe\">\n",
       "  <thead>\n",
       "    <tr style=\"text-align: right;\">\n",
       "      <th></th>\n",
       "      <th>overall</th>\n",
       "      <th>summary</th>\n",
       "      <th>helpful</th>\n",
       "      <th>reviewerName</th>\n",
       "      <th>...</th>\n",
       "      <th>reviewerID</th>\n",
       "      <th>reviewText</th>\n",
       "      <th>asin</th>\n",
       "      <th>unixReviewTime</th>\n",
       "    </tr>\n",
       "  </thead>\n",
       "  <tbody>\n",
       "    <tr>\n",
       "      <th>0</th>\n",
       "      <td>1.0</td>\n",
       "      <td>Don't waste your money</td>\n",
       "      <td>[3, 4]</td>\n",
       "      <td>Andrea</td>\n",
       "      <td>...</td>\n",
       "      <td>A1YJEY40YUW4SE</td>\n",
       "      <td>Very oily and creamy. Not at all what I expect...</td>\n",
       "      <td>7806397051</td>\n",
       "      <td>2014-01-30</td>\n",
       "    </tr>\n",
       "    <tr>\n",
       "      <th>1</th>\n",
       "      <td>3.0</td>\n",
       "      <td>OK Palette!</td>\n",
       "      <td>[1, 1]</td>\n",
       "      <td>Jessica H.</td>\n",
       "      <td>...</td>\n",
       "      <td>A60XNB876KYML</td>\n",
       "      <td>This palette was a decent price and I was look...</td>\n",
       "      <td>7806397051</td>\n",
       "      <td>2014-04-18</td>\n",
       "    </tr>\n",
       "    <tr>\n",
       "      <th>2</th>\n",
       "      <td>4.0</td>\n",
       "      <td>great quality</td>\n",
       "      <td>[0, 1]</td>\n",
       "      <td>Karen</td>\n",
       "      <td>...</td>\n",
       "      <td>A3G6XNM240RMWA</td>\n",
       "      <td>The texture of this concealer pallet is fantas...</td>\n",
       "      <td>7806397051</td>\n",
       "      <td>2013-09-06</td>\n",
       "    </tr>\n",
       "    <tr>\n",
       "      <th>...</th>\n",
       "      <td>...</td>\n",
       "      <td>...</td>\n",
       "      <td>...</td>\n",
       "      <td>...</td>\n",
       "      <td>...</td>\n",
       "      <td>...</td>\n",
       "      <td>...</td>\n",
       "      <td>...</td>\n",
       "      <td>...</td>\n",
       "    </tr>\n",
       "    <tr>\n",
       "      <th>198499</th>\n",
       "      <td>5.0</td>\n",
       "      <td>One Pound Organic Grade A Unrefined Shea Butter</td>\n",
       "      <td>[0, 0]</td>\n",
       "      <td>M. Hill</td>\n",
       "      <td>...</td>\n",
       "      <td>A35Q0RBM3YNQNF</td>\n",
       "      <td>The skin is the body's largest organ and it ab...</td>\n",
       "      <td>B00LLPT4HI</td>\n",
       "      <td>2014-07-16</td>\n",
       "    </tr>\n",
       "    <tr>\n",
       "      <th>198500</th>\n",
       "      <td>5.0</td>\n",
       "      <td>This stuff is amazing!</td>\n",
       "      <td>[0, 0]</td>\n",
       "      <td>Richard C. Drew \"Anaal Nathra/Uthe vas Bethod...</td>\n",
       "      <td>...</td>\n",
       "      <td>A3LGT6UZL99IW1</td>\n",
       "      <td>I have very dry elbows and knees.  I have a to...</td>\n",
       "      <td>B00LLPT4HI</td>\n",
       "      <td>2014-07-15</td>\n",
       "    </tr>\n",
       "    <tr>\n",
       "      <th>198501</th>\n",
       "      <td>5.0</td>\n",
       "      <td>The \"Real Stuff\"!</td>\n",
       "      <td>[0, 1]</td>\n",
       "      <td>Wulfstan \"wulfstan\"</td>\n",
       "      <td>...</td>\n",
       "      <td>A3UJRNI8UR4871</td>\n",
       "      <td>This is 100% pure Shea Butter. Do not mistake ...</td>\n",
       "      <td>B00LLPT4HI</td>\n",
       "      <td>2014-07-22</td>\n",
       "    </tr>\n",
       "  </tbody>\n",
       "</table>\n",
       "<p>198502 rows × 9 columns</p>\n",
       "</div>"
      ],
      "text/plain": [
       "        overall                                          summary helpful  \\\n",
       "0           1.0                           Don't waste your money  [3, 4]   \n",
       "1           3.0                                      OK Palette!  [1, 1]   \n",
       "2           4.0                                    great quality  [0, 1]   \n",
       "...         ...                                              ...     ...   \n",
       "198499      5.0  One Pound Organic Grade A Unrefined Shea Butter  [0, 0]   \n",
       "198500      5.0                           This stuff is amazing!  [0, 0]   \n",
       "198501      5.0                                The \"Real Stuff\"!  [0, 1]   \n",
       "\n",
       "                                            reviewerName      ...            reviewerID  \\\n",
       "0                                                 Andrea      ...        A1YJEY40YUW4SE   \n",
       "1                                             Jessica H.      ...         A60XNB876KYML   \n",
       "2                                                  Karen      ...        A3G6XNM240RMWA   \n",
       "...                                                  ...      ...                   ...   \n",
       "198499                                           M. Hill      ...        A35Q0RBM3YNQNF   \n",
       "198500  Richard C. Drew \"Anaal Nathra/Uthe vas Bethod...      ...        A3LGT6UZL99IW1   \n",
       "198501                               Wulfstan \"wulfstan\"      ...        A3UJRNI8UR4871   \n",
       "\n",
       "                                               reviewText        asin unixReviewTime  \n",
       "0       Very oily and creamy. Not at all what I expect...  7806397051     2014-01-30  \n",
       "1       This palette was a decent price and I was look...  7806397051     2014-04-18  \n",
       "2       The texture of this concealer pallet is fantas...  7806397051     2013-09-06  \n",
       "...                                                   ...         ...            ...  \n",
       "198499  The skin is the body's largest organ and it ab...  B00LLPT4HI     2014-07-16  \n",
       "198500  I have very dry elbows and knees.  I have a to...  B00LLPT4HI     2014-07-15  \n",
       "198501  This is 100% pure Shea Butter. Do not mistake ...  B00LLPT4HI     2014-07-22  \n",
       "\n",
       "[198502 rows x 9 columns]"
      ]
     },
     "execution_count": 21,
     "metadata": {},
     "output_type": "execute_result"
    }
   ],
   "source": [
    "df"
   ]
  },
  {
   "cell_type": "code",
   "execution_count": 20,
   "metadata": {
    "collapsed": false
   },
   "outputs": [
    {
     "name": "stdout",
     "output_type": "stream",
     "text": [
      "<class 'pandas.core.frame.DataFrame'>\n",
      "Int64Index: 198502 entries, 0 to 198501\n",
      "Data columns (total 9 columns):\n",
      "overall           198502 non-null float64\n",
      "summary           198502 non-null object\n",
      "helpful           198502 non-null object\n",
      "reviewerName      197116 non-null object\n",
      "reviewTime        198502 non-null object\n",
      "reviewerID        198502 non-null object\n",
      "reviewText        198502 non-null object\n",
      "asin              198502 non-null object\n",
      "unixReviewTime    198502 non-null datetime64[ns]\n",
      "dtypes: datetime64[ns](1), float64(1), object(7)\n",
      "memory usage: 15.1+ MB\n"
     ]
    }
   ],
   "source": [
    "df.info()"
   ]
  },
  {
   "cell_type": "markdown",
   "metadata": {},
   "source": [
    "### Text Data & .str accessor"
   ]
  },
  {
   "cell_type": "code",
   "execution_count": 6,
   "metadata": {
    "collapsed": false
   },
   "outputs": [
    {
     "data": {
      "text/plain": [
       "0                                    Don't waste your money\n",
       "1                                               OK Palette!\n",
       "2                                             great quality\n",
       "3                                    Do not work on my face\n",
       "4                                                It's okay.\n",
       "5                                        Very nice palette!\n",
       "6                                                    smh!!!\n",
       "7         Chalky, Not Pigmented, Wears off easily, Not a...\n",
       "8               no Lightening, no Brightening,......NOTHING\n",
       "9                                               Its alright\n",
       "10                                          Mixed feelings.\n",
       "11                                                  Nothing\n",
       "12                                               This works\n",
       "13                                             Does nothing\n",
       "14                                                 it works\n",
       "15                                                    burns\n",
       "16                                          Did work for me\n",
       "17                                                excellent\n",
       "18                                              weird smell\n",
       "19                                  Love the smell of this!\n",
       "20                                                    Happy\n",
       "21                                                Very good\n",
       "22                                         Lurrrrrrrrv.....\n",
       "23                                              Great Scent\n",
       "24                                Spring Garden in a Bottle\n",
       "25                                              fresh smell\n",
       "26                                            My new smell!\n",
       "27                                          One of my favs!\n",
       "28                                             Smells clean\n",
       "29         Love the smell but a shame it's not last as long\n",
       "                                ...                        \n",
       "198472                                              Perfect\n",
       "198473                                              LOVE IT\n",
       "198474                               Such a beautiful color\n",
       "198475                                      love velviteens\n",
       "198476                      Excellent oil, works perfectly!\n",
       "198477                                           Love This!\n",
       "198478                                              Love it\n",
       "198479                                Use it for everything\n",
       "198480                                        Nice product.\n",
       "198481                                         Works Great!\n",
       "198482                         For a wonderful nights sleep\n",
       "198483                           Good for any types of skin\n",
       "198484                                        great product\n",
       "198485    Great Vitamin C, Hyaluronic Acid serum for you...\n",
       "198486                                    Love the product.\n",
       "198487                                          Great serum\n",
       "198488                                       Great Results!\n",
       "198489    This is a nice product that smells good and le...\n",
       "198490                                              Love it\n",
       "198491                    Seeing results in just a few uses\n",
       "198492                                  Love it A++ quality\n",
       "198493                      I am so happy with this product\n",
       "198494                                Great vitamin C serum\n",
       "198495                                Panacea for Old Faces\n",
       "198496                  Excellent deal, quality shea butter\n",
       "198497                                      A little dab...\n",
       "198498                         Pure organic raw shea butter\n",
       "198499      One Pound Organic Grade A Unrefined Shea Butter\n",
       "198500                               This stuff is amazing!\n",
       "198501                                    The \"Real Stuff\"!\n",
       "Name: summary, dtype: object"
      ]
     },
     "execution_count": 6,
     "metadata": {},
     "output_type": "execute_result"
    }
   ],
   "source": [
    "df.summary"
   ]
  },
  {
   "cell_type": "code",
   "execution_count": 11,
   "metadata": {
    "collapsed": false
   },
   "outputs": [
    {
     "data": {
      "text/plain": [
       "0         22\n",
       "1         11\n",
       "2         13\n",
       "          ..\n",
       "198499    47\n",
       "198500    22\n",
       "198501    17\n",
       "Name: summary, dtype: int64"
      ]
     },
     "execution_count": 11,
     "metadata": {},
     "output_type": "execute_result"
    }
   ],
   "source": [
    "df.summary.str.len()"
   ]
  },
  {
   "cell_type": "code",
   "execution_count": null,
   "metadata": {
    "collapsed": true
   },
   "outputs": [],
   "source": []
  },
  {
   "cell_type": "markdown",
   "metadata": {},
   "source": [
    "## Basic statistics"
   ]
  },
  {
   "cell_type": "markdown",
   "metadata": {},
   "source": [
    "## Dropping the cruft"
   ]
  },
  {
   "cell_type": "markdown",
   "metadata": {},
   "source": [
    "## Quick and dirty visualization"
   ]
  },
  {
   "cell_type": "markdown",
   "metadata": {},
   "source": [
    "## The power of the groupby"
   ]
  },
  {
   "cell_type": "markdown",
   "metadata": {},
   "source": [
    "## Advance mappings for custom statistics"
   ]
  }
 ],
 "metadata": {
  "kernelspec": {
   "display_name": "Python 3",
   "language": "python",
   "name": "python3"
  },
  "language_info": {
   "codemirror_mode": {
    "name": "ipython",
    "version": 3
   },
   "file_extension": ".py",
   "mimetype": "text/x-python",
   "name": "python",
   "nbconvert_exporter": "python",
   "pygments_lexer": "ipython3",
   "version": "3.4.4"
  }
 },
 "nbformat": 4,
 "nbformat_minor": 0
}
