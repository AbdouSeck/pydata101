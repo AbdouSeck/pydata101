{
 "cells": [
  {
   "cell_type": "markdown",
   "metadata": {},
   "source": [
    "<hr />\n",
    "\n",
    "# Baseball App Example\n",
    "\n",
    "In this example we use Pandas, sklearn, and Bokeh to explore the Lahman Baseball Statistics database.\n",
    "\n"
   ]
  },
  {
   "cell_type": "code",
   "execution_count": 1,
   "metadata": {
    "collapsed": true
   },
   "outputs": [],
   "source": [
    "## import statements\n",
    "import numpy as np\n",
    "import pandas as pd\n",
    "import matplotlib as mpl\n",
    "import matplotlib.pyplot as plt\n",
    "import seaborn as sns\n",
    "import sklearn"
   ]
  },
  {
   "cell_type": "code",
   "execution_count": 2,
   "metadata": {
    "collapsed": false
   },
   "outputs": [
    {
     "data": {
      "text/html": [
       "\n",
       "    <div class=\"bk-banner\">\n",
       "        <a href=\"http://bokeh.pydata.org\" target=\"_blank\" class=\"bk-logo bk-logo-small bk-logo-notebook\"></a>\n",
       "        <span id=\"755eaa0e-cd89-4b43-8c2a-0c5e60d85ab4\">Loading BokehJS ...</span>\n",
       "    </div>"
      ]
     },
     "metadata": {},
     "output_type": "display_data"
    },
    {
     "data": {
      "application/javascript": [
       "\n",
       "(function(global) {\n",
       "  function now() {\n",
       "    return new Date();\n",
       "  }\n",
       "\n",
       "  if (typeof (window._bokeh_onload_callbacks) === \"undefined\") {\n",
       "    window._bokeh_onload_callbacks = [];\n",
       "  }\n",
       "\n",
       "  function run_callbacks() {\n",
       "    window._bokeh_onload_callbacks.forEach(function(callback) { callback() });\n",
       "    delete window._bokeh_onload_callbacks\n",
       "    console.info(\"Bokeh: all callbacks have finished\");\n",
       "  }\n",
       "\n",
       "  function load_libs(js_urls, callback) {\n",
       "    window._bokeh_onload_callbacks.push(callback);\n",
       "    if (window._bokeh_is_loading > 0) {\n",
       "      console.log(\"Bokeh: BokehJS is being loaded, scheduling callback at\", now());\n",
       "      return null;\n",
       "    }\n",
       "    if (js_urls == null || js_urls.length === 0) {\n",
       "      run_callbacks();\n",
       "      return null;\n",
       "    }\n",
       "    console.log(\"Bokeh: BokehJS not loaded, scheduling load and callback at\", now());\n",
       "    window._bokeh_is_loading = js_urls.length;\n",
       "    for (var i = 0; i < js_urls.length; i++) {\n",
       "      var url = js_urls[i];\n",
       "      var s = document.createElement('script');\n",
       "      s.src = url;\n",
       "      s.async = false;\n",
       "      s.onreadystatechange = s.onload = function() {\n",
       "        window._bokeh_is_loading--;\n",
       "        if (window._bokeh_is_loading === 0) {\n",
       "          console.log(\"Bokeh: all BokehJS libraries loaded\");\n",
       "          run_callbacks()\n",
       "        }\n",
       "      };\n",
       "      s.onerror = function() {\n",
       "        console.warn(\"failed to load library \" + url);\n",
       "      };\n",
       "      console.log(\"Bokeh: injecting script tag for BokehJS library: \", url);\n",
       "      document.getElementsByTagName(\"head\")[0].appendChild(s);\n",
       "    }\n",
       "  };\n",
       "\n",
       "  var js_urls = ['https://cdn.pydata.org/bokeh/release/bokeh-0.11.1.min.js', 'https://cdn.pydata.org/bokeh/release/bokeh-widgets-0.11.1.min.js', 'https://cdn.pydata.org/bokeh/release/bokeh-compiler-0.11.1.min.js'];\n",
       "\n",
       "  var inline_js = [\n",
       "    function(Bokeh) {\n",
       "      Bokeh.set_log_level(\"info\");\n",
       "    },\n",
       "    \n",
       "    function(Bokeh) {\n",
       "      Bokeh.$(\"#755eaa0e-cd89-4b43-8c2a-0c5e60d85ab4\").text(\"BokehJS successfully loaded\");\n",
       "    },\n",
       "    function(Bokeh) {\n",
       "      console.log(\"Bokeh: injecting CSS: https://cdn.pydata.org/bokeh/release/bokeh-0.11.1.min.css\");\n",
       "      Bokeh.embed.inject_css(\"https://cdn.pydata.org/bokeh/release/bokeh-0.11.1.min.css\");\n",
       "      console.log(\"Bokeh: injecting CSS: https://cdn.pydata.org/bokeh/release/bokeh-widgets-0.11.1.min.css\");\n",
       "      Bokeh.embed.inject_css(\"https://cdn.pydata.org/bokeh/release/bokeh-widgets-0.11.1.min.css\");\n",
       "    }\n",
       "  ];\n",
       "\n",
       "  function run_inline_js() {\n",
       "    for (var i = 0; i < inline_js.length; i++) {\n",
       "      inline_js[i](window.Bokeh);\n",
       "    }\n",
       "  }\n",
       "\n",
       "  if (window._bokeh_is_loading === 0) {\n",
       "    console.log(\"Bokeh: BokehJS loaded, going straight to plotting\");\n",
       "    run_inline_js();\n",
       "  } else {\n",
       "    load_libs(js_urls, function() {\n",
       "      console.log(\"Bokeh: BokehJS plotting callback run at\", now());\n",
       "      run_inline_js();\n",
       "    });\n",
       "  }\n",
       "}(this));"
      ]
     },
     "metadata": {},
     "output_type": "display_data"
    }
   ],
   "source": [
    "import bokeh\n",
    "from bokeh.models import ColumnDataSource\n",
    "#from bokeh.io import output_notebook, show\n",
    "import bokeh.io\n",
    "import bokeh.plotting\n",
    "bokeh.io.output_notebook()"
   ]
  },
  {
   "cell_type": "code",
   "execution_count": 3,
   "metadata": {
    "collapsed": true
   },
   "outputs": [],
   "source": [
    "sns.set(color_codes=True)\n",
    "sns.set_context(\"notebook\", font_scale=1.5, rc={\"lines.linewidth\": 2.5, \"figure.figsize\": (20, 12)})\n",
    "label_size = 24\n",
    "mpl.rcParams['xtick.labelsize'] = mpl.rcParams['ytick.labelsize'] = label_size \n",
    "mpl.rcParams['axes.labelsize'] = label_size "
   ]
  },
  {
   "cell_type": "markdown",
   "metadata": {},
   "source": [
    "## Read data and explore"
   ]
  },
  {
   "cell_type": "code",
   "execution_count": 4,
   "metadata": {
    "collapsed": false
   },
   "outputs": [
    {
     "name": "stdout",
     "output_type": "stream",
     "text": [
      "['AllstarFull', 'Appearances', 'AwardsManagers', 'AwardsPlayers', 'AwardsShareManagers', 'AwardsSharePlayers', 'Batting', 'BattingPost', 'Fielding', 'FieldingOF', 'FieldingPost', 'HallOfFame', 'Managers', 'ManagersHalf', 'Master', 'Pitching', 'PitchingPost', 'Salaries', 'Schools', 'SchoolsPlayers', 'SeriesPost', 'Teams', 'TeamsFranchises', 'TeamsHalf', 'temp']\n"
     ]
    }
   ],
   "source": [
    "import sqlite3\n",
    "con = sqlite3.connect(\"../data/baseball/lahman2013.sqlite\")\n",
    "\n",
    "with con:\n",
    "    cur = con.cursor()\n",
    "    cur.execute(\"SELECT name FROM sqlite_master WHERE type='table';\")\n",
    "    data = cur.fetchall()\n",
    "print([datum[0] for datum in data])"
   ]
  },
  {
   "cell_type": "code",
   "execution_count": 5,
   "metadata": {
    "collapsed": false
   },
   "outputs": [
    {
     "name": "stdout",
     "output_type": "stream",
     "text": [
      "   yearID teamID lgID   playerID    salary\n",
      "0    1985    ATL   NL  barkele01  870000.0\n",
      "1    1985    ATL   NL  bedrost01  550000.0\n",
      "2    1985    ATL   NL  benedbr01  545000.0\n",
      "3    1985    ATL   NL   campri01  633333.0\n",
      "4    1985    ATL   NL  ceronri01  625000.0\n"
     ]
    }
   ],
   "source": [
    "# Read sqlite query results into a pandas DataFrame\n",
    "with con:\n",
    "    df_salaries = pd.read_sql_query(\"SELECT * from Salaries\", con)\n",
    "\n",
    "# verify that result of SQL query is stored in the dataframe\n",
    "print(df_salaries.head())"
   ]
  },
  {
   "cell_type": "code",
   "execution_count": 6,
   "metadata": {
    "collapsed": false
   },
   "outputs": [
    {
     "data": {
      "text/plain": [
       "['ATL',\n",
       " 'BAL',\n",
       " 'BOS',\n",
       " 'CAL',\n",
       " 'CHA',\n",
       " 'CHN',\n",
       " 'CIN',\n",
       " 'CLE',\n",
       " 'DET',\n",
       " 'HOU',\n",
       " 'KCA',\n",
       " 'LAN',\n",
       " 'MIN',\n",
       " 'ML4',\n",
       " 'MON',\n",
       " 'NYA',\n",
       " 'NYN',\n",
       " 'OAK',\n",
       " 'PHI',\n",
       " 'PIT',\n",
       " 'SDN',\n",
       " 'SEA',\n",
       " 'SFN',\n",
       " 'SLN',\n",
       " 'TEX',\n",
       " 'TOR',\n",
       " 'COL',\n",
       " 'FLO',\n",
       " 'ANA',\n",
       " 'ARI',\n",
       " 'MIL',\n",
       " 'TBA',\n",
       " 'LAA',\n",
       " 'WAS',\n",
       " 'MIA']"
      ]
     },
     "execution_count": 6,
     "metadata": {},
     "output_type": "execute_result"
    }
   ],
   "source": [
    "list(df_salaries.teamID.unique())"
   ]
  },
  {
   "cell_type": "code",
   "execution_count": 7,
   "metadata": {
    "collapsed": false
   },
   "outputs": [],
   "source": [
    "gb = df_salaries.groupby('teamID')\n",
    "salary_by_team = gb['salary'].agg([np.mean, np.std, np.max, np.min] )\n",
    "salary_by_team['ratio'] = salary_by_team.amax / salary_by_team.amin"
   ]
  },
  {
   "cell_type": "code",
   "execution_count": 8,
   "metadata": {
    "collapsed": false
   },
   "outputs": [
    {
     "data": {
      "text/html": [
       "<div>\n",
       "<table border=\"1\" class=\"dataframe\">\n",
       "  <thead>\n",
       "    <tr style=\"text-align: right;\">\n",
       "      <th></th>\n",
       "      <th>mean</th>\n",
       "      <th>std</th>\n",
       "      <th>amax</th>\n",
       "      <th>amin</th>\n",
       "      <th>ratio</th>\n",
       "    </tr>\n",
       "    <tr>\n",
       "      <th>teamID</th>\n",
       "      <th></th>\n",
       "      <th></th>\n",
       "      <th></th>\n",
       "      <th></th>\n",
       "      <th></th>\n",
       "    </tr>\n",
       "  </thead>\n",
       "  <tbody>\n",
       "    <tr>\n",
       "      <th>ANA</th>\n",
       "      <td>1.895109e+06</td>\n",
       "      <td>2.667147e+06</td>\n",
       "      <td>13166667.0</td>\n",
       "      <td>150000.0</td>\n",
       "      <td>87.777780</td>\n",
       "    </tr>\n",
       "    <tr>\n",
       "      <th>ARI</th>\n",
       "      <td>2.428196e+06</td>\n",
       "      <td>2.971520e+06</td>\n",
       "      <td>16000000.0</td>\n",
       "      <td>170000.0</td>\n",
       "      <td>94.117647</td>\n",
       "    </tr>\n",
       "    <tr>\n",
       "      <th>ATL</th>\n",
       "      <td>2.130475e+06</td>\n",
       "      <td>3.373518e+06</td>\n",
       "      <td>16061802.0</td>\n",
       "      <td>60000.0</td>\n",
       "      <td>267.696700</td>\n",
       "    </tr>\n",
       "    <tr>\n",
       "      <th>BAL</th>\n",
       "      <td>1.785712e+06</td>\n",
       "      <td>2.491109e+06</td>\n",
       "      <td>17000000.0</td>\n",
       "      <td>60000.0</td>\n",
       "      <td>283.333333</td>\n",
       "    </tr>\n",
       "    <tr>\n",
       "      <th>BOS</th>\n",
       "      <td>2.692114e+06</td>\n",
       "      <td>3.861802e+06</td>\n",
       "      <td>22500000.0</td>\n",
       "      <td>60000.0</td>\n",
       "      <td>375.000000</td>\n",
       "    </tr>\n",
       "  </tbody>\n",
       "</table>\n",
       "</div>"
      ],
      "text/plain": [
       "                mean           std        amax      amin       ratio\n",
       "teamID                                                              \n",
       "ANA     1.895109e+06  2.667147e+06  13166667.0  150000.0   87.777780\n",
       "ARI     2.428196e+06  2.971520e+06  16000000.0  170000.0   94.117647\n",
       "ATL     2.130475e+06  3.373518e+06  16061802.0   60000.0  267.696700\n",
       "BAL     1.785712e+06  2.491109e+06  17000000.0   60000.0  283.333333\n",
       "BOS     2.692114e+06  3.861802e+06  22500000.0   60000.0  375.000000"
      ]
     },
     "execution_count": 8,
     "metadata": {},
     "output_type": "execute_result"
    }
   ],
   "source": [
    "salary_by_team.head()"
   ]
  },
  {
   "cell_type": "code",
   "execution_count": 9,
   "metadata": {
    "collapsed": false
   },
   "outputs": [
    {
     "data": {
      "text/plain": [
       "Index(['ANA', 'ARI', 'ATL', 'BAL', 'BOS', 'CAL', 'CHA', 'CHN', 'CIN', 'CLE',\n",
       "       'COL', 'DET', 'FLO', 'HOU', 'KCA', 'LAA', 'LAN', 'MIA', 'MIL', 'MIN',\n",
       "       'ML4', 'MON', 'NYA', 'NYN', 'OAK', 'PHI', 'PIT', 'SDN', 'SEA', 'SFN',\n",
       "       'SLN', 'TBA', 'TEX', 'TOR', 'WAS'],\n",
       "      dtype='object', name='teamID')"
      ]
     },
     "execution_count": 9,
     "metadata": {},
     "output_type": "execute_result"
    }
   ],
   "source": [
    "salary_by_team.index"
   ]
  },
  {
   "cell_type": "code",
   "execution_count": 10,
   "metadata": {
    "collapsed": true
   },
   "outputs": [],
   "source": [
    "salary_by_team['teamID'] = salary_by_team.index"
   ]
  },
  {
   "cell_type": "code",
   "execution_count": 11,
   "metadata": {
    "collapsed": false
   },
   "outputs": [
    {
     "data": {
      "text/html": [
       "\n",
       "\n",
       "    <div class=\"plotdiv\" id=\"9a6a01d2-4572-48ab-b4fa-c63c3148d815\"></div>\n",
       "<script type=\"text/javascript\">\n",
       "  \n",
       "  (function(global) {\n",
       "    function now() {\n",
       "      return new Date();\n",
       "    }\n",
       "  \n",
       "    if (typeof (window._bokeh_onload_callbacks) === \"undefined\") {\n",
       "      window._bokeh_onload_callbacks = [];\n",
       "    }\n",
       "  \n",
       "    function run_callbacks() {\n",
       "      window._bokeh_onload_callbacks.forEach(function(callback) { callback() });\n",
       "      delete window._bokeh_onload_callbacks\n",
       "      console.info(\"Bokeh: all callbacks have finished\");\n",
       "    }\n",
       "  \n",
       "    function load_libs(js_urls, callback) {\n",
       "      window._bokeh_onload_callbacks.push(callback);\n",
       "      if (window._bokeh_is_loading > 0) {\n",
       "        console.log(\"Bokeh: BokehJS is being loaded, scheduling callback at\", now());\n",
       "        return null;\n",
       "      }\n",
       "      if (js_urls == null || js_urls.length === 0) {\n",
       "        run_callbacks();\n",
       "        return null;\n",
       "      }\n",
       "      console.log(\"Bokeh: BokehJS not loaded, scheduling load and callback at\", now());\n",
       "      window._bokeh_is_loading = js_urls.length;\n",
       "      for (var i = 0; i < js_urls.length; i++) {\n",
       "        var url = js_urls[i];\n",
       "        var s = document.createElement('script');\n",
       "        s.src = url;\n",
       "        s.async = false;\n",
       "        s.onreadystatechange = s.onload = function() {\n",
       "          window._bokeh_is_loading--;\n",
       "          if (window._bokeh_is_loading === 0) {\n",
       "            console.log(\"Bokeh: all BokehJS libraries loaded\");\n",
       "            run_callbacks()\n",
       "          }\n",
       "        };\n",
       "        s.onerror = function() {\n",
       "          console.warn(\"failed to load library \" + url);\n",
       "        };\n",
       "        console.log(\"Bokeh: injecting script tag for BokehJS library: \", url);\n",
       "        document.getElementsByTagName(\"head\")[0].appendChild(s);\n",
       "      }\n",
       "    };var element = document.getElementById(\"9a6a01d2-4572-48ab-b4fa-c63c3148d815\");\n",
       "    if (element == null) {\n",
       "      console.log(\"Bokeh: ERROR: autoload.js configured with elementid '9a6a01d2-4572-48ab-b4fa-c63c3148d815' but no matching script tag was found. \")\n",
       "      return false;\n",
       "    }\n",
       "  \n",
       "    var js_urls = [];\n",
       "  \n",
       "    var inline_js = [\n",
       "      function(Bokeh) {\n",
       "        Bokeh.$(function() {\n",
       "            var docs_json = {\"c1c79c46-6603-41cf-a9f2-d146932649c9\":{\"roots\":{\"references\":[{\"attributes\":{\"plot\":{\"id\":\"1567cf8c-901f-4e40-aae1-8829e3cc8539\",\"subtype\":\"Figure\",\"type\":\"Plot\"}},\"id\":\"91d5691a-0250-4c63-b306-d3d95e3c951b\",\"type\":\"ResetTool\"},{\"attributes\":{\"formatter\":{\"id\":\"429607d8-eae9-4d72-a5c7-8f64523648e4\",\"type\":\"BasicTickFormatter\"},\"plot\":{\"id\":\"1567cf8c-901f-4e40-aae1-8829e3cc8539\",\"subtype\":\"Figure\",\"type\":\"Plot\"},\"ticker\":{\"id\":\"f43f9266-213d-4c55-acd6-03210f758590\",\"type\":\"BasicTicker\"}},\"id\":\"23934e2a-0485-4404-b468-a32360da66d8\",\"type\":\"LinearAxis\"},{\"attributes\":{\"plot\":{\"id\":\"1567cf8c-901f-4e40-aae1-8829e3cc8539\",\"subtype\":\"Figure\",\"type\":\"Plot\"},\"ticker\":{\"id\":\"afe912b8-9dcb-45a7-9034-b4fa542becbc\",\"type\":\"CategoricalTicker\"}},\"id\":\"1230664a-e0d4-4b4c-b6a7-b564303eac50\",\"type\":\"Grid\"},{\"attributes\":{},\"id\":\"afe912b8-9dcb-45a7-9034-b4fa542becbc\",\"type\":\"CategoricalTicker\"},{\"attributes\":{\"fill_alpha\":{\"value\":0.1},\"fill_color\":{\"value\":\"#1f77b4\"},\"line_alpha\":{\"value\":0.1},\"line_color\":{\"value\":\"#1f77b4\"},\"x\":{\"field\":\"teamID\"},\"y\":{\"field\":\"mean\"}},\"id\":\"ec70a90f-67d3-401b-b27e-bef56d7df459\",\"type\":\"Circle\"},{\"attributes\":{\"fill_color\":{\"value\":\"#1f77b4\"},\"line_color\":{\"value\":\"#1f77b4\"},\"x\":{\"field\":\"teamID\"},\"y\":{\"field\":\"mean\"}},\"id\":\"2809b14b-d6f1-4897-9656-04cf8c8bb091\",\"type\":\"Circle\"},{\"attributes\":{\"callback\":null,\"column_names\":[\"amax\",\"std\",\"amin\",\"ratio\",\"mean\",\"teamID\"],\"data\":{\"amax\":[5875000.0,11500000.0,5375000.0,16500000.0,14936667.0,13000000.0,13500000.0,15505142.0,23000000.0,15000000.0,10125000.0,18910655.0,19369019.0,19700000.0,17000000.0,22000000.0,13166667.0,16333327.0,20557143.0,20275000.0,23000000.0,17000000.0,22250000.0,25000000.0,15500000.0,16061802.0,19000000.0,16571429.0,23145011.0,23854494.0,16000000.0,22500000.0,19000000.0,33000000.0,26187500.0],\"amin\":[60000.0,60000.0,60000.0,0.0,50000.0,60000.0,60000.0,60000.0,60000.0,60000.0,170000.0,60000.0,60000.0,60000.0,60000.0,60000.0,150000.0,60000.0,60000.0,109000.0,60000.0,50000.0,60000.0,60000.0,170000.0,60000.0,60000.0,316000.0,60000.0,60000.0,170000.0,60000.0,480000.0,0.0,316000.0],\"mean\":[613243.5800524935,707458.8578856152,739073.179347826,1077989.6803760282,1147986.4030612244,1299025.7868080095,1303094.7988304093,1317959.64354067,1525031.650385604,1525794.9584775087,1528399.5054945054,1568035.2813238772,1705561.3130434782,1768710.9600484262,1785712.3251461987,1874651.551143201,1895109.2024291498,1928832.5547785547,1932288.913202934,1945628.4724025973,1980834.9902080784,1992653.5012315272,2044198.6841463414,2092230.9326364691,2095008.9668141592,2130474.682577566,2185518.65408039,2243755.1576923076,2317349.977245509,2346982.6980255516,2428195.9126637555,2692113.8568075118,2974115.68627451,3608860.1485380116,4151107.171875],\"ratio\":[97.91666666666667,191.66666666666666,89.58333333333333,\"Infinity\",298.73334,216.66666666666666,225.0,258.41903333333335,383.3333333333333,250.0,59.55882352941177,315.17758333333336,322.8169833333333,328.3333333333333,283.3333333333333,366.6666666666667,87.77778,272.2221166666667,342.61905,186.0091743119266,383.3333333333333,340.0,370.8333333333333,416.6666666666667,91.17647058823529,267.6967,316.6666666666667,52.44123101265823,385.7501833333333,397.5749,94.11764705882354,375.0,39.583333333333336,\"Infinity\",82.87183544303798],\"std\":[853533.7163845291,1192678.1516411488,960628.5390361849,1720168.0769492872,1808397.0244389344,1951652.8801389195,2000776.9925032738,1971054.4478543361,2684866.4482354484,2251972.7754913056,2011091.1980497667,2489143.8459413988,3083466.905934261,2714273.250736591,2491109.1857474186,3014408.0266307434,2667146.9245296065,3014710.9368142053,3047418.722298252,2980228.8372444157,3388685.94679665,3185499.881674104,3305606.755051485,3607534.5605039247,2733957.135136098,3373518.217679483,3419997.897579085,2922931.2647121297,3693195.594629475,3598846.2978953356,2971520.2250774694,3861801.8178376732,4339254.417587083,5638218.508062519,4950547.469858126],\"teamID\":[\"ML4\",\"MON\",\"CAL\",\"PIT\",\"FLO\",\"KCA\",\"OAK\",\"SDN\",\"MIN\",\"CLE\",\"TBA\",\"CIN\",\"HOU\",\"TOR\",\"BAL\",\"TEX\",\"ANA\",\"SLN\",\"SEA\",\"COL\",\"DET\",\"CHA\",\"SFN\",\"PHI\",\"MIL\",\"ATL\",\"CHN\",\"WAS\",\"NYN\",\"LAN\",\"ARI\",\"BOS\",\"MIA\",\"NYA\",\"LAA\"]}},\"id\":\"bc3aa5f2-859b-499d-848a-3a97b2736eba\",\"type\":\"ColumnDataSource\"},{\"attributes\":{},\"id\":\"0c75ccc5-5357-445e-95e6-2f80e82eaf83\",\"type\":\"ToolEvents\"},{\"attributes\":{},\"id\":\"f43f9266-213d-4c55-acd6-03210f758590\",\"type\":\"BasicTicker\"},{\"attributes\":{\"bottom_units\":\"screen\",\"fill_alpha\":{\"value\":0.5},\"fill_color\":{\"value\":\"lightgrey\"},\"left_units\":\"screen\",\"level\":\"overlay\",\"line_alpha\":{\"value\":1.0},\"line_color\":{\"value\":\"black\"},\"line_dash\":[4,4],\"line_width\":{\"value\":2},\"plot\":null,\"render_mode\":\"css\",\"right_units\":\"screen\",\"top_units\":\"screen\"},\"id\":\"2596c9e8-39b0-47ca-a3f1-15287afcca5d\",\"type\":\"BoxAnnotation\"},{\"attributes\":{\"callback\":null,\"factors\":[\"ML4\",\"MON\",\"CAL\",\"PIT\",\"FLO\",\"KCA\",\"OAK\",\"SDN\",\"MIN\",\"CLE\",\"TBA\",\"CIN\",\"HOU\",\"TOR\",\"BAL\",\"TEX\",\"ANA\",\"SLN\",\"SEA\",\"COL\",\"DET\",\"CHA\",\"SFN\",\"PHI\",\"MIL\",\"ATL\",\"CHN\",\"WAS\",\"NYN\",\"LAN\",\"ARI\",\"BOS\",\"MIA\",\"NYA\",\"LAA\"]},\"id\":\"aa817edc-ab16-4bda-850e-9c5e9141dfc6\",\"type\":\"FactorRange\"},{\"attributes\":{\"below\":[{\"id\":\"eb993097-caa8-4386-b39f-35ecc9a3789f\",\"type\":\"CategoricalAxis\"}],\"left\":[{\"id\":\"23934e2a-0485-4404-b468-a32360da66d8\",\"type\":\"LinearAxis\"}],\"renderers\":[{\"id\":\"eb993097-caa8-4386-b39f-35ecc9a3789f\",\"type\":\"CategoricalAxis\"},{\"id\":\"1230664a-e0d4-4b4c-b6a7-b564303eac50\",\"type\":\"Grid\"},{\"id\":\"23934e2a-0485-4404-b468-a32360da66d8\",\"type\":\"LinearAxis\"},{\"id\":\"512bc7a6-a40f-47cb-8aa2-6aaebaaa38f4\",\"type\":\"Grid\"},{\"id\":\"2596c9e8-39b0-47ca-a3f1-15287afcca5d\",\"type\":\"BoxAnnotation\"},{\"id\":\"09534edb-f086-4332-8bd1-3d16e1b6a0ab\",\"type\":\"GlyphRenderer\"}],\"tool_events\":{\"id\":\"0c75ccc5-5357-445e-95e6-2f80e82eaf83\",\"type\":\"ToolEvents\"},\"tools\":[{\"id\":\"f3c0fab5-dabb-4d9b-90d9-a1a39b28eb26\",\"type\":\"PanTool\"},{\"id\":\"1213d84c-5496-4ec4-9d6c-9953d60c21b9\",\"type\":\"WheelZoomTool\"},{\"id\":\"6a5de49c-8dd8-4d62-93d9-57de228ef2f5\",\"type\":\"BoxZoomTool\"},{\"id\":\"5c614aa5-2874-4e65-b533-d1ccfbd8c3c4\",\"type\":\"PreviewSaveTool\"},{\"id\":\"712a20e6-e29d-4af2-8ed2-d97fb32ef468\",\"type\":\"ResizeTool\"},{\"id\":\"91d5691a-0250-4c63-b306-d3d95e3c951b\",\"type\":\"ResetTool\"},{\"id\":\"3ff4d956-06a6-47c7-93e0-fee0077d9e01\",\"type\":\"HelpTool\"}],\"x_range\":{\"id\":\"aa817edc-ab16-4bda-850e-9c5e9141dfc6\",\"type\":\"FactorRange\"},\"y_range\":{\"id\":\"1a7a7827-711d-4d99-bcdb-19b067f76814\",\"type\":\"DataRange1d\"}},\"id\":\"1567cf8c-901f-4e40-aae1-8829e3cc8539\",\"subtype\":\"Figure\",\"type\":\"Plot\"},{\"attributes\":{},\"id\":\"c19702d3-4abb-40b8-b1f2-0e16deac361b\",\"type\":\"CategoricalTickFormatter\"},{\"attributes\":{\"plot\":{\"id\":\"1567cf8c-901f-4e40-aae1-8829e3cc8539\",\"subtype\":\"Figure\",\"type\":\"Plot\"}},\"id\":\"1213d84c-5496-4ec4-9d6c-9953d60c21b9\",\"type\":\"WheelZoomTool\"},{\"attributes\":{\"plot\":{\"id\":\"1567cf8c-901f-4e40-aae1-8829e3cc8539\",\"subtype\":\"Figure\",\"type\":\"Plot\"}},\"id\":\"f3c0fab5-dabb-4d9b-90d9-a1a39b28eb26\",\"type\":\"PanTool\"},{\"attributes\":{\"callback\":null},\"id\":\"1a7a7827-711d-4d99-bcdb-19b067f76814\",\"type\":\"DataRange1d\"},{\"attributes\":{\"plot\":{\"id\":\"1567cf8c-901f-4e40-aae1-8829e3cc8539\",\"subtype\":\"Figure\",\"type\":\"Plot\"}},\"id\":\"3ff4d956-06a6-47c7-93e0-fee0077d9e01\",\"type\":\"HelpTool\"},{\"attributes\":{\"data_source\":{\"id\":\"bc3aa5f2-859b-499d-848a-3a97b2736eba\",\"type\":\"ColumnDataSource\"},\"glyph\":{\"id\":\"2809b14b-d6f1-4897-9656-04cf8c8bb091\",\"type\":\"Circle\"},\"hover_glyph\":null,\"nonselection_glyph\":{\"id\":\"ec70a90f-67d3-401b-b27e-bef56d7df459\",\"type\":\"Circle\"},\"selection_glyph\":null},\"id\":\"09534edb-f086-4332-8bd1-3d16e1b6a0ab\",\"type\":\"GlyphRenderer\"},{\"attributes\":{\"overlay\":{\"id\":\"2596c9e8-39b0-47ca-a3f1-15287afcca5d\",\"type\":\"BoxAnnotation\"},\"plot\":{\"id\":\"1567cf8c-901f-4e40-aae1-8829e3cc8539\",\"subtype\":\"Figure\",\"type\":\"Plot\"}},\"id\":\"6a5de49c-8dd8-4d62-93d9-57de228ef2f5\",\"type\":\"BoxZoomTool\"},{\"attributes\":{\"plot\":{\"id\":\"1567cf8c-901f-4e40-aae1-8829e3cc8539\",\"subtype\":\"Figure\",\"type\":\"Plot\"}},\"id\":\"712a20e6-e29d-4af2-8ed2-d97fb32ef468\",\"type\":\"ResizeTool\"},{\"attributes\":{\"formatter\":{\"id\":\"c19702d3-4abb-40b8-b1f2-0e16deac361b\",\"type\":\"CategoricalTickFormatter\"},\"plot\":{\"id\":\"1567cf8c-901f-4e40-aae1-8829e3cc8539\",\"subtype\":\"Figure\",\"type\":\"Plot\"},\"ticker\":{\"id\":\"afe912b8-9dcb-45a7-9034-b4fa542becbc\",\"type\":\"CategoricalTicker\"}},\"id\":\"eb993097-caa8-4386-b39f-35ecc9a3789f\",\"type\":\"CategoricalAxis\"},{\"attributes\":{\"dimension\":1,\"plot\":{\"id\":\"1567cf8c-901f-4e40-aae1-8829e3cc8539\",\"subtype\":\"Figure\",\"type\":\"Plot\"},\"ticker\":{\"id\":\"f43f9266-213d-4c55-acd6-03210f758590\",\"type\":\"BasicTicker\"}},\"id\":\"512bc7a6-a40f-47cb-8aa2-6aaebaaa38f4\",\"type\":\"Grid\"},{\"attributes\":{},\"id\":\"429607d8-eae9-4d72-a5c7-8f64523648e4\",\"type\":\"BasicTickFormatter\"},{\"attributes\":{\"plot\":{\"id\":\"1567cf8c-901f-4e40-aae1-8829e3cc8539\",\"subtype\":\"Figure\",\"type\":\"Plot\"}},\"id\":\"5c614aa5-2874-4e65-b533-d1ccfbd8c3c4\",\"type\":\"PreviewSaveTool\"}],\"root_ids\":[\"1567cf8c-901f-4e40-aae1-8829e3cc8539\"]},\"title\":\"Bokeh Application\",\"version\":\"0.11.1\"}};\n",
       "            var render_items = [{\"docid\":\"c1c79c46-6603-41cf-a9f2-d146932649c9\",\"elementid\":\"9a6a01d2-4572-48ab-b4fa-c63c3148d815\",\"modelid\":\"1567cf8c-901f-4e40-aae1-8829e3cc8539\",\"notebook_comms_target\":\"72620839-79d4-4d2c-860c-dc2bbf9fa734\"}];\n",
       "            \n",
       "            Bokeh.embed.embed_items(docs_json, render_items);\n",
       "        });\n",
       "      },\n",
       "      function(Bokeh) {\n",
       "      }\n",
       "    ];\n",
       "  \n",
       "    function run_inline_js() {\n",
       "      for (var i = 0; i < inline_js.length; i++) {\n",
       "        inline_js[i](window.Bokeh);\n",
       "      }\n",
       "    }\n",
       "  \n",
       "    if (window._bokeh_is_loading === 0) {\n",
       "      console.log(\"Bokeh: BokehJS loaded, going straight to plotting\");\n",
       "      run_inline_js();\n",
       "    } else {\n",
       "      load_libs(js_urls, function() {\n",
       "        console.log(\"Bokeh: BokehJS plotting callback run at\", now());\n",
       "        run_inline_js();\n",
       "      });\n",
       "    }\n",
       "  }(this));\n",
       "</script>"
      ]
     },
     "metadata": {},
     "output_type": "display_data"
    },
    {
     "data": {
      "text/html": [
       "<p><code>&lt;Bokeh Notebook handle for <strong>In[11]</strong>&gt;</code></p>"
      ],
      "text/plain": [
       "<bokeh.io._CommsHandle at 0x11084a208>"
      ]
     },
     "execution_count": 11,
     "metadata": {},
     "output_type": "execute_result"
    }
   ],
   "source": [
    "df = salary_by_team.sort_values('mean')\n",
    "source = ColumnDataSource(df)\n",
    "p = bokeh.plotting.figure(x_range=list(df.index))\n",
    "p.scatter(x=\"teamID\", y=\"mean\", source=source)\n",
    "bokeh.io.show(p)"
   ]
  },
  {
   "cell_type": "markdown",
   "metadata": {},
   "source": [
    "Hmm, can't read the y axis very well..."
   ]
  },
  {
   "cell_type": "code",
   "execution_count": 12,
   "metadata": {
    "collapsed": false
   },
   "outputs": [
    {
     "data": {
      "text/html": [
       "\n",
       "\n",
       "    <div class=\"plotdiv\" id=\"96a2da5c-9cc7-4384-8c60-d9735a23fc91\"></div>\n",
       "<script type=\"text/javascript\">\n",
       "  \n",
       "  (function(global) {\n",
       "    function now() {\n",
       "      return new Date();\n",
       "    }\n",
       "  \n",
       "    if (typeof (window._bokeh_onload_callbacks) === \"undefined\") {\n",
       "      window._bokeh_onload_callbacks = [];\n",
       "    }\n",
       "  \n",
       "    function run_callbacks() {\n",
       "      window._bokeh_onload_callbacks.forEach(function(callback) { callback() });\n",
       "      delete window._bokeh_onload_callbacks\n",
       "      console.info(\"Bokeh: all callbacks have finished\");\n",
       "    }\n",
       "  \n",
       "    function load_libs(js_urls, callback) {\n",
       "      window._bokeh_onload_callbacks.push(callback);\n",
       "      if (window._bokeh_is_loading > 0) {\n",
       "        console.log(\"Bokeh: BokehJS is being loaded, scheduling callback at\", now());\n",
       "        return null;\n",
       "      }\n",
       "      if (js_urls == null || js_urls.length === 0) {\n",
       "        run_callbacks();\n",
       "        return null;\n",
       "      }\n",
       "      console.log(\"Bokeh: BokehJS not loaded, scheduling load and callback at\", now());\n",
       "      window._bokeh_is_loading = js_urls.length;\n",
       "      for (var i = 0; i < js_urls.length; i++) {\n",
       "        var url = js_urls[i];\n",
       "        var s = document.createElement('script');\n",
       "        s.src = url;\n",
       "        s.async = false;\n",
       "        s.onreadystatechange = s.onload = function() {\n",
       "          window._bokeh_is_loading--;\n",
       "          if (window._bokeh_is_loading === 0) {\n",
       "            console.log(\"Bokeh: all BokehJS libraries loaded\");\n",
       "            run_callbacks()\n",
       "          }\n",
       "        };\n",
       "        s.onerror = function() {\n",
       "          console.warn(\"failed to load library \" + url);\n",
       "        };\n",
       "        console.log(\"Bokeh: injecting script tag for BokehJS library: \", url);\n",
       "        document.getElementsByTagName(\"head\")[0].appendChild(s);\n",
       "      }\n",
       "    };var element = document.getElementById(\"96a2da5c-9cc7-4384-8c60-d9735a23fc91\");\n",
       "    if (element == null) {\n",
       "      console.log(\"Bokeh: ERROR: autoload.js configured with elementid '96a2da5c-9cc7-4384-8c60-d9735a23fc91' but no matching script tag was found. \")\n",
       "      return false;\n",
       "    }\n",
       "  \n",
       "    var js_urls = [];\n",
       "  \n",
       "    var inline_js = [\n",
       "      function(Bokeh) {\n",
       "        Bokeh.$(function() {\n",
       "            var docs_json = {\"1b8a4502-835b-46c4-b6bf-5e0e0b5fdb00\":{\"roots\":{\"references\":[{\"attributes\":{\"plot\":{\"id\":\"cf6f44f7-10b0-4886-ac82-98eda57f8dae\",\"subtype\":\"Figure\",\"type\":\"Plot\"}},\"id\":\"7b8269e5-8671-43d2-bb7f-32444ee84aca\",\"type\":\"WheelZoomTool\"},{\"attributes\":{\"formatter\":{\"id\":\"429607d8-eae9-4d72-a5c7-8f64523648e4\",\"type\":\"BasicTickFormatter\"},\"plot\":{\"id\":\"1567cf8c-901f-4e40-aae1-8829e3cc8539\",\"subtype\":\"Figure\",\"type\":\"Plot\"},\"ticker\":{\"id\":\"f43f9266-213d-4c55-acd6-03210f758590\",\"type\":\"BasicTicker\"}},\"id\":\"23934e2a-0485-4404-b468-a32360da66d8\",\"type\":\"LinearAxis\"},{\"attributes\":{\"plot\":{\"id\":\"1567cf8c-901f-4e40-aae1-8829e3cc8539\",\"subtype\":\"Figure\",\"type\":\"Plot\"}},\"id\":\"91d5691a-0250-4c63-b306-d3d95e3c951b\",\"type\":\"ResetTool\"},{\"attributes\":{\"fill_alpha\":{\"value\":0.1},\"fill_color\":{\"value\":\"#1f77b4\"},\"line_alpha\":{\"value\":0.1},\"line_color\":{\"value\":\"#1f77b4\"},\"x\":{\"field\":\"teamID\"},\"y\":{\"field\":\"mean\"}},\"id\":\"4096d7e6-f7a0-444c-bad9-bfb7ba9c3c51\",\"type\":\"Circle\"},{\"attributes\":{\"bottom_units\":\"screen\",\"fill_alpha\":{\"value\":0.5},\"fill_color\":{\"value\":\"lightgrey\"},\"left_units\":\"screen\",\"level\":\"overlay\",\"line_alpha\":{\"value\":1.0},\"line_color\":{\"value\":\"black\"},\"line_dash\":[4,4],\"line_width\":{\"value\":2},\"plot\":null,\"render_mode\":\"css\",\"right_units\":\"screen\",\"top_units\":\"screen\"},\"id\":\"8fac1c54-2951-4bae-9ab7-5f5a69089f57\",\"type\":\"BoxAnnotation\"},{\"attributes\":{},\"id\":\"429607d8-eae9-4d72-a5c7-8f64523648e4\",\"type\":\"BasicTickFormatter\"},{\"attributes\":{\"below\":[{\"id\":\"7600e734-84f5-4561-91d7-7720a917d3a8\",\"type\":\"CategoricalAxis\"}],\"left\":[{\"id\":\"2017aab3-9d6d-4d4b-8c81-a26beabab7b7\",\"type\":\"LinearAxis\"}],\"renderers\":[{\"id\":\"7600e734-84f5-4561-91d7-7720a917d3a8\",\"type\":\"CategoricalAxis\"},{\"id\":\"9859341d-8bc1-4f42-a4db-b870616b5407\",\"type\":\"Grid\"},{\"id\":\"2017aab3-9d6d-4d4b-8c81-a26beabab7b7\",\"type\":\"LinearAxis\"},{\"id\":\"ae8e806b-293f-47cc-bbe5-b02da336aa39\",\"type\":\"Grid\"},{\"id\":\"8fac1c54-2951-4bae-9ab7-5f5a69089f57\",\"type\":\"BoxAnnotation\"},{\"id\":\"9db66536-cfea-4f4a-bd5a-42bad1d6b525\",\"type\":\"GlyphRenderer\"}],\"tool_events\":{\"id\":\"d81014cb-a9ff-4d0a-9ec2-8a131aceb2ab\",\"type\":\"ToolEvents\"},\"tools\":[{\"id\":\"5837330a-f4de-494d-9ff8-8b8f765be3de\",\"type\":\"PanTool\"},{\"id\":\"7b8269e5-8671-43d2-bb7f-32444ee84aca\",\"type\":\"WheelZoomTool\"},{\"id\":\"75caeff2-fa55-4929-ac69-30474d75c740\",\"type\":\"BoxZoomTool\"},{\"id\":\"91397304-e346-4af1-9f8e-2d151c027fd2\",\"type\":\"PreviewSaveTool\"},{\"id\":\"e4bd50eb-6051-4a36-80c8-b7d6997ce7e3\",\"type\":\"ResizeTool\"},{\"id\":\"07db9d1d-aace-4bff-a9b9-ad184aaf8a30\",\"type\":\"ResetTool\"},{\"id\":\"bf60ebc2-35d2-4b00-b036-a819dc2b1bed\",\"type\":\"HelpTool\"}],\"x_range\":{\"id\":\"2cef1b64-2838-4f76-a848-49caff272e56\",\"type\":\"FactorRange\"},\"y_range\":{\"id\":\"3696ff42-b277-4350-b1bb-af27c49bbecb\",\"type\":\"DataRange1d\"}},\"id\":\"cf6f44f7-10b0-4886-ac82-98eda57f8dae\",\"subtype\":\"Figure\",\"type\":\"Plot\"},{\"attributes\":{\"plot\":{\"id\":\"cf6f44f7-10b0-4886-ac82-98eda57f8dae\",\"subtype\":\"Figure\",\"type\":\"Plot\"}},\"id\":\"07db9d1d-aace-4bff-a9b9-ad184aaf8a30\",\"type\":\"ResetTool\"},{\"attributes\":{\"plot\":{\"id\":\"cf6f44f7-10b0-4886-ac82-98eda57f8dae\",\"subtype\":\"Figure\",\"type\":\"Plot\"},\"ticker\":{\"id\":\"dfc9aef4-e290-45c9-bf38-31b45317fce1\",\"type\":\"CategoricalTicker\"}},\"id\":\"9859341d-8bc1-4f42-a4db-b870616b5407\",\"type\":\"Grid\"},{\"attributes\":{\"plot\":{\"id\":\"1567cf8c-901f-4e40-aae1-8829e3cc8539\",\"subtype\":\"Figure\",\"type\":\"Plot\"},\"ticker\":{\"id\":\"afe912b8-9dcb-45a7-9034-b4fa542becbc\",\"type\":\"CategoricalTicker\"}},\"id\":\"1230664a-e0d4-4b4c-b6a7-b564303eac50\",\"type\":\"Grid\"},{\"attributes\":{\"formatter\":{\"id\":\"16a111de-de84-4ea9-b730-562a632d58af\",\"type\":\"BasicTickFormatter\"},\"plot\":{\"id\":\"cf6f44f7-10b0-4886-ac82-98eda57f8dae\",\"subtype\":\"Figure\",\"type\":\"Plot\"},\"ticker\":{\"id\":\"666e04f2-0e73-4e19-ac37-d6428b4e456a\",\"type\":\"BasicTicker\"}},\"id\":\"2017aab3-9d6d-4d4b-8c81-a26beabab7b7\",\"type\":\"LinearAxis\"},{\"attributes\":{\"plot\":{\"id\":\"1567cf8c-901f-4e40-aae1-8829e3cc8539\",\"subtype\":\"Figure\",\"type\":\"Plot\"}},\"id\":\"3ff4d956-06a6-47c7-93e0-fee0077d9e01\",\"type\":\"HelpTool\"},{\"attributes\":{\"overlay\":{\"id\":\"2596c9e8-39b0-47ca-a3f1-15287afcca5d\",\"type\":\"BoxAnnotation\"},\"plot\":{\"id\":\"1567cf8c-901f-4e40-aae1-8829e3cc8539\",\"subtype\":\"Figure\",\"type\":\"Plot\"}},\"id\":\"6a5de49c-8dd8-4d62-93d9-57de228ef2f5\",\"type\":\"BoxZoomTool\"},{\"attributes\":{\"plot\":{\"id\":\"1567cf8c-901f-4e40-aae1-8829e3cc8539\",\"subtype\":\"Figure\",\"type\":\"Plot\"}},\"id\":\"1213d84c-5496-4ec4-9d6c-9953d60c21b9\",\"type\":\"WheelZoomTool\"},{\"attributes\":{\"dimension\":1,\"plot\":{\"id\":\"cf6f44f7-10b0-4886-ac82-98eda57f8dae\",\"subtype\":\"Figure\",\"type\":\"Plot\"},\"ticker\":{\"id\":\"666e04f2-0e73-4e19-ac37-d6428b4e456a\",\"type\":\"BasicTicker\"}},\"id\":\"ae8e806b-293f-47cc-bbe5-b02da336aa39\",\"type\":\"Grid\"},{\"attributes\":{\"callback\":null},\"id\":\"1a7a7827-711d-4d99-bcdb-19b067f76814\",\"type\":\"DataRange1d\"},{\"attributes\":{},\"id\":\"666e04f2-0e73-4e19-ac37-d6428b4e456a\",\"type\":\"BasicTicker\"},{\"attributes\":{\"data_source\":{\"id\":\"bc3aa5f2-859b-499d-848a-3a97b2736eba\",\"type\":\"ColumnDataSource\"},\"glyph\":{\"id\":\"2809b14b-d6f1-4897-9656-04cf8c8bb091\",\"type\":\"Circle\"},\"hover_glyph\":null,\"nonselection_glyph\":{\"id\":\"ec70a90f-67d3-401b-b27e-bef56d7df459\",\"type\":\"Circle\"},\"selection_glyph\":null},\"id\":\"09534edb-f086-4332-8bd1-3d16e1b6a0ab\",\"type\":\"GlyphRenderer\"},{\"attributes\":{\"plot\":{\"id\":\"1567cf8c-901f-4e40-aae1-8829e3cc8539\",\"subtype\":\"Figure\",\"type\":\"Plot\"}},\"id\":\"712a20e6-e29d-4af2-8ed2-d97fb32ef468\",\"type\":\"ResizeTool\"},{\"attributes\":{},\"id\":\"b48ed5ef-1c44-460e-b909-0c66b59aac6c\",\"type\":\"CategoricalTickFormatter\"},{\"attributes\":{\"plot\":{\"id\":\"cf6f44f7-10b0-4886-ac82-98eda57f8dae\",\"subtype\":\"Figure\",\"type\":\"Plot\"}},\"id\":\"bf60ebc2-35d2-4b00-b036-a819dc2b1bed\",\"type\":\"HelpTool\"},{\"attributes\":{\"data_source\":{\"id\":\"4e268405-1ef4-4851-986a-f677dea2a2da\",\"type\":\"ColumnDataSource\"},\"glyph\":{\"id\":\"31bdd69d-51d6-4804-89b1-9db00aa09f51\",\"type\":\"Circle\"},\"hover_glyph\":null,\"nonselection_glyph\":{\"id\":\"4096d7e6-f7a0-444c-bad9-bfb7ba9c3c51\",\"type\":\"Circle\"},\"selection_glyph\":null},\"id\":\"9db66536-cfea-4f4a-bd5a-42bad1d6b525\",\"type\":\"GlyphRenderer\"},{\"attributes\":{\"overlay\":{\"id\":\"8fac1c54-2951-4bae-9ab7-5f5a69089f57\",\"type\":\"BoxAnnotation\"},\"plot\":{\"id\":\"cf6f44f7-10b0-4886-ac82-98eda57f8dae\",\"subtype\":\"Figure\",\"type\":\"Plot\"}},\"id\":\"75caeff2-fa55-4929-ac69-30474d75c740\",\"type\":\"BoxZoomTool\"},{\"attributes\":{},\"id\":\"16a111de-de84-4ea9-b730-562a632d58af\",\"type\":\"BasicTickFormatter\"},{\"attributes\":{},\"id\":\"dfc9aef4-e290-45c9-bf38-31b45317fce1\",\"type\":\"CategoricalTicker\"},{\"attributes\":{\"callback\":null},\"id\":\"3696ff42-b277-4350-b1bb-af27c49bbecb\",\"type\":\"DataRange1d\"},{\"attributes\":{},\"id\":\"afe912b8-9dcb-45a7-9034-b4fa542becbc\",\"type\":\"CategoricalTicker\"},{\"attributes\":{\"fill_alpha\":{\"value\":0.1},\"fill_color\":{\"value\":\"#1f77b4\"},\"line_alpha\":{\"value\":0.1},\"line_color\":{\"value\":\"#1f77b4\"},\"x\":{\"field\":\"teamID\"},\"y\":{\"field\":\"mean\"}},\"id\":\"ec70a90f-67d3-401b-b27e-bef56d7df459\",\"type\":\"Circle\"},{\"attributes\":{\"plot\":{\"id\":\"cf6f44f7-10b0-4886-ac82-98eda57f8dae\",\"subtype\":\"Figure\",\"type\":\"Plot\"}},\"id\":\"5837330a-f4de-494d-9ff8-8b8f765be3de\",\"type\":\"PanTool\"},{\"attributes\":{\"callback\":null,\"column_names\":[\"amax\",\"std\",\"amin\",\"ratio\",\"mean\",\"teamID\"],\"data\":{\"amax\":[5875000.0,11500000.0,5375000.0,16500000.0,14936667.0,13000000.0,13500000.0,15505142.0,23000000.0,15000000.0,10125000.0,18910655.0,19369019.0,19700000.0,17000000.0,22000000.0,13166667.0,16333327.0,20557143.0,20275000.0,23000000.0,17000000.0,22250000.0,25000000.0,15500000.0,16061802.0,19000000.0,16571429.0,23145011.0,23854494.0,16000000.0,22500000.0,19000000.0,33000000.0,26187500.0],\"amin\":[60000.0,60000.0,60000.0,0.0,50000.0,60000.0,60000.0,60000.0,60000.0,60000.0,170000.0,60000.0,60000.0,60000.0,60000.0,60000.0,150000.0,60000.0,60000.0,109000.0,60000.0,50000.0,60000.0,60000.0,170000.0,60000.0,60000.0,316000.0,60000.0,60000.0,170000.0,60000.0,480000.0,0.0,316000.0],\"mean\":[613243.5800524935,707458.8578856152,739073.179347826,1077989.6803760282,1147986.4030612244,1299025.7868080095,1303094.7988304093,1317959.64354067,1525031.650385604,1525794.9584775087,1528399.5054945054,1568035.2813238772,1705561.3130434782,1768710.9600484262,1785712.3251461987,1874651.551143201,1895109.2024291498,1928832.5547785547,1932288.913202934,1945628.4724025973,1980834.9902080784,1992653.5012315272,2044198.6841463414,2092230.9326364691,2095008.9668141592,2130474.682577566,2185518.65408039,2243755.1576923076,2317349.977245509,2346982.6980255516,2428195.9126637555,2692113.8568075118,2974115.68627451,3608860.1485380116,4151107.171875],\"ratio\":[97.91666666666667,191.66666666666666,89.58333333333333,\"Infinity\",298.73334,216.66666666666666,225.0,258.41903333333335,383.3333333333333,250.0,59.55882352941177,315.17758333333336,322.8169833333333,328.3333333333333,283.3333333333333,366.6666666666667,87.77778,272.2221166666667,342.61905,186.0091743119266,383.3333333333333,340.0,370.8333333333333,416.6666666666667,91.17647058823529,267.6967,316.6666666666667,52.44123101265823,385.7501833333333,397.5749,94.11764705882354,375.0,39.583333333333336,\"Infinity\",82.87183544303798],\"std\":[853533.7163845291,1192678.1516411488,960628.5390361849,1720168.0769492872,1808397.0244389344,1951652.8801389195,2000776.9925032738,1971054.4478543361,2684866.4482354484,2251972.7754913056,2011091.1980497667,2489143.8459413988,3083466.905934261,2714273.250736591,2491109.1857474186,3014408.0266307434,2667146.9245296065,3014710.9368142053,3047418.722298252,2980228.8372444157,3388685.94679665,3185499.881674104,3305606.755051485,3607534.5605039247,2733957.135136098,3373518.217679483,3419997.897579085,2922931.2647121297,3693195.594629475,3598846.2978953356,2971520.2250774694,3861801.8178376732,4339254.417587083,5638218.508062519,4950547.469858126],\"teamID\":[\"ML4\",\"MON\",\"CAL\",\"PIT\",\"FLO\",\"KCA\",\"OAK\",\"SDN\",\"MIN\",\"CLE\",\"TBA\",\"CIN\",\"HOU\",\"TOR\",\"BAL\",\"TEX\",\"ANA\",\"SLN\",\"SEA\",\"COL\",\"DET\",\"CHA\",\"SFN\",\"PHI\",\"MIL\",\"ATL\",\"CHN\",\"WAS\",\"NYN\",\"LAN\",\"ARI\",\"BOS\",\"MIA\",\"NYA\",\"LAA\"]}},\"id\":\"bc3aa5f2-859b-499d-848a-3a97b2736eba\",\"type\":\"ColumnDataSource\"},{\"attributes\":{\"fill_color\":{\"value\":\"#1f77b4\"},\"line_color\":{\"value\":\"#1f77b4\"},\"x\":{\"field\":\"teamID\"},\"y\":{\"field\":\"mean\"}},\"id\":\"2809b14b-d6f1-4897-9656-04cf8c8bb091\",\"type\":\"Circle\"},{\"attributes\":{},\"id\":\"f43f9266-213d-4c55-acd6-03210f758590\",\"type\":\"BasicTicker\"},{\"attributes\":{\"bottom_units\":\"screen\",\"fill_alpha\":{\"value\":0.5},\"fill_color\":{\"value\":\"lightgrey\"},\"left_units\":\"screen\",\"level\":\"overlay\",\"line_alpha\":{\"value\":1.0},\"line_color\":{\"value\":\"black\"},\"line_dash\":[4,4],\"line_width\":{\"value\":2},\"plot\":null,\"render_mode\":\"css\",\"right_units\":\"screen\",\"top_units\":\"screen\"},\"id\":\"2596c9e8-39b0-47ca-a3f1-15287afcca5d\",\"type\":\"BoxAnnotation\"},{\"attributes\":{},\"id\":\"0c75ccc5-5357-445e-95e6-2f80e82eaf83\",\"type\":\"ToolEvents\"},{\"attributes\":{\"callback\":null,\"factors\":[\"ML4\",\"MON\",\"CAL\",\"PIT\",\"FLO\",\"KCA\",\"OAK\",\"SDN\",\"MIN\",\"CLE\",\"TBA\",\"CIN\",\"HOU\",\"TOR\",\"BAL\",\"TEX\",\"ANA\",\"SLN\",\"SEA\",\"COL\",\"DET\",\"CHA\",\"SFN\",\"PHI\",\"MIL\",\"ATL\",\"CHN\",\"WAS\",\"NYN\",\"LAN\",\"ARI\",\"BOS\",\"MIA\",\"NYA\",\"LAA\"]},\"id\":\"aa817edc-ab16-4bda-850e-9c5e9141dfc6\",\"type\":\"FactorRange\"},{\"attributes\":{\"formatter\":{\"id\":\"c19702d3-4abb-40b8-b1f2-0e16deac361b\",\"type\":\"CategoricalTickFormatter\"},\"plot\":{\"id\":\"1567cf8c-901f-4e40-aae1-8829e3cc8539\",\"subtype\":\"Figure\",\"type\":\"Plot\"},\"ticker\":{\"id\":\"afe912b8-9dcb-45a7-9034-b4fa542becbc\",\"type\":\"CategoricalTicker\"}},\"id\":\"eb993097-caa8-4386-b39f-35ecc9a3789f\",\"type\":\"CategoricalAxis\"},{\"attributes\":{},\"id\":\"c19702d3-4abb-40b8-b1f2-0e16deac361b\",\"type\":\"CategoricalTickFormatter\"},{\"attributes\":{\"plot\":{\"id\":\"cf6f44f7-10b0-4886-ac82-98eda57f8dae\",\"subtype\":\"Figure\",\"type\":\"Plot\"}},\"id\":\"e4bd50eb-6051-4a36-80c8-b7d6997ce7e3\",\"type\":\"ResizeTool\"},{\"attributes\":{\"fill_color\":{\"value\":\"#1f77b4\"},\"line_color\":{\"value\":\"#1f77b4\"},\"x\":{\"field\":\"teamID\"},\"y\":{\"field\":\"mean\"}},\"id\":\"31bdd69d-51d6-4804-89b1-9db00aa09f51\",\"type\":\"Circle\"},{\"attributes\":{\"plot\":{\"id\":\"1567cf8c-901f-4e40-aae1-8829e3cc8539\",\"subtype\":\"Figure\",\"type\":\"Plot\"}},\"id\":\"f3c0fab5-dabb-4d9b-90d9-a1a39b28eb26\",\"type\":\"PanTool\"},{\"attributes\":{},\"id\":\"d81014cb-a9ff-4d0a-9ec2-8a131aceb2ab\",\"type\":\"ToolEvents\"},{\"attributes\":{\"formatter\":{\"id\":\"b48ed5ef-1c44-460e-b909-0c66b59aac6c\",\"type\":\"CategoricalTickFormatter\"},\"major_label_orientation\":1.0471975511965976,\"plot\":{\"id\":\"cf6f44f7-10b0-4886-ac82-98eda57f8dae\",\"subtype\":\"Figure\",\"type\":\"Plot\"},\"ticker\":{\"id\":\"dfc9aef4-e290-45c9-bf38-31b45317fce1\",\"type\":\"CategoricalTicker\"}},\"id\":\"7600e734-84f5-4561-91d7-7720a917d3a8\",\"type\":\"CategoricalAxis\"},{\"attributes\":{\"below\":[{\"id\":\"eb993097-caa8-4386-b39f-35ecc9a3789f\",\"type\":\"CategoricalAxis\"}],\"left\":[{\"id\":\"23934e2a-0485-4404-b468-a32360da66d8\",\"type\":\"LinearAxis\"}],\"renderers\":[{\"id\":\"eb993097-caa8-4386-b39f-35ecc9a3789f\",\"type\":\"CategoricalAxis\"},{\"id\":\"1230664a-e0d4-4b4c-b6a7-b564303eac50\",\"type\":\"Grid\"},{\"id\":\"23934e2a-0485-4404-b468-a32360da66d8\",\"type\":\"LinearAxis\"},{\"id\":\"512bc7a6-a40f-47cb-8aa2-6aaebaaa38f4\",\"type\":\"Grid\"},{\"id\":\"2596c9e8-39b0-47ca-a3f1-15287afcca5d\",\"type\":\"BoxAnnotation\"},{\"id\":\"09534edb-f086-4332-8bd1-3d16e1b6a0ab\",\"type\":\"GlyphRenderer\"}],\"tool_events\":{\"id\":\"0c75ccc5-5357-445e-95e6-2f80e82eaf83\",\"type\":\"ToolEvents\"},\"tools\":[{\"id\":\"f3c0fab5-dabb-4d9b-90d9-a1a39b28eb26\",\"type\":\"PanTool\"},{\"id\":\"1213d84c-5496-4ec4-9d6c-9953d60c21b9\",\"type\":\"WheelZoomTool\"},{\"id\":\"6a5de49c-8dd8-4d62-93d9-57de228ef2f5\",\"type\":\"BoxZoomTool\"},{\"id\":\"5c614aa5-2874-4e65-b533-d1ccfbd8c3c4\",\"type\":\"PreviewSaveTool\"},{\"id\":\"712a20e6-e29d-4af2-8ed2-d97fb32ef468\",\"type\":\"ResizeTool\"},{\"id\":\"91d5691a-0250-4c63-b306-d3d95e3c951b\",\"type\":\"ResetTool\"},{\"id\":\"3ff4d956-06a6-47c7-93e0-fee0077d9e01\",\"type\":\"HelpTool\"}],\"x_range\":{\"id\":\"aa817edc-ab16-4bda-850e-9c5e9141dfc6\",\"type\":\"FactorRange\"},\"y_range\":{\"id\":\"1a7a7827-711d-4d99-bcdb-19b067f76814\",\"type\":\"DataRange1d\"}},\"id\":\"1567cf8c-901f-4e40-aae1-8829e3cc8539\",\"subtype\":\"Figure\",\"type\":\"Plot\"},{\"attributes\":{\"callback\":null,\"factors\":[\"ML4\",\"MON\",\"CAL\",\"PIT\",\"FLO\",\"KCA\",\"OAK\",\"SDN\",\"MIN\",\"CLE\",\"TBA\",\"CIN\",\"HOU\",\"TOR\",\"BAL\",\"TEX\",\"ANA\",\"SLN\",\"SEA\",\"COL\",\"DET\",\"CHA\",\"SFN\",\"PHI\",\"MIL\",\"ATL\",\"CHN\",\"WAS\",\"NYN\",\"LAN\",\"ARI\",\"BOS\",\"MIA\",\"NYA\",\"LAA\"]},\"id\":\"2cef1b64-2838-4f76-a848-49caff272e56\",\"type\":\"FactorRange\"},{\"attributes\":{\"plot\":{\"id\":\"cf6f44f7-10b0-4886-ac82-98eda57f8dae\",\"subtype\":\"Figure\",\"type\":\"Plot\"}},\"id\":\"91397304-e346-4af1-9f8e-2d151c027fd2\",\"type\":\"PreviewSaveTool\"},{\"attributes\":{\"callback\":null,\"column_names\":[\"amax\",\"std\",\"amin\",\"ratio\",\"mean\",\"teamID\"],\"data\":{\"amax\":[5875000.0,11500000.0,5375000.0,16500000.0,14936667.0,13000000.0,13500000.0,15505142.0,23000000.0,15000000.0,10125000.0,18910655.0,19369019.0,19700000.0,17000000.0,22000000.0,13166667.0,16333327.0,20557143.0,20275000.0,23000000.0,17000000.0,22250000.0,25000000.0,15500000.0,16061802.0,19000000.0,16571429.0,23145011.0,23854494.0,16000000.0,22500000.0,19000000.0,33000000.0,26187500.0],\"amin\":[60000.0,60000.0,60000.0,0.0,50000.0,60000.0,60000.0,60000.0,60000.0,60000.0,170000.0,60000.0,60000.0,60000.0,60000.0,60000.0,150000.0,60000.0,60000.0,109000.0,60000.0,50000.0,60000.0,60000.0,170000.0,60000.0,60000.0,316000.0,60000.0,60000.0,170000.0,60000.0,480000.0,0.0,316000.0],\"mean\":[613243.5800524935,707458.8578856152,739073.179347826,1077989.6803760282,1147986.4030612244,1299025.7868080095,1303094.7988304093,1317959.64354067,1525031.650385604,1525794.9584775087,1528399.5054945054,1568035.2813238772,1705561.3130434782,1768710.9600484262,1785712.3251461987,1874651.551143201,1895109.2024291498,1928832.5547785547,1932288.913202934,1945628.4724025973,1980834.9902080784,1992653.5012315272,2044198.6841463414,2092230.9326364691,2095008.9668141592,2130474.682577566,2185518.65408039,2243755.1576923076,2317349.977245509,2346982.6980255516,2428195.9126637555,2692113.8568075118,2974115.68627451,3608860.1485380116,4151107.171875],\"ratio\":[97.91666666666667,191.66666666666666,89.58333333333333,\"Infinity\",298.73334,216.66666666666666,225.0,258.41903333333335,383.3333333333333,250.0,59.55882352941177,315.17758333333336,322.8169833333333,328.3333333333333,283.3333333333333,366.6666666666667,87.77778,272.2221166666667,342.61905,186.0091743119266,383.3333333333333,340.0,370.8333333333333,416.6666666666667,91.17647058823529,267.6967,316.6666666666667,52.44123101265823,385.7501833333333,397.5749,94.11764705882354,375.0,39.583333333333336,\"Infinity\",82.87183544303798],\"std\":[853533.7163845291,1192678.1516411488,960628.5390361849,1720168.0769492872,1808397.0244389344,1951652.8801389195,2000776.9925032738,1971054.4478543361,2684866.4482354484,2251972.7754913056,2011091.1980497667,2489143.8459413988,3083466.905934261,2714273.250736591,2491109.1857474186,3014408.0266307434,2667146.9245296065,3014710.9368142053,3047418.722298252,2980228.8372444157,3388685.94679665,3185499.881674104,3305606.755051485,3607534.5605039247,2733957.135136098,3373518.217679483,3419997.897579085,2922931.2647121297,3693195.594629475,3598846.2978953356,2971520.2250774694,3861801.8178376732,4339254.417587083,5638218.508062519,4950547.469858126],\"teamID\":[\"ML4\",\"MON\",\"CAL\",\"PIT\",\"FLO\",\"KCA\",\"OAK\",\"SDN\",\"MIN\",\"CLE\",\"TBA\",\"CIN\",\"HOU\",\"TOR\",\"BAL\",\"TEX\",\"ANA\",\"SLN\",\"SEA\",\"COL\",\"DET\",\"CHA\",\"SFN\",\"PHI\",\"MIL\",\"ATL\",\"CHN\",\"WAS\",\"NYN\",\"LAN\",\"ARI\",\"BOS\",\"MIA\",\"NYA\",\"LAA\"]}},\"id\":\"4e268405-1ef4-4851-986a-f677dea2a2da\",\"type\":\"ColumnDataSource\"},{\"attributes\":{\"dimension\":1,\"plot\":{\"id\":\"1567cf8c-901f-4e40-aae1-8829e3cc8539\",\"subtype\":\"Figure\",\"type\":\"Plot\"},\"ticker\":{\"id\":\"f43f9266-213d-4c55-acd6-03210f758590\",\"type\":\"BasicTicker\"}},\"id\":\"512bc7a6-a40f-47cb-8aa2-6aaebaaa38f4\",\"type\":\"Grid\"},{\"attributes\":{\"plot\":{\"id\":\"1567cf8c-901f-4e40-aae1-8829e3cc8539\",\"subtype\":\"Figure\",\"type\":\"Plot\"}},\"id\":\"5c614aa5-2874-4e65-b533-d1ccfbd8c3c4\",\"type\":\"PreviewSaveTool\"}],\"root_ids\":[\"1567cf8c-901f-4e40-aae1-8829e3cc8539\",\"cf6f44f7-10b0-4886-ac82-98eda57f8dae\"]},\"title\":\"Bokeh Application\",\"version\":\"0.11.1\"}};\n",
       "            var render_items = [{\"docid\":\"1b8a4502-835b-46c4-b6bf-5e0e0b5fdb00\",\"elementid\":\"96a2da5c-9cc7-4384-8c60-d9735a23fc91\",\"modelid\":\"cf6f44f7-10b0-4886-ac82-98eda57f8dae\",\"notebook_comms_target\":\"af8f7814-95a7-44e4-adc1-fe1a53982877\"}];\n",
       "            \n",
       "            Bokeh.embed.embed_items(docs_json, render_items);\n",
       "        });\n",
       "      },\n",
       "      function(Bokeh) {\n",
       "      }\n",
       "    ];\n",
       "  \n",
       "    function run_inline_js() {\n",
       "      for (var i = 0; i < inline_js.length; i++) {\n",
       "        inline_js[i](window.Bokeh);\n",
       "      }\n",
       "    }\n",
       "  \n",
       "    if (window._bokeh_is_loading === 0) {\n",
       "      console.log(\"Bokeh: BokehJS loaded, going straight to plotting\");\n",
       "      run_inline_js();\n",
       "    } else {\n",
       "      load_libs(js_urls, function() {\n",
       "        console.log(\"Bokeh: BokehJS plotting callback run at\", now());\n",
       "        run_inline_js();\n",
       "      });\n",
       "    }\n",
       "  }(this));\n",
       "</script>"
      ]
     },
     "metadata": {},
     "output_type": "display_data"
    },
    {
     "data": {
      "text/html": [
       "<p><code>&lt;Bokeh Notebook handle for <strong>In[12]</strong>&gt;</code></p>"
      ],
      "text/plain": [
       "<bokeh.io._CommsHandle at 0x11087f8d0>"
      ]
     },
     "execution_count": 12,
     "metadata": {},
     "output_type": "execute_result"
    }
   ],
   "source": [
    "df = df.sort_values('mean')\n",
    "source = ColumnDataSource(df)\n",
    "p = bokeh.plotting.figure(x_range=list(df[\"teamID\"]))\n",
    "p.scatter(x=\"teamID\", y=\"mean\", source=source)\n",
    "p.xaxis.major_label_orientation = np.pi/3\n",
    "\n",
    "bokeh.io.show(p)"
   ]
  },
  {
   "cell_type": "markdown",
   "metadata": {},
   "source": [
    "Let's view a max versus ratio"
   ]
  },
  {
   "cell_type": "code",
   "execution_count": 13,
   "metadata": {
    "collapsed": false
   },
   "outputs": [
    {
     "data": {
      "text/html": [
       "\n",
       "\n",
       "    <div class=\"plotdiv\" id=\"ac0ca64a-cea8-4a2f-94d3-a462cc42a83b\"></div>\n",
       "<script type=\"text/javascript\">\n",
       "  \n",
       "  (function(global) {\n",
       "    function now() {\n",
       "      return new Date();\n",
       "    }\n",
       "  \n",
       "    if (typeof (window._bokeh_onload_callbacks) === \"undefined\") {\n",
       "      window._bokeh_onload_callbacks = [];\n",
       "    }\n",
       "  \n",
       "    function run_callbacks() {\n",
       "      window._bokeh_onload_callbacks.forEach(function(callback) { callback() });\n",
       "      delete window._bokeh_onload_callbacks\n",
       "      console.info(\"Bokeh: all callbacks have finished\");\n",
       "    }\n",
       "  \n",
       "    function load_libs(js_urls, callback) {\n",
       "      window._bokeh_onload_callbacks.push(callback);\n",
       "      if (window._bokeh_is_loading > 0) {\n",
       "        console.log(\"Bokeh: BokehJS is being loaded, scheduling callback at\", now());\n",
       "        return null;\n",
       "      }\n",
       "      if (js_urls == null || js_urls.length === 0) {\n",
       "        run_callbacks();\n",
       "        return null;\n",
       "      }\n",
       "      console.log(\"Bokeh: BokehJS not loaded, scheduling load and callback at\", now());\n",
       "      window._bokeh_is_loading = js_urls.length;\n",
       "      for (var i = 0; i < js_urls.length; i++) {\n",
       "        var url = js_urls[i];\n",
       "        var s = document.createElement('script');\n",
       "        s.src = url;\n",
       "        s.async = false;\n",
       "        s.onreadystatechange = s.onload = function() {\n",
       "          window._bokeh_is_loading--;\n",
       "          if (window._bokeh_is_loading === 0) {\n",
       "            console.log(\"Bokeh: all BokehJS libraries loaded\");\n",
       "            run_callbacks()\n",
       "          }\n",
       "        };\n",
       "        s.onerror = function() {\n",
       "          console.warn(\"failed to load library \" + url);\n",
       "        };\n",
       "        console.log(\"Bokeh: injecting script tag for BokehJS library: \", url);\n",
       "        document.getElementsByTagName(\"head\")[0].appendChild(s);\n",
       "      }\n",
       "    };var element = document.getElementById(\"ac0ca64a-cea8-4a2f-94d3-a462cc42a83b\");\n",
       "    if (element == null) {\n",
       "      console.log(\"Bokeh: ERROR: autoload.js configured with elementid 'ac0ca64a-cea8-4a2f-94d3-a462cc42a83b' but no matching script tag was found. \")\n",
       "      return false;\n",
       "    }\n",
       "  \n",
       "    var js_urls = [];\n",
       "  \n",
       "    var inline_js = [\n",
       "      function(Bokeh) {\n",
       "        Bokeh.$(function() {\n",
       "            var docs_json = {\"e26c87a8-274a-40ff-88be-3c12cdf4a3ba\":{\"roots\":{\"references\":[{\"attributes\":{\"formatter\":{\"id\":\"429607d8-eae9-4d72-a5c7-8f64523648e4\",\"type\":\"BasicTickFormatter\"},\"plot\":{\"id\":\"1567cf8c-901f-4e40-aae1-8829e3cc8539\",\"subtype\":\"Figure\",\"type\":\"Plot\"},\"ticker\":{\"id\":\"f43f9266-213d-4c55-acd6-03210f758590\",\"type\":\"BasicTicker\"}},\"id\":\"23934e2a-0485-4404-b468-a32360da66d8\",\"type\":\"LinearAxis\"},{\"attributes\":{\"below\":[{\"id\":\"7600e734-84f5-4561-91d7-7720a917d3a8\",\"type\":\"CategoricalAxis\"}],\"left\":[{\"id\":\"2017aab3-9d6d-4d4b-8c81-a26beabab7b7\",\"type\":\"LinearAxis\"}],\"renderers\":[{\"id\":\"7600e734-84f5-4561-91d7-7720a917d3a8\",\"type\":\"CategoricalAxis\"},{\"id\":\"9859341d-8bc1-4f42-a4db-b870616b5407\",\"type\":\"Grid\"},{\"id\":\"2017aab3-9d6d-4d4b-8c81-a26beabab7b7\",\"type\":\"LinearAxis\"},{\"id\":\"ae8e806b-293f-47cc-bbe5-b02da336aa39\",\"type\":\"Grid\"},{\"id\":\"8fac1c54-2951-4bae-9ab7-5f5a69089f57\",\"type\":\"BoxAnnotation\"},{\"id\":\"9db66536-cfea-4f4a-bd5a-42bad1d6b525\",\"type\":\"GlyphRenderer\"}],\"tool_events\":{\"id\":\"d81014cb-a9ff-4d0a-9ec2-8a131aceb2ab\",\"type\":\"ToolEvents\"},\"tools\":[{\"id\":\"5837330a-f4de-494d-9ff8-8b8f765be3de\",\"type\":\"PanTool\"},{\"id\":\"7b8269e5-8671-43d2-bb7f-32444ee84aca\",\"type\":\"WheelZoomTool\"},{\"id\":\"75caeff2-fa55-4929-ac69-30474d75c740\",\"type\":\"BoxZoomTool\"},{\"id\":\"91397304-e346-4af1-9f8e-2d151c027fd2\",\"type\":\"PreviewSaveTool\"},{\"id\":\"e4bd50eb-6051-4a36-80c8-b7d6997ce7e3\",\"type\":\"ResizeTool\"},{\"id\":\"07db9d1d-aace-4bff-a9b9-ad184aaf8a30\",\"type\":\"ResetTool\"},{\"id\":\"bf60ebc2-35d2-4b00-b036-a819dc2b1bed\",\"type\":\"HelpTool\"}],\"x_range\":{\"id\":\"2cef1b64-2838-4f76-a848-49caff272e56\",\"type\":\"FactorRange\"},\"y_range\":{\"id\":\"3696ff42-b277-4350-b1bb-af27c49bbecb\",\"type\":\"DataRange1d\"}},\"id\":\"cf6f44f7-10b0-4886-ac82-98eda57f8dae\",\"subtype\":\"Figure\",\"type\":\"Plot\"},{\"attributes\":{\"overlay\":{\"id\":\"38ec9b0d-28bf-47be-9974-842cd5540005\",\"type\":\"PolyAnnotation\"},\"plot\":{\"id\":\"c72b441f-8531-481e-8f83-56747c3d54e0\",\"subtype\":\"Figure\",\"type\":\"Plot\"}},\"id\":\"48e78bfd-8ede-400a-8f02-d7b9389794af\",\"type\":\"LassoSelectTool\"},{\"attributes\":{\"overlay\":{\"id\":\"5c4d942d-60a7-4adb-b5c0-f404a096c93a\",\"type\":\"PolyAnnotation\"},\"plot\":{\"id\":\"1c1c70b0-bc89-426f-94a7-be58f573589e\",\"subtype\":\"Figure\",\"type\":\"Plot\"}},\"id\":\"b6b550a8-29d2-4126-894c-1616a9b2a36c\",\"type\":\"LassoSelectTool\"},{\"attributes\":{\"plot\":{\"id\":\"cf6f44f7-10b0-4886-ac82-98eda57f8dae\",\"subtype\":\"Figure\",\"type\":\"Plot\"}},\"id\":\"07db9d1d-aace-4bff-a9b9-ad184aaf8a30\",\"type\":\"ResetTool\"},{\"attributes\":{\"fill_color\":{\"value\":\"#1f77b4\"},\"line_color\":{\"value\":\"#1f77b4\"},\"x\":{\"field\":\"teamID\"},\"y\":{\"field\":\"ratio\"}},\"id\":\"404b5c35-1584-4e4b-b30b-8c0cc9f1aa04\",\"type\":\"Circle\"},{\"attributes\":{\"plot\":{\"id\":\"1567cf8c-901f-4e40-aae1-8829e3cc8539\",\"subtype\":\"Figure\",\"type\":\"Plot\"}},\"id\":\"3ff4d956-06a6-47c7-93e0-fee0077d9e01\",\"type\":\"HelpTool\"},{\"attributes\":{\"plot\":{\"id\":\"c72b441f-8531-481e-8f83-56747c3d54e0\",\"subtype\":\"Figure\",\"type\":\"Plot\"}},\"id\":\"5a3e93fc-b9c1-41f3-980a-b65d0338bf6e\",\"type\":\"PanTool\"},{\"attributes\":{\"dimension\":1,\"plot\":{\"id\":\"1c1c70b0-bc89-426f-94a7-be58f573589e\",\"subtype\":\"Figure\",\"type\":\"Plot\"},\"ticker\":{\"id\":\"a0422ac8-7eda-4bb9-b27c-6eef20e4ef81\",\"type\":\"BasicTicker\"}},\"id\":\"fd3f5781-47a3-49b1-bf6a-d9d7025c6c70\",\"type\":\"Grid\"},{\"attributes\":{\"callback\":null},\"id\":\"c7a2f3d3-b1ed-4ec9-a8ff-9eba690cb999\",\"type\":\"DataRange1d\"},{\"attributes\":{\"children\":[[{\"id\":\"1c1c70b0-bc89-426f-94a7-be58f573589e\",\"subtype\":\"Figure\",\"type\":\"Plot\"},{\"id\":\"c72b441f-8531-481e-8f83-56747c3d54e0\",\"subtype\":\"Figure\",\"type\":\"Plot\"}]]},\"id\":\"e8050467-8c1e-413e-b8f0-86d4b69e1599\",\"type\":\"GridPlot\"},{\"attributes\":{},\"id\":\"a958c7f2-09ee-4b0d-be52-a7c571bd27dc\",\"type\":\"BasicTickFormatter\"},{\"attributes\":{\"plot\":{\"id\":\"1567cf8c-901f-4e40-aae1-8829e3cc8539\",\"subtype\":\"Figure\",\"type\":\"Plot\"}},\"id\":\"1213d84c-5496-4ec4-9d6c-9953d60c21b9\",\"type\":\"WheelZoomTool\"},{\"attributes\":{\"callback\":null},\"id\":\"1a7a7827-711d-4d99-bcdb-19b067f76814\",\"type\":\"DataRange1d\"},{\"attributes\":{},\"id\":\"666e04f2-0e73-4e19-ac37-d6428b4e456a\",\"type\":\"BasicTicker\"},{\"attributes\":{\"overlay\":{\"id\":\"0472a844-dee6-4c45-a598-26e7cf48c20a\",\"type\":\"BoxAnnotation\"},\"plot\":{\"id\":\"1c1c70b0-bc89-426f-94a7-be58f573589e\",\"subtype\":\"Figure\",\"type\":\"Plot\"}},\"id\":\"517759e7-1512-4ca8-aaf5-cef209b00d7f\",\"type\":\"BoxZoomTool\"},{\"attributes\":{\"plot\":{\"id\":\"1567cf8c-901f-4e40-aae1-8829e3cc8539\",\"subtype\":\"Figure\",\"type\":\"Plot\"}},\"id\":\"712a20e6-e29d-4af2-8ed2-d97fb32ef468\",\"type\":\"ResizeTool\"},{\"attributes\":{\"dimension\":1,\"plot\":{\"id\":\"c72b441f-8531-481e-8f83-56747c3d54e0\",\"subtype\":\"Figure\",\"type\":\"Plot\"},\"ticker\":{\"id\":\"c197da3c-c61f-4070-926a-18cedc25bcd4\",\"type\":\"BasicTicker\"}},\"id\":\"d0eef804-dfc3-4c1e-ad19-d81965a65224\",\"type\":\"Grid\"},{\"attributes\":{\"data_source\":{\"id\":\"bc3aa5f2-859b-499d-848a-3a97b2736eba\",\"type\":\"ColumnDataSource\"},\"glyph\":{\"id\":\"2809b14b-d6f1-4897-9656-04cf8c8bb091\",\"type\":\"Circle\"},\"hover_glyph\":null,\"nonselection_glyph\":{\"id\":\"ec70a90f-67d3-401b-b27e-bef56d7df459\",\"type\":\"Circle\"},\"selection_glyph\":null},\"id\":\"09534edb-f086-4332-8bd1-3d16e1b6a0ab\",\"type\":\"GlyphRenderer\"},{\"attributes\":{},\"id\":\"c197da3c-c61f-4070-926a-18cedc25bcd4\",\"type\":\"BasicTicker\"},{\"attributes\":{\"plot\":{\"id\":\"cf6f44f7-10b0-4886-ac82-98eda57f8dae\",\"subtype\":\"Figure\",\"type\":\"Plot\"}},\"id\":\"bf60ebc2-35d2-4b00-b036-a819dc2b1bed\",\"type\":\"HelpTool\"},{\"attributes\":{\"data_source\":{\"id\":\"4e268405-1ef4-4851-986a-f677dea2a2da\",\"type\":\"ColumnDataSource\"},\"glyph\":{\"id\":\"31bdd69d-51d6-4804-89b1-9db00aa09f51\",\"type\":\"Circle\"},\"hover_glyph\":null,\"nonselection_glyph\":{\"id\":\"4096d7e6-f7a0-444c-bad9-bfb7ba9c3c51\",\"type\":\"Circle\"},\"selection_glyph\":null},\"id\":\"9db66536-cfea-4f4a-bd5a-42bad1d6b525\",\"type\":\"GlyphRenderer\"},{\"attributes\":{\"callback\":null,\"factors\":[\"ML4\",\"MON\",\"CAL\",\"PIT\",\"FLO\",\"KCA\",\"OAK\",\"SDN\",\"MIN\",\"CLE\",\"TBA\",\"CIN\",\"HOU\",\"TOR\",\"BAL\",\"TEX\",\"ANA\",\"SLN\",\"SEA\",\"COL\",\"DET\",\"CHA\",\"SFN\",\"PHI\",\"MIL\",\"ATL\",\"CHN\",\"WAS\",\"NYN\",\"LAN\",\"ARI\",\"BOS\",\"MIA\",\"NYA\",\"LAA\"]},\"id\":\"aa817edc-ab16-4bda-850e-9c5e9141dfc6\",\"type\":\"FactorRange\"},{\"attributes\":{},\"id\":\"a0422ac8-7eda-4bb9-b27c-6eef20e4ef81\",\"type\":\"BasicTicker\"},{\"attributes\":{\"plot\":{\"id\":\"1567cf8c-901f-4e40-aae1-8829e3cc8539\",\"subtype\":\"Figure\",\"type\":\"Plot\"}},\"id\":\"91d5691a-0250-4c63-b306-d3d95e3c951b\",\"type\":\"ResetTool\"},{\"attributes\":{\"plot\":{\"id\":\"1c1c70b0-bc89-426f-94a7-be58f573589e\",\"subtype\":\"Figure\",\"type\":\"Plot\"}},\"id\":\"435b9a54-3323-41d5-ac4f-1b8174f44aa0\",\"type\":\"PanTool\"},{\"attributes\":{\"callback\":null},\"id\":\"3696ff42-b277-4350-b1bb-af27c49bbecb\",\"type\":\"DataRange1d\"},{\"attributes\":{\"plot\":{\"id\":\"c72b441f-8531-481e-8f83-56747c3d54e0\",\"subtype\":\"Figure\",\"type\":\"Plot\"}},\"id\":\"74747936-8043-4b5d-b6e0-42735e62cfd3\",\"type\":\"ResetTool\"},{\"attributes\":{\"fill_color\":{\"value\":\"#1f77b4\"},\"line_color\":{\"value\":\"#1f77b4\"},\"x\":{\"field\":\"teamID\"},\"y\":{\"field\":\"mean\"}},\"id\":\"2809b14b-d6f1-4897-9656-04cf8c8bb091\",\"type\":\"Circle\"},{\"attributes\":{\"overlay\":{\"id\":\"5fe31b59-f0dc-4ad1-af40-1ef4ba56ea57\",\"type\":\"BoxAnnotation\"},\"plot\":{\"id\":\"c72b441f-8531-481e-8f83-56747c3d54e0\",\"subtype\":\"Figure\",\"type\":\"Plot\"}},\"id\":\"d02d967c-926f-459e-b55f-2303de1dc283\",\"type\":\"BoxZoomTool\"},{\"attributes\":{\"plot\":{\"id\":\"1c1c70b0-bc89-426f-94a7-be58f573589e\",\"subtype\":\"Figure\",\"type\":\"Plot\"}},\"id\":\"e03516e3-5656-4e86-ad7c-c6d0c9540fdf\",\"type\":\"ResetTool\"},{\"attributes\":{\"callback\":null,\"column_names\":[\"amax\",\"std\",\"amin\",\"ratio\",\"mean\",\"teamID\"],\"data\":{\"amax\":[5875000.0,11500000.0,5375000.0,16500000.0,14936667.0,13000000.0,13500000.0,15505142.0,23000000.0,15000000.0,10125000.0,18910655.0,19369019.0,19700000.0,17000000.0,22000000.0,13166667.0,16333327.0,20557143.0,20275000.0,23000000.0,17000000.0,22250000.0,25000000.0,15500000.0,16061802.0,19000000.0,16571429.0,23145011.0,23854494.0,16000000.0,22500000.0,19000000.0,33000000.0,26187500.0],\"amin\":[60000.0,60000.0,60000.0,0.0,50000.0,60000.0,60000.0,60000.0,60000.0,60000.0,170000.0,60000.0,60000.0,60000.0,60000.0,60000.0,150000.0,60000.0,60000.0,109000.0,60000.0,50000.0,60000.0,60000.0,170000.0,60000.0,60000.0,316000.0,60000.0,60000.0,170000.0,60000.0,480000.0,0.0,316000.0],\"mean\":[613243.5800524935,707458.8578856152,739073.179347826,1077989.6803760282,1147986.4030612244,1299025.7868080095,1303094.7988304093,1317959.64354067,1525031.650385604,1525794.9584775087,1528399.5054945054,1568035.2813238772,1705561.3130434782,1768710.9600484262,1785712.3251461987,1874651.551143201,1895109.2024291498,1928832.5547785547,1932288.913202934,1945628.4724025973,1980834.9902080784,1992653.5012315272,2044198.6841463414,2092230.9326364691,2095008.9668141592,2130474.682577566,2185518.65408039,2243755.1576923076,2317349.977245509,2346982.6980255516,2428195.9126637555,2692113.8568075118,2974115.68627451,3608860.1485380116,4151107.171875],\"ratio\":[97.91666666666667,191.66666666666666,89.58333333333333,\"Infinity\",298.73334,216.66666666666666,225.0,258.41903333333335,383.3333333333333,250.0,59.55882352941177,315.17758333333336,322.8169833333333,328.3333333333333,283.3333333333333,366.6666666666667,87.77778,272.2221166666667,342.61905,186.0091743119266,383.3333333333333,340.0,370.8333333333333,416.6666666666667,91.17647058823529,267.6967,316.6666666666667,52.44123101265823,385.7501833333333,397.5749,94.11764705882354,375.0,39.583333333333336,\"Infinity\",82.87183544303798],\"std\":[853533.7163845291,1192678.1516411488,960628.5390361849,1720168.0769492872,1808397.0244389344,1951652.8801389195,2000776.9925032738,1971054.4478543361,2684866.4482354484,2251972.7754913056,2011091.1980497667,2489143.8459413988,3083466.905934261,2714273.250736591,2491109.1857474186,3014408.0266307434,2667146.9245296065,3014710.9368142053,3047418.722298252,2980228.8372444157,3388685.94679665,3185499.881674104,3305606.755051485,3607534.5605039247,2733957.135136098,3373518.217679483,3419997.897579085,2922931.2647121297,3693195.594629475,3598846.2978953356,2971520.2250774694,3861801.8178376732,4339254.417587083,5638218.508062519,4950547.469858126],\"teamID\":[\"ML4\",\"MON\",\"CAL\",\"PIT\",\"FLO\",\"KCA\",\"OAK\",\"SDN\",\"MIN\",\"CLE\",\"TBA\",\"CIN\",\"HOU\",\"TOR\",\"BAL\",\"TEX\",\"ANA\",\"SLN\",\"SEA\",\"COL\",\"DET\",\"CHA\",\"SFN\",\"PHI\",\"MIL\",\"ATL\",\"CHN\",\"WAS\",\"NYN\",\"LAN\",\"ARI\",\"BOS\",\"MIA\",\"NYA\",\"LAA\"]}},\"id\":\"4e268405-1ef4-4851-986a-f677dea2a2da\",\"type\":\"ColumnDataSource\"},{\"attributes\":{},\"id\":\"f43f9266-213d-4c55-acd6-03210f758590\",\"type\":\"BasicTicker\"},{\"attributes\":{\"bottom_units\":\"screen\",\"fill_alpha\":{\"value\":0.5},\"fill_color\":{\"value\":\"lightgrey\"},\"left_units\":\"screen\",\"level\":\"overlay\",\"line_alpha\":{\"value\":1.0},\"line_color\":{\"value\":\"black\"},\"line_dash\":[4,4],\"line_width\":{\"value\":2},\"plot\":null,\"render_mode\":\"css\",\"right_units\":\"screen\",\"top_units\":\"screen\"},\"id\":\"2596c9e8-39b0-47ca-a3f1-15287afcca5d\",\"type\":\"BoxAnnotation\"},{\"attributes\":{},\"id\":\"0c75ccc5-5357-445e-95e6-2f80e82eaf83\",\"type\":\"ToolEvents\"},{\"attributes\":{},\"id\":\"b4dd723b-6a89-4098-bceb-1fe5e03a3769\",\"type\":\"BasicTickFormatter\"},{\"attributes\":{\"formatter\":{\"id\":\"b48ed5ef-1c44-460e-b909-0c66b59aac6c\",\"type\":\"CategoricalTickFormatter\"},\"major_label_orientation\":1.0471975511965976,\"plot\":{\"id\":\"cf6f44f7-10b0-4886-ac82-98eda57f8dae\",\"subtype\":\"Figure\",\"type\":\"Plot\"},\"ticker\":{\"id\":\"dfc9aef4-e290-45c9-bf38-31b45317fce1\",\"type\":\"CategoricalTicker\"}},\"id\":\"7600e734-84f5-4561-91d7-7720a917d3a8\",\"type\":\"CategoricalAxis\"},{\"attributes\":{\"below\":[{\"id\":\"eb993097-caa8-4386-b39f-35ecc9a3789f\",\"type\":\"CategoricalAxis\"}],\"left\":[{\"id\":\"23934e2a-0485-4404-b468-a32360da66d8\",\"type\":\"LinearAxis\"}],\"renderers\":[{\"id\":\"eb993097-caa8-4386-b39f-35ecc9a3789f\",\"type\":\"CategoricalAxis\"},{\"id\":\"1230664a-e0d4-4b4c-b6a7-b564303eac50\",\"type\":\"Grid\"},{\"id\":\"23934e2a-0485-4404-b468-a32360da66d8\",\"type\":\"LinearAxis\"},{\"id\":\"512bc7a6-a40f-47cb-8aa2-6aaebaaa38f4\",\"type\":\"Grid\"},{\"id\":\"2596c9e8-39b0-47ca-a3f1-15287afcca5d\",\"type\":\"BoxAnnotation\"},{\"id\":\"09534edb-f086-4332-8bd1-3d16e1b6a0ab\",\"type\":\"GlyphRenderer\"}],\"tool_events\":{\"id\":\"0c75ccc5-5357-445e-95e6-2f80e82eaf83\",\"type\":\"ToolEvents\"},\"tools\":[{\"id\":\"f3c0fab5-dabb-4d9b-90d9-a1a39b28eb26\",\"type\":\"PanTool\"},{\"id\":\"1213d84c-5496-4ec4-9d6c-9953d60c21b9\",\"type\":\"WheelZoomTool\"},{\"id\":\"6a5de49c-8dd8-4d62-93d9-57de228ef2f5\",\"type\":\"BoxZoomTool\"},{\"id\":\"5c614aa5-2874-4e65-b533-d1ccfbd8c3c4\",\"type\":\"PreviewSaveTool\"},{\"id\":\"712a20e6-e29d-4af2-8ed2-d97fb32ef468\",\"type\":\"ResizeTool\"},{\"id\":\"91d5691a-0250-4c63-b306-d3d95e3c951b\",\"type\":\"ResetTool\"},{\"id\":\"3ff4d956-06a6-47c7-93e0-fee0077d9e01\",\"type\":\"HelpTool\"}],\"x_range\":{\"id\":\"aa817edc-ab16-4bda-850e-9c5e9141dfc6\",\"type\":\"FactorRange\"},\"y_range\":{\"id\":\"1a7a7827-711d-4d99-bcdb-19b067f76814\",\"type\":\"DataRange1d\"}},\"id\":\"1567cf8c-901f-4e40-aae1-8829e3cc8539\",\"subtype\":\"Figure\",\"type\":\"Plot\"},{\"attributes\":{\"callback\":null,\"factors\":[\"ML4\",\"MON\",\"CAL\",\"PIT\",\"FLO\",\"KCA\",\"OAK\",\"SDN\",\"MIN\",\"CLE\",\"TBA\",\"CIN\",\"HOU\",\"TOR\",\"BAL\",\"TEX\",\"ANA\",\"SLN\",\"SEA\",\"COL\",\"DET\",\"CHA\",\"SFN\",\"PHI\",\"MIL\",\"ATL\",\"CHN\",\"WAS\",\"NYN\",\"LAN\",\"ARI\",\"BOS\",\"MIA\",\"NYA\",\"LAA\"]},\"id\":\"2cef1b64-2838-4f76-a848-49caff272e56\",\"type\":\"FactorRange\"},{\"attributes\":{\"bottom_units\":\"screen\",\"fill_alpha\":{\"value\":0.5},\"fill_color\":{\"value\":\"lightgrey\"},\"left_units\":\"screen\",\"level\":\"overlay\",\"line_alpha\":{\"value\":1.0},\"line_color\":{\"value\":\"black\"},\"line_dash\":[4,4],\"line_width\":{\"value\":2},\"plot\":null,\"render_mode\":\"css\",\"right_units\":\"screen\",\"top_units\":\"screen\"},\"id\":\"5fe31b59-f0dc-4ad1-af40-1ef4ba56ea57\",\"type\":\"BoxAnnotation\"},{\"attributes\":{},\"id\":\"bc77edbf-3e70-48da-974e-d0a1192dc784\",\"type\":\"ToolEvents\"},{\"attributes\":{\"dimension\":1,\"plot\":{\"id\":\"1567cf8c-901f-4e40-aae1-8829e3cc8539\",\"subtype\":\"Figure\",\"type\":\"Plot\"},\"ticker\":{\"id\":\"f43f9266-213d-4c55-acd6-03210f758590\",\"type\":\"BasicTicker\"}},\"id\":\"512bc7a6-a40f-47cb-8aa2-6aaebaaa38f4\",\"type\":\"Grid\"},{\"attributes\":{\"plot\":{\"id\":\"1567cf8c-901f-4e40-aae1-8829e3cc8539\",\"subtype\":\"Figure\",\"type\":\"Plot\"}},\"id\":\"5c614aa5-2874-4e65-b533-d1ccfbd8c3c4\",\"type\":\"PreviewSaveTool\"},{\"attributes\":{\"plot\":{\"id\":\"cf6f44f7-10b0-4886-ac82-98eda57f8dae\",\"subtype\":\"Figure\",\"type\":\"Plot\"}},\"id\":\"7b8269e5-8671-43d2-bb7f-32444ee84aca\",\"type\":\"WheelZoomTool\"},{\"attributes\":{\"plot\":{\"id\":\"cf6f44f7-10b0-4886-ac82-98eda57f8dae\",\"subtype\":\"Figure\",\"type\":\"Plot\"},\"ticker\":{\"id\":\"dfc9aef4-e290-45c9-bf38-31b45317fce1\",\"type\":\"CategoricalTicker\"}},\"id\":\"9859341d-8bc1-4f42-a4db-b870616b5407\",\"type\":\"Grid\"},{\"attributes\":{\"plot\":{\"id\":\"1c1c70b0-bc89-426f-94a7-be58f573589e\",\"subtype\":\"Figure\",\"type\":\"Plot\"},\"ticker\":{\"id\":\"0e0532be-9a5d-4eba-876b-814b48f269c7\",\"type\":\"CategoricalTicker\"}},\"id\":\"7afc245f-b367-474e-814c-af8531506b68\",\"type\":\"Grid\"},{\"attributes\":{\"fill_alpha\":{\"value\":0.1},\"fill_color\":{\"value\":\"#1f77b4\"},\"line_alpha\":{\"value\":0.1},\"line_color\":{\"value\":\"#1f77b4\"},\"x\":{\"field\":\"teamID\"},\"y\":{\"field\":\"mean\"}},\"id\":\"4096d7e6-f7a0-444c-bad9-bfb7ba9c3c51\",\"type\":\"Circle\"},{\"attributes\":{\"bottom_units\":\"screen\",\"fill_alpha\":{\"value\":0.5},\"fill_color\":{\"value\":\"lightgrey\"},\"left_units\":\"screen\",\"level\":\"overlay\",\"line_alpha\":{\"value\":1.0},\"line_color\":{\"value\":\"black\"},\"line_dash\":[4,4],\"line_width\":{\"value\":2},\"plot\":null,\"render_mode\":\"css\",\"right_units\":\"screen\",\"top_units\":\"screen\"},\"id\":\"0472a844-dee6-4c45-a598-26e7cf48c20a\",\"type\":\"BoxAnnotation\"},{\"attributes\":{},\"id\":\"0e0532be-9a5d-4eba-876b-814b48f269c7\",\"type\":\"CategoricalTicker\"},{\"attributes\":{\"bottom_units\":\"screen\",\"fill_alpha\":{\"value\":0.5},\"fill_color\":{\"value\":\"lightgrey\"},\"left_units\":\"screen\",\"level\":\"overlay\",\"line_alpha\":{\"value\":1.0},\"line_color\":{\"value\":\"black\"},\"line_dash\":[4,4],\"line_width\":{\"value\":2},\"plot\":null,\"render_mode\":\"css\",\"right_units\":\"screen\",\"top_units\":\"screen\"},\"id\":\"8fac1c54-2951-4bae-9ab7-5f5a69089f57\",\"type\":\"BoxAnnotation\"},{\"attributes\":{},\"id\":\"429607d8-eae9-4d72-a5c7-8f64523648e4\",\"type\":\"BasicTickFormatter\"},{\"attributes\":{\"data_source\":{\"id\":\"86d263e6-b25f-4d08-90cf-d5e9349909bb\",\"type\":\"ColumnDataSource\"},\"glyph\":{\"id\":\"cffbc47e-b9a8-4600-b339-c968cdb9bec1\",\"type\":\"Circle\"},\"hover_glyph\":null,\"nonselection_glyph\":{\"id\":\"85f66d20-e9c1-4f5a-8b91-14c77c8c5f6c\",\"type\":\"Circle\"},\"selection_glyph\":null},\"id\":\"94b09ea7-bd34-4671-ba15-a186a824f9e5\",\"type\":\"GlyphRenderer\"},{\"attributes\":{\"fill_color\":{\"value\":\"#1f77b4\"},\"line_color\":{\"value\":\"#1f77b4\"},\"x\":{\"field\":\"teamID\"},\"y\":{\"field\":\"mean\"}},\"id\":\"cffbc47e-b9a8-4600-b339-c968cdb9bec1\",\"type\":\"Circle\"},{\"attributes\":{\"fill_alpha\":{\"value\":0.5},\"fill_color\":{\"value\":\"lightgrey\"},\"level\":\"overlay\",\"line_alpha\":{\"value\":1.0},\"line_color\":{\"value\":\"black\"},\"line_dash\":[4,4],\"line_width\":{\"value\":2},\"plot\":null,\"xs_units\":\"screen\",\"ys_units\":\"screen\"},\"id\":\"38ec9b0d-28bf-47be-9974-842cd5540005\",\"type\":\"PolyAnnotation\"},{\"attributes\":{\"plot\":{\"id\":\"1567cf8c-901f-4e40-aae1-8829e3cc8539\",\"subtype\":\"Figure\",\"type\":\"Plot\"},\"ticker\":{\"id\":\"afe912b8-9dcb-45a7-9034-b4fa542becbc\",\"type\":\"CategoricalTicker\"}},\"id\":\"1230664a-e0d4-4b4c-b6a7-b564303eac50\",\"type\":\"Grid\"},{\"attributes\":{\"formatter\":{\"id\":\"16a111de-de84-4ea9-b730-562a632d58af\",\"type\":\"BasicTickFormatter\"},\"plot\":{\"id\":\"cf6f44f7-10b0-4886-ac82-98eda57f8dae\",\"subtype\":\"Figure\",\"type\":\"Plot\"},\"ticker\":{\"id\":\"666e04f2-0e73-4e19-ac37-d6428b4e456a\",\"type\":\"BasicTicker\"}},\"id\":\"2017aab3-9d6d-4d4b-8c81-a26beabab7b7\",\"type\":\"LinearAxis\"},{\"attributes\":{\"plot\":{\"id\":\"1c1c70b0-bc89-426f-94a7-be58f573589e\",\"subtype\":\"Figure\",\"type\":\"Plot\"}},\"id\":\"7ee871f6-8d4c-4e3e-852b-af88fde8f4cc\",\"type\":\"PreviewSaveTool\"},{\"attributes\":{\"below\":[{\"id\":\"543fe452-c9bb-4b1d-a9e4-ce420c156c05\",\"type\":\"CategoricalAxis\"}],\"left\":[{\"id\":\"e0373703-6ab2-4424-996a-b43a151d47bc\",\"type\":\"LinearAxis\"}],\"plot_width\":500,\"renderers\":[{\"id\":\"543fe452-c9bb-4b1d-a9e4-ce420c156c05\",\"type\":\"CategoricalAxis\"},{\"id\":\"7afc245f-b367-474e-814c-af8531506b68\",\"type\":\"Grid\"},{\"id\":\"e0373703-6ab2-4424-996a-b43a151d47bc\",\"type\":\"LinearAxis\"},{\"id\":\"fd3f5781-47a3-49b1-bf6a-d9d7025c6c70\",\"type\":\"Grid\"},{\"id\":\"0472a844-dee6-4c45-a598-26e7cf48c20a\",\"type\":\"BoxAnnotation\"},{\"id\":\"5c4d942d-60a7-4adb-b5c0-f404a096c93a\",\"type\":\"PolyAnnotation\"},{\"id\":\"94b09ea7-bd34-4671-ba15-a186a824f9e5\",\"type\":\"GlyphRenderer\"}],\"title\":\"Pay Avg\",\"tool_events\":{\"id\":\"85216338-8d53-45fe-a63b-2039cd98a707\",\"type\":\"ToolEvents\"},\"tools\":[{\"id\":\"435b9a54-3323-41d5-ac4f-1b8174f44aa0\",\"type\":\"PanTool\"},{\"id\":\"14f12857-acec-4ea9-8f8b-6453755af609\",\"type\":\"WheelZoomTool\"},{\"id\":\"517759e7-1512-4ca8-aaf5-cef209b00d7f\",\"type\":\"BoxZoomTool\"},{\"id\":\"e03516e3-5656-4e86-ad7c-c6d0c9540fdf\",\"type\":\"ResetTool\"},{\"id\":\"7ee871f6-8d4c-4e3e-852b-af88fde8f4cc\",\"type\":\"PreviewSaveTool\"},{\"id\":\"b6b550a8-29d2-4126-894c-1616a9b2a36c\",\"type\":\"LassoSelectTool\"}],\"x_range\":{\"id\":\"f9470b07-f30c-459d-9538-3d4023c7f535\",\"type\":\"FactorRange\"},\"y_range\":{\"id\":\"5cc60ee6-9895-4c1f-88bb-1b139249ef08\",\"type\":\"DataRange1d\"}},\"id\":\"1c1c70b0-bc89-426f-94a7-be58f573589e\",\"subtype\":\"Figure\",\"type\":\"Plot\"},{\"attributes\":{\"overlay\":{\"id\":\"2596c9e8-39b0-47ca-a3f1-15287afcca5d\",\"type\":\"BoxAnnotation\"},\"plot\":{\"id\":\"1567cf8c-901f-4e40-aae1-8829e3cc8539\",\"subtype\":\"Figure\",\"type\":\"Plot\"}},\"id\":\"6a5de49c-8dd8-4d62-93d9-57de228ef2f5\",\"type\":\"BoxZoomTool\"},{\"attributes\":{\"dimension\":1,\"plot\":{\"id\":\"cf6f44f7-10b0-4886-ac82-98eda57f8dae\",\"subtype\":\"Figure\",\"type\":\"Plot\"},\"ticker\":{\"id\":\"666e04f2-0e73-4e19-ac37-d6428b4e456a\",\"type\":\"BasicTicker\"}},\"id\":\"ae8e806b-293f-47cc-bbe5-b02da336aa39\",\"type\":\"Grid\"},{\"attributes\":{},\"id\":\"a1ef8867-cdba-44ae-afa8-a4632371bc33\",\"type\":\"CategoricalTickFormatter\"},{\"attributes\":{\"formatter\":{\"id\":\"a1ef8867-cdba-44ae-afa8-a4632371bc33\",\"type\":\"CategoricalTickFormatter\"},\"major_label_orientation\":1.0471975511965976,\"plot\":{\"id\":\"c72b441f-8531-481e-8f83-56747c3d54e0\",\"subtype\":\"Figure\",\"type\":\"Plot\"},\"ticker\":{\"id\":\"8b57e69f-980a-42cf-965f-2848f0653f1c\",\"type\":\"CategoricalTicker\"}},\"id\":\"b95e2707-f3ad-4324-a2b9-cb0a2d6172a1\",\"type\":\"CategoricalAxis\"},{\"attributes\":{\"data_source\":{\"id\":\"86d263e6-b25f-4d08-90cf-d5e9349909bb\",\"type\":\"ColumnDataSource\"},\"glyph\":{\"id\":\"404b5c35-1584-4e4b-b30b-8c0cc9f1aa04\",\"type\":\"Circle\"},\"hover_glyph\":null,\"nonselection_glyph\":{\"id\":\"252ae871-2580-4a65-8eb3-046c99d89d7e\",\"type\":\"Circle\"},\"selection_glyph\":null},\"id\":\"0222a6b0-6028-47e1-b3bf-a8b8bbcaedb8\",\"type\":\"GlyphRenderer\"},{\"attributes\":{\"plot\":{\"id\":\"c72b441f-8531-481e-8f83-56747c3d54e0\",\"subtype\":\"Figure\",\"type\":\"Plot\"}},\"id\":\"a1e27ab1-a86e-4218-9754-0b1c6c4603de\",\"type\":\"WheelZoomTool\"},{\"attributes\":{\"fill_alpha\":{\"value\":0.1},\"fill_color\":{\"value\":\"#1f77b4\"},\"line_alpha\":{\"value\":0.1},\"line_color\":{\"value\":\"#1f77b4\"},\"x\":{\"field\":\"teamID\"},\"y\":{\"field\":\"ratio\"}},\"id\":\"252ae871-2580-4a65-8eb3-046c99d89d7e\",\"type\":\"Circle\"},{\"attributes\":{\"fill_alpha\":{\"value\":0.5},\"fill_color\":{\"value\":\"lightgrey\"},\"level\":\"overlay\",\"line_alpha\":{\"value\":1.0},\"line_color\":{\"value\":\"black\"},\"line_dash\":[4,4],\"line_width\":{\"value\":2},\"plot\":null,\"xs_units\":\"screen\",\"ys_units\":\"screen\"},\"id\":\"5c4d942d-60a7-4adb-b5c0-f404a096c93a\",\"type\":\"PolyAnnotation\"},{\"attributes\":{},\"id\":\"8b57e69f-980a-42cf-965f-2848f0653f1c\",\"type\":\"CategoricalTicker\"},{\"attributes\":{\"overlay\":{\"id\":\"8fac1c54-2951-4bae-9ab7-5f5a69089f57\",\"type\":\"BoxAnnotation\"},\"plot\":{\"id\":\"cf6f44f7-10b0-4886-ac82-98eda57f8dae\",\"subtype\":\"Figure\",\"type\":\"Plot\"}},\"id\":\"75caeff2-fa55-4929-ac69-30474d75c740\",\"type\":\"BoxZoomTool\"},{\"attributes\":{},\"id\":\"57bed416-92f0-4563-88ba-b1b56557f3ad\",\"type\":\"CategoricalTickFormatter\"},{\"attributes\":{},\"id\":\"16a111de-de84-4ea9-b730-562a632d58af\",\"type\":\"BasicTickFormatter\"},{\"attributes\":{},\"id\":\"dfc9aef4-e290-45c9-bf38-31b45317fce1\",\"type\":\"CategoricalTicker\"},{\"attributes\":{\"formatter\":{\"id\":\"c19702d3-4abb-40b8-b1f2-0e16deac361b\",\"type\":\"CategoricalTickFormatter\"},\"plot\":{\"id\":\"1567cf8c-901f-4e40-aae1-8829e3cc8539\",\"subtype\":\"Figure\",\"type\":\"Plot\"},\"ticker\":{\"id\":\"afe912b8-9dcb-45a7-9034-b4fa542becbc\",\"type\":\"CategoricalTicker\"}},\"id\":\"eb993097-caa8-4386-b39f-35ecc9a3789f\",\"type\":\"CategoricalAxis\"},{\"attributes\":{\"formatter\":{\"id\":\"a958c7f2-09ee-4b0d-be52-a7c571bd27dc\",\"type\":\"BasicTickFormatter\"},\"plot\":{\"id\":\"c72b441f-8531-481e-8f83-56747c3d54e0\",\"subtype\":\"Figure\",\"type\":\"Plot\"},\"ticker\":{\"id\":\"c197da3c-c61f-4070-926a-18cedc25bcd4\",\"type\":\"BasicTicker\"}},\"id\":\"9834d5d1-1159-4168-beb9-56badc37b2cb\",\"type\":\"LinearAxis\"},{\"attributes\":{},\"id\":\"afe912b8-9dcb-45a7-9034-b4fa542becbc\",\"type\":\"CategoricalTicker\"},{\"attributes\":{\"fill_alpha\":{\"value\":0.1},\"fill_color\":{\"value\":\"#1f77b4\"},\"line_alpha\":{\"value\":0.1},\"line_color\":{\"value\":\"#1f77b4\"},\"x\":{\"field\":\"teamID\"},\"y\":{\"field\":\"mean\"}},\"id\":\"ec70a90f-67d3-401b-b27e-bef56d7df459\",\"type\":\"Circle\"},{\"attributes\":{},\"id\":\"85216338-8d53-45fe-a63b-2039cd98a707\",\"type\":\"ToolEvents\"},{\"attributes\":{\"callback\":null,\"column_names\":[\"amax\",\"std\",\"amin\",\"ratio\",\"mean\",\"teamID\"],\"data\":{\"amax\":[5875000.0,11500000.0,5375000.0,16500000.0,14936667.0,13000000.0,13500000.0,15505142.0,23000000.0,15000000.0,10125000.0,18910655.0,19369019.0,19700000.0,17000000.0,22000000.0,13166667.0,16333327.0,20557143.0,20275000.0,23000000.0,17000000.0,22250000.0,25000000.0,15500000.0,16061802.0,19000000.0,16571429.0,23145011.0,23854494.0,16000000.0,22500000.0,19000000.0,33000000.0,26187500.0],\"amin\":[60000.0,60000.0,60000.0,0.0,50000.0,60000.0,60000.0,60000.0,60000.0,60000.0,170000.0,60000.0,60000.0,60000.0,60000.0,60000.0,150000.0,60000.0,60000.0,109000.0,60000.0,50000.0,60000.0,60000.0,170000.0,60000.0,60000.0,316000.0,60000.0,60000.0,170000.0,60000.0,480000.0,0.0,316000.0],\"mean\":[613243.5800524935,707458.8578856152,739073.179347826,1077989.6803760282,1147986.4030612244,1299025.7868080095,1303094.7988304093,1317959.64354067,1525031.650385604,1525794.9584775087,1528399.5054945054,1568035.2813238772,1705561.3130434782,1768710.9600484262,1785712.3251461987,1874651.551143201,1895109.2024291498,1928832.5547785547,1932288.913202934,1945628.4724025973,1980834.9902080784,1992653.5012315272,2044198.6841463414,2092230.9326364691,2095008.9668141592,2130474.682577566,2185518.65408039,2243755.1576923076,2317349.977245509,2346982.6980255516,2428195.9126637555,2692113.8568075118,2974115.68627451,3608860.1485380116,4151107.171875],\"ratio\":[97.91666666666667,191.66666666666666,89.58333333333333,\"Infinity\",298.73334,216.66666666666666,225.0,258.41903333333335,383.3333333333333,250.0,59.55882352941177,315.17758333333336,322.8169833333333,328.3333333333333,283.3333333333333,366.6666666666667,87.77778,272.2221166666667,342.61905,186.0091743119266,383.3333333333333,340.0,370.8333333333333,416.6666666666667,91.17647058823529,267.6967,316.6666666666667,52.44123101265823,385.7501833333333,397.5749,94.11764705882354,375.0,39.583333333333336,\"Infinity\",82.87183544303798],\"std\":[853533.7163845291,1192678.1516411488,960628.5390361849,1720168.0769492872,1808397.0244389344,1951652.8801389195,2000776.9925032738,1971054.4478543361,2684866.4482354484,2251972.7754913056,2011091.1980497667,2489143.8459413988,3083466.905934261,2714273.250736591,2491109.1857474186,3014408.0266307434,2667146.9245296065,3014710.9368142053,3047418.722298252,2980228.8372444157,3388685.94679665,3185499.881674104,3305606.755051485,3607534.5605039247,2733957.135136098,3373518.217679483,3419997.897579085,2922931.2647121297,3693195.594629475,3598846.2978953356,2971520.2250774694,3861801.8178376732,4339254.417587083,5638218.508062519,4950547.469858126],\"teamID\":[\"ML4\",\"MON\",\"CAL\",\"PIT\",\"FLO\",\"KCA\",\"OAK\",\"SDN\",\"MIN\",\"CLE\",\"TBA\",\"CIN\",\"HOU\",\"TOR\",\"BAL\",\"TEX\",\"ANA\",\"SLN\",\"SEA\",\"COL\",\"DET\",\"CHA\",\"SFN\",\"PHI\",\"MIL\",\"ATL\",\"CHN\",\"WAS\",\"NYN\",\"LAN\",\"ARI\",\"BOS\",\"MIA\",\"NYA\",\"LAA\"]}},\"id\":\"86d263e6-b25f-4d08-90cf-d5e9349909bb\",\"type\":\"ColumnDataSource\"},{\"attributes\":{\"plot\":{\"id\":\"cf6f44f7-10b0-4886-ac82-98eda57f8dae\",\"subtype\":\"Figure\",\"type\":\"Plot\"}},\"id\":\"5837330a-f4de-494d-9ff8-8b8f765be3de\",\"type\":\"PanTool\"},{\"attributes\":{\"formatter\":{\"id\":\"b4dd723b-6a89-4098-bceb-1fe5e03a3769\",\"type\":\"BasicTickFormatter\"},\"plot\":{\"id\":\"1c1c70b0-bc89-426f-94a7-be58f573589e\",\"subtype\":\"Figure\",\"type\":\"Plot\"},\"ticker\":{\"id\":\"a0422ac8-7eda-4bb9-b27c-6eef20e4ef81\",\"type\":\"BasicTicker\"}},\"id\":\"e0373703-6ab2-4424-996a-b43a151d47bc\",\"type\":\"LinearAxis\"},{\"attributes\":{\"plot\":{\"id\":\"c72b441f-8531-481e-8f83-56747c3d54e0\",\"subtype\":\"Figure\",\"type\":\"Plot\"},\"ticker\":{\"id\":\"8b57e69f-980a-42cf-965f-2848f0653f1c\",\"type\":\"CategoricalTicker\"}},\"id\":\"6650f694-8ca2-4f03-9162-b9422169a1c4\",\"type\":\"Grid\"},{\"attributes\":{},\"id\":\"b48ed5ef-1c44-460e-b909-0c66b59aac6c\",\"type\":\"CategoricalTickFormatter\"},{\"attributes\":{\"fill_alpha\":{\"value\":0.1},\"fill_color\":{\"value\":\"#1f77b4\"},\"line_alpha\":{\"value\":0.1},\"line_color\":{\"value\":\"#1f77b4\"},\"x\":{\"field\":\"teamID\"},\"y\":{\"field\":\"mean\"}},\"id\":\"85f66d20-e9c1-4f5a-8b91-14c77c8c5f6c\",\"type\":\"Circle\"},{\"attributes\":{\"callback\":null,\"column_names\":[\"amax\",\"std\",\"amin\",\"ratio\",\"mean\",\"teamID\"],\"data\":{\"amax\":[5875000.0,11500000.0,5375000.0,16500000.0,14936667.0,13000000.0,13500000.0,15505142.0,23000000.0,15000000.0,10125000.0,18910655.0,19369019.0,19700000.0,17000000.0,22000000.0,13166667.0,16333327.0,20557143.0,20275000.0,23000000.0,17000000.0,22250000.0,25000000.0,15500000.0,16061802.0,19000000.0,16571429.0,23145011.0,23854494.0,16000000.0,22500000.0,19000000.0,33000000.0,26187500.0],\"amin\":[60000.0,60000.0,60000.0,0.0,50000.0,60000.0,60000.0,60000.0,60000.0,60000.0,170000.0,60000.0,60000.0,60000.0,60000.0,60000.0,150000.0,60000.0,60000.0,109000.0,60000.0,50000.0,60000.0,60000.0,170000.0,60000.0,60000.0,316000.0,60000.0,60000.0,170000.0,60000.0,480000.0,0.0,316000.0],\"mean\":[613243.5800524935,707458.8578856152,739073.179347826,1077989.6803760282,1147986.4030612244,1299025.7868080095,1303094.7988304093,1317959.64354067,1525031.650385604,1525794.9584775087,1528399.5054945054,1568035.2813238772,1705561.3130434782,1768710.9600484262,1785712.3251461987,1874651.551143201,1895109.2024291498,1928832.5547785547,1932288.913202934,1945628.4724025973,1980834.9902080784,1992653.5012315272,2044198.6841463414,2092230.9326364691,2095008.9668141592,2130474.682577566,2185518.65408039,2243755.1576923076,2317349.977245509,2346982.6980255516,2428195.9126637555,2692113.8568075118,2974115.68627451,3608860.1485380116,4151107.171875],\"ratio\":[97.91666666666667,191.66666666666666,89.58333333333333,\"Infinity\",298.73334,216.66666666666666,225.0,258.41903333333335,383.3333333333333,250.0,59.55882352941177,315.17758333333336,322.8169833333333,328.3333333333333,283.3333333333333,366.6666666666667,87.77778,272.2221166666667,342.61905,186.0091743119266,383.3333333333333,340.0,370.8333333333333,416.6666666666667,91.17647058823529,267.6967,316.6666666666667,52.44123101265823,385.7501833333333,397.5749,94.11764705882354,375.0,39.583333333333336,\"Infinity\",82.87183544303798],\"std\":[853533.7163845291,1192678.1516411488,960628.5390361849,1720168.0769492872,1808397.0244389344,1951652.8801389195,2000776.9925032738,1971054.4478543361,2684866.4482354484,2251972.7754913056,2011091.1980497667,2489143.8459413988,3083466.905934261,2714273.250736591,2491109.1857474186,3014408.0266307434,2667146.9245296065,3014710.9368142053,3047418.722298252,2980228.8372444157,3388685.94679665,3185499.881674104,3305606.755051485,3607534.5605039247,2733957.135136098,3373518.217679483,3419997.897579085,2922931.2647121297,3693195.594629475,3598846.2978953356,2971520.2250774694,3861801.8178376732,4339254.417587083,5638218.508062519,4950547.469858126],\"teamID\":[\"ML4\",\"MON\",\"CAL\",\"PIT\",\"FLO\",\"KCA\",\"OAK\",\"SDN\",\"MIN\",\"CLE\",\"TBA\",\"CIN\",\"HOU\",\"TOR\",\"BAL\",\"TEX\",\"ANA\",\"SLN\",\"SEA\",\"COL\",\"DET\",\"CHA\",\"SFN\",\"PHI\",\"MIL\",\"ATL\",\"CHN\",\"WAS\",\"NYN\",\"LAN\",\"ARI\",\"BOS\",\"MIA\",\"NYA\",\"LAA\"]}},\"id\":\"bc3aa5f2-859b-499d-848a-3a97b2736eba\",\"type\":\"ColumnDataSource\"},{\"attributes\":{},\"id\":\"c19702d3-4abb-40b8-b1f2-0e16deac361b\",\"type\":\"CategoricalTickFormatter\"},{\"attributes\":{\"plot\":{\"id\":\"cf6f44f7-10b0-4886-ac82-98eda57f8dae\",\"subtype\":\"Figure\",\"type\":\"Plot\"}},\"id\":\"e4bd50eb-6051-4a36-80c8-b7d6997ce7e3\",\"type\":\"ResizeTool\"},{\"attributes\":{\"fill_color\":{\"value\":\"#1f77b4\"},\"line_color\":{\"value\":\"#1f77b4\"},\"x\":{\"field\":\"teamID\"},\"y\":{\"field\":\"mean\"}},\"id\":\"31bdd69d-51d6-4804-89b1-9db00aa09f51\",\"type\":\"Circle\"},{\"attributes\":{\"plot\":{\"id\":\"1567cf8c-901f-4e40-aae1-8829e3cc8539\",\"subtype\":\"Figure\",\"type\":\"Plot\"}},\"id\":\"f3c0fab5-dabb-4d9b-90d9-a1a39b28eb26\",\"type\":\"PanTool\"},{\"attributes\":{},\"id\":\"d81014cb-a9ff-4d0a-9ec2-8a131aceb2ab\",\"type\":\"ToolEvents\"},{\"attributes\":{\"formatter\":{\"id\":\"57bed416-92f0-4563-88ba-b1b56557f3ad\",\"type\":\"CategoricalTickFormatter\"},\"major_label_orientation\":1.0471975511965976,\"plot\":{\"id\":\"1c1c70b0-bc89-426f-94a7-be58f573589e\",\"subtype\":\"Figure\",\"type\":\"Plot\"},\"ticker\":{\"id\":\"0e0532be-9a5d-4eba-876b-814b48f269c7\",\"type\":\"CategoricalTicker\"}},\"id\":\"543fe452-c9bb-4b1d-a9e4-ce420c156c05\",\"type\":\"CategoricalAxis\"},{\"attributes\":{\"callback\":null,\"factors\":[\"ML4\",\"MON\",\"CAL\",\"PIT\",\"FLO\",\"KCA\",\"OAK\",\"SDN\",\"MIN\",\"CLE\",\"TBA\",\"CIN\",\"HOU\",\"TOR\",\"BAL\",\"TEX\",\"ANA\",\"SLN\",\"SEA\",\"COL\",\"DET\",\"CHA\",\"SFN\",\"PHI\",\"MIL\",\"ATL\",\"CHN\",\"WAS\",\"NYN\",\"LAN\",\"ARI\",\"BOS\",\"MIA\",\"NYA\",\"LAA\"]},\"id\":\"f9470b07-f30c-459d-9538-3d4023c7f535\",\"type\":\"FactorRange\"},{\"attributes\":{\"plot\":{\"id\":\"cf6f44f7-10b0-4886-ac82-98eda57f8dae\",\"subtype\":\"Figure\",\"type\":\"Plot\"}},\"id\":\"91397304-e346-4af1-9f8e-2d151c027fd2\",\"type\":\"PreviewSaveTool\"},{\"attributes\":{\"plot\":{\"id\":\"c72b441f-8531-481e-8f83-56747c3d54e0\",\"subtype\":\"Figure\",\"type\":\"Plot\"}},\"id\":\"8b4ce6b1-49df-4cb3-a58c-d0e6d8741e4f\",\"type\":\"PreviewSaveTool\"},{\"attributes\":{\"callback\":null},\"id\":\"5cc60ee6-9895-4c1f-88bb-1b139249ef08\",\"type\":\"DataRange1d\"},{\"attributes\":{\"below\":[{\"id\":\"b95e2707-f3ad-4324-a2b9-cb0a2d6172a1\",\"type\":\"CategoricalAxis\"}],\"left\":[{\"id\":\"9834d5d1-1159-4168-beb9-56badc37b2cb\",\"type\":\"LinearAxis\"}],\"plot_width\":500,\"renderers\":[{\"id\":\"b95e2707-f3ad-4324-a2b9-cb0a2d6172a1\",\"type\":\"CategoricalAxis\"},{\"id\":\"6650f694-8ca2-4f03-9162-b9422169a1c4\",\"type\":\"Grid\"},{\"id\":\"9834d5d1-1159-4168-beb9-56badc37b2cb\",\"type\":\"LinearAxis\"},{\"id\":\"d0eef804-dfc3-4c1e-ad19-d81965a65224\",\"type\":\"Grid\"},{\"id\":\"5fe31b59-f0dc-4ad1-af40-1ef4ba56ea57\",\"type\":\"BoxAnnotation\"},{\"id\":\"38ec9b0d-28bf-47be-9974-842cd5540005\",\"type\":\"PolyAnnotation\"},{\"id\":\"0222a6b0-6028-47e1-b3bf-a8b8bbcaedb8\",\"type\":\"GlyphRenderer\"}],\"title\":\"Pay Ratio\",\"tool_events\":{\"id\":\"bc77edbf-3e70-48da-974e-d0a1192dc784\",\"type\":\"ToolEvents\"},\"tools\":[{\"id\":\"5a3e93fc-b9c1-41f3-980a-b65d0338bf6e\",\"type\":\"PanTool\"},{\"id\":\"a1e27ab1-a86e-4218-9754-0b1c6c4603de\",\"type\":\"WheelZoomTool\"},{\"id\":\"d02d967c-926f-459e-b55f-2303de1dc283\",\"type\":\"BoxZoomTool\"},{\"id\":\"74747936-8043-4b5d-b6e0-42735e62cfd3\",\"type\":\"ResetTool\"},{\"id\":\"8b4ce6b1-49df-4cb3-a58c-d0e6d8741e4f\",\"type\":\"PreviewSaveTool\"},{\"id\":\"48e78bfd-8ede-400a-8f02-d7b9389794af\",\"type\":\"LassoSelectTool\"}],\"x_range\":{\"id\":\"f9470b07-f30c-459d-9538-3d4023c7f535\",\"type\":\"FactorRange\"},\"y_range\":{\"id\":\"c7a2f3d3-b1ed-4ec9-a8ff-9eba690cb999\",\"type\":\"DataRange1d\"}},\"id\":\"c72b441f-8531-481e-8f83-56747c3d54e0\",\"subtype\":\"Figure\",\"type\":\"Plot\"},{\"attributes\":{\"plot\":{\"id\":\"1c1c70b0-bc89-426f-94a7-be58f573589e\",\"subtype\":\"Figure\",\"type\":\"Plot\"}},\"id\":\"14f12857-acec-4ea9-8f8b-6453755af609\",\"type\":\"WheelZoomTool\"}],\"root_ids\":[\"1567cf8c-901f-4e40-aae1-8829e3cc8539\",\"cf6f44f7-10b0-4886-ac82-98eda57f8dae\",\"e8050467-8c1e-413e-b8f0-86d4b69e1599\"]},\"title\":\"Bokeh Application\",\"version\":\"0.11.1\"}};\n",
       "            var render_items = [{\"docid\":\"e26c87a8-274a-40ff-88be-3c12cdf4a3ba\",\"elementid\":\"ac0ca64a-cea8-4a2f-94d3-a462cc42a83b\",\"modelid\":\"e8050467-8c1e-413e-b8f0-86d4b69e1599\",\"notebook_comms_target\":\"52a09eb3-b9a6-452c-88eb-4b4e8bcae158\"}];\n",
       "            \n",
       "            Bokeh.embed.embed_items(docs_json, render_items);\n",
       "        });\n",
       "      },\n",
       "      function(Bokeh) {\n",
       "      }\n",
       "    ];\n",
       "  \n",
       "    function run_inline_js() {\n",
       "      for (var i = 0; i < inline_js.length; i++) {\n",
       "        inline_js[i](window.Bokeh);\n",
       "      }\n",
       "    }\n",
       "  \n",
       "    if (window._bokeh_is_loading === 0) {\n",
       "      console.log(\"Bokeh: BokehJS loaded, going straight to plotting\");\n",
       "      run_inline_js();\n",
       "    } else {\n",
       "      load_libs(js_urls, function() {\n",
       "        console.log(\"Bokeh: BokehJS plotting callback run at\", now());\n",
       "        run_inline_js();\n",
       "      });\n",
       "    }\n",
       "  }(this));\n",
       "</script>"
      ]
     },
     "metadata": {},
     "output_type": "display_data"
    },
    {
     "data": {
      "text/html": [
       "<p><code>&lt;Bokeh Notebook handle for <strong>In[13]</strong>&gt;</code></p>"
      ],
      "text/plain": [
       "<bokeh.io._CommsHandle at 0x1108ba588>"
      ]
     },
     "execution_count": 13,
     "metadata": {},
     "output_type": "execute_result"
    }
   ],
   "source": [
    "TOOLS = \"pan,wheel_zoom,box_zoom,reset,save,lasso_select\"\n",
    "\n",
    "df.sort_values('mean', inplace=True)\n",
    "source = ColumnDataSource(df)\n",
    "s1 = bokeh.plotting.figure(title=\"Pay Avg\",x_range=source.data[\"teamID\"], tools=TOOLS, width=500)\n",
    "s1.scatter(x=\"teamID\", y=\"mean\", source=source)\n",
    "s1.xaxis.major_label_orientation = np.pi/3\n",
    "\n",
    "s2 = bokeh.plotting.figure(title=\"Pay Ratio\", x_range=s1.x_range, tools=TOOLS, width=500)\n",
    "s2.scatter(x=\"teamID\", y=\"ratio\", source=source)\n",
    "s2.xaxis.major_label_orientation = np.pi/3\n",
    "\n",
    "p = bokeh.plotting.gridplot([[s1, s2]])\n",
    "bokeh.io.show(p)"
   ]
  },
  {
   "cell_type": "markdown",
   "metadata": {},
   "source": [
    "<hr/>\n",
    "\n",
    "Now let's join on the AllStars table to see how max salaries and all star count correlate."
   ]
  },
  {
   "cell_type": "code",
   "execution_count": 14,
   "metadata": {
    "collapsed": true
   },
   "outputs": [],
   "source": [
    "with con:\n",
    "    df_allstar = pd.read_sql_query(\"SELECT * from AllstarFull\", con)"
   ]
  },
  {
   "cell_type": "code",
   "execution_count": 15,
   "metadata": {
    "collapsed": false
   },
   "outputs": [
    {
     "data": {
      "text/html": [
       "<div>\n",
       "<table border=\"1\" class=\"dataframe\">\n",
       "  <thead>\n",
       "    <tr style=\"text-align: right;\">\n",
       "      <th></th>\n",
       "      <th>playerID</th>\n",
       "      <th>yearID</th>\n",
       "      <th>gameNum</th>\n",
       "      <th>gameID</th>\n",
       "      <th>teamID</th>\n",
       "      <th>lgID</th>\n",
       "      <th>GP</th>\n",
       "      <th>startingPos</th>\n",
       "    </tr>\n",
       "  </thead>\n",
       "  <tbody>\n",
       "    <tr>\n",
       "      <th>0</th>\n",
       "      <td>aaronha01</td>\n",
       "      <td>1955</td>\n",
       "      <td>0</td>\n",
       "      <td>NLS195507120</td>\n",
       "      <td>ML1</td>\n",
       "      <td>NL</td>\n",
       "      <td>1.0</td>\n",
       "      <td>NaN</td>\n",
       "    </tr>\n",
       "    <tr>\n",
       "      <th>1</th>\n",
       "      <td>aaronha01</td>\n",
       "      <td>1956</td>\n",
       "      <td>0</td>\n",
       "      <td>ALS195607100</td>\n",
       "      <td>ML1</td>\n",
       "      <td>NL</td>\n",
       "      <td>1.0</td>\n",
       "      <td>NaN</td>\n",
       "    </tr>\n",
       "    <tr>\n",
       "      <th>2</th>\n",
       "      <td>aaronha01</td>\n",
       "      <td>1957</td>\n",
       "      <td>0</td>\n",
       "      <td>NLS195707090</td>\n",
       "      <td>ML1</td>\n",
       "      <td>NL</td>\n",
       "      <td>1.0</td>\n",
       "      <td>9.0</td>\n",
       "    </tr>\n",
       "    <tr>\n",
       "      <th>3</th>\n",
       "      <td>aaronha01</td>\n",
       "      <td>1958</td>\n",
       "      <td>0</td>\n",
       "      <td>ALS195807080</td>\n",
       "      <td>ML1</td>\n",
       "      <td>NL</td>\n",
       "      <td>1.0</td>\n",
       "      <td>9.0</td>\n",
       "    </tr>\n",
       "    <tr>\n",
       "      <th>4</th>\n",
       "      <td>aaronha01</td>\n",
       "      <td>1959</td>\n",
       "      <td>1</td>\n",
       "      <td>NLS195907070</td>\n",
       "      <td>ML1</td>\n",
       "      <td>NL</td>\n",
       "      <td>1.0</td>\n",
       "      <td>9.0</td>\n",
       "    </tr>\n",
       "  </tbody>\n",
       "</table>\n",
       "</div>"
      ],
      "text/plain": [
       "    playerID  yearID  gameNum        gameID teamID lgID   GP  startingPos\n",
       "0  aaronha01    1955        0  NLS195507120    ML1   NL  1.0          NaN\n",
       "1  aaronha01    1956        0  ALS195607100    ML1   NL  1.0          NaN\n",
       "2  aaronha01    1957        0  NLS195707090    ML1   NL  1.0          9.0\n",
       "3  aaronha01    1958        0  ALS195807080    ML1   NL  1.0          9.0\n",
       "4  aaronha01    1959        1  NLS195907070    ML1   NL  1.0          9.0"
      ]
     },
     "execution_count": 15,
     "metadata": {},
     "output_type": "execute_result"
    }
   ],
   "source": [
    "df_allstar.head()"
   ]
  },
  {
   "cell_type": "code",
   "execution_count": 16,
   "metadata": {
    "collapsed": false
   },
   "outputs": [],
   "source": [
    "df_allstar_count = df_allstar.groupby('teamID')['playerID'].agg(np.count_nonzero)"
   ]
  },
  {
   "cell_type": "code",
   "execution_count": 17,
   "metadata": {
    "collapsed": false
   },
   "outputs": [
    {
     "data": {
      "text/plain": [
       "teamID\n",
       "ANA     14\n",
       "ARI     33\n",
       "ARL      1\n",
       "ATL    134\n",
       "BAL    169\n",
       "Name: playerID, dtype: int64"
      ]
     },
     "execution_count": 17,
     "metadata": {},
     "output_type": "execute_result"
    }
   ],
   "source": [
    "df_allstar_count.head()"
   ]
  },
  {
   "cell_type": "code",
   "execution_count": 18,
   "metadata": {
    "collapsed": false
   },
   "outputs": [
    {
     "data": {
      "text/plain": [
       "teamID\n",
       "NYA    412\n",
       "Name: playerID, dtype: int64"
      ]
     },
     "execution_count": 18,
     "metadata": {},
     "output_type": "execute_result"
    }
   ],
   "source": [
    "df_allstar_count[df_allstar_count == df_allstar_count.max()]"
   ]
  },
  {
   "cell_type": "markdown",
   "metadata": {},
   "source": [
    "Now let's use this as the size of the circles in the scatter plot"
   ]
  },
  {
   "cell_type": "code",
   "execution_count": 19,
   "metadata": {
    "collapsed": true
   },
   "outputs": [],
   "source": [
    "df_allstar_count_circle_size = 10 * df_allstar_count / df_allstar_count.max() + 10"
   ]
  },
  {
   "cell_type": "markdown",
   "metadata": {},
   "source": [
    "<hr/>\n",
    "\n",
    "Now lets join the data to all_star sizes"
   ]
  },
  {
   "cell_type": "code",
   "execution_count": 20,
   "metadata": {
    "collapsed": true
   },
   "outputs": [],
   "source": [
    "df = pd.DataFrame()"
   ]
  },
  {
   "cell_type": "code",
   "execution_count": 21,
   "metadata": {
    "collapsed": false
   },
   "outputs": [],
   "source": [
    "df = df.append(salary_by_team)"
   ]
  },
  {
   "cell_type": "code",
   "execution_count": 22,
   "metadata": {
    "collapsed": false
   },
   "outputs": [],
   "source": [
    "salary_by_team['all_stars'] = df_allstar_count_circle_size"
   ]
  },
  {
   "cell_type": "code",
   "execution_count": 23,
   "metadata": {
    "collapsed": true
   },
   "outputs": [],
   "source": [
    "df.append?"
   ]
  },
  {
   "cell_type": "code",
   "execution_count": 24,
   "metadata": {
    "collapsed": false
   },
   "outputs": [
    {
     "data": {
      "text/html": [
       "<div>\n",
       "<table border=\"1\" class=\"dataframe\">\n",
       "  <thead>\n",
       "    <tr style=\"text-align: right;\">\n",
       "      <th></th>\n",
       "      <th>mean</th>\n",
       "      <th>std</th>\n",
       "      <th>amax</th>\n",
       "      <th>amin</th>\n",
       "      <th>ratio</th>\n",
       "      <th>teamID</th>\n",
       "    </tr>\n",
       "    <tr>\n",
       "      <th>teamID</th>\n",
       "      <th></th>\n",
       "      <th></th>\n",
       "      <th></th>\n",
       "      <th></th>\n",
       "      <th></th>\n",
       "      <th></th>\n",
       "    </tr>\n",
       "  </thead>\n",
       "  <tbody>\n",
       "    <tr>\n",
       "      <th>ANA</th>\n",
       "      <td>1.895109e+06</td>\n",
       "      <td>2.667147e+06</td>\n",
       "      <td>13166667.0</td>\n",
       "      <td>150000.0</td>\n",
       "      <td>87.777780</td>\n",
       "      <td>ANA</td>\n",
       "    </tr>\n",
       "    <tr>\n",
       "      <th>ARI</th>\n",
       "      <td>2.428196e+06</td>\n",
       "      <td>2.971520e+06</td>\n",
       "      <td>16000000.0</td>\n",
       "      <td>170000.0</td>\n",
       "      <td>94.117647</td>\n",
       "      <td>ARI</td>\n",
       "    </tr>\n",
       "    <tr>\n",
       "      <th>ATL</th>\n",
       "      <td>2.130475e+06</td>\n",
       "      <td>3.373518e+06</td>\n",
       "      <td>16061802.0</td>\n",
       "      <td>60000.0</td>\n",
       "      <td>267.696700</td>\n",
       "      <td>ATL</td>\n",
       "    </tr>\n",
       "    <tr>\n",
       "      <th>BAL</th>\n",
       "      <td>1.785712e+06</td>\n",
       "      <td>2.491109e+06</td>\n",
       "      <td>17000000.0</td>\n",
       "      <td>60000.0</td>\n",
       "      <td>283.333333</td>\n",
       "      <td>BAL</td>\n",
       "    </tr>\n",
       "    <tr>\n",
       "      <th>BOS</th>\n",
       "      <td>2.692114e+06</td>\n",
       "      <td>3.861802e+06</td>\n",
       "      <td>22500000.0</td>\n",
       "      <td>60000.0</td>\n",
       "      <td>375.000000</td>\n",
       "      <td>BOS</td>\n",
       "    </tr>\n",
       "  </tbody>\n",
       "</table>\n",
       "</div>"
      ],
      "text/plain": [
       "                mean           std        amax      amin       ratio teamID\n",
       "teamID                                                                     \n",
       "ANA     1.895109e+06  2.667147e+06  13166667.0  150000.0   87.777780    ANA\n",
       "ARI     2.428196e+06  2.971520e+06  16000000.0  170000.0   94.117647    ARI\n",
       "ATL     2.130475e+06  3.373518e+06  16061802.0   60000.0  267.696700    ATL\n",
       "BAL     1.785712e+06  2.491109e+06  17000000.0   60000.0  283.333333    BAL\n",
       "BOS     2.692114e+06  3.861802e+06  22500000.0   60000.0  375.000000    BOS"
      ]
     },
     "execution_count": 24,
     "metadata": {},
     "output_type": "execute_result"
    }
   ],
   "source": [
    "df.head()"
   ]
  },
  {
   "cell_type": "code",
   "execution_count": 25,
   "metadata": {
    "collapsed": false
   },
   "outputs": [
    {
     "name": "stdout",
     "output_type": "stream",
     "text": [
      "                mean           std        amax      amin       ratio teamID  \\\n",
      "teamID                                                                        \n",
      "CAL     7.390732e+05  9.606285e+05   5375000.0   60000.0   89.583333    CAL   \n",
      "ML4     6.132436e+05  8.535337e+05   5875000.0   60000.0   97.916667    ML4   \n",
      "TBA     1.528400e+06  2.011091e+06  10125000.0  170000.0   59.558824    TBA   \n",
      "MON     7.074589e+05  1.192678e+06  11500000.0   60000.0  191.666667    MON   \n",
      "KCA     1.299026e+06  1.951653e+06  13000000.0   60000.0  216.666667    KCA   \n",
      "\n",
      "        all_stars  \n",
      "teamID             \n",
      "CAL     11.626214  \n",
      "ML4     11.165049  \n",
      "TBA     10.703883  \n",
      "MON     11.699029  \n",
      "KCA     12.014563  \n"
     ]
    },
    {
     "data": {
      "text/html": [
       "\n",
       "\n",
       "    <div class=\"plotdiv\" id=\"a4978fa7-52d2-4cc3-9328-9c245492a8b0\"></div>\n",
       "<script type=\"text/javascript\">\n",
       "  \n",
       "  (function(global) {\n",
       "    function now() {\n",
       "      return new Date();\n",
       "    }\n",
       "  \n",
       "    if (typeof (window._bokeh_onload_callbacks) === \"undefined\") {\n",
       "      window._bokeh_onload_callbacks = [];\n",
       "    }\n",
       "  \n",
       "    function run_callbacks() {\n",
       "      window._bokeh_onload_callbacks.forEach(function(callback) { callback() });\n",
       "      delete window._bokeh_onload_callbacks\n",
       "      console.info(\"Bokeh: all callbacks have finished\");\n",
       "    }\n",
       "  \n",
       "    function load_libs(js_urls, callback) {\n",
       "      window._bokeh_onload_callbacks.push(callback);\n",
       "      if (window._bokeh_is_loading > 0) {\n",
       "        console.log(\"Bokeh: BokehJS is being loaded, scheduling callback at\", now());\n",
       "        return null;\n",
       "      }\n",
       "      if (js_urls == null || js_urls.length === 0) {\n",
       "        run_callbacks();\n",
       "        return null;\n",
       "      }\n",
       "      console.log(\"Bokeh: BokehJS not loaded, scheduling load and callback at\", now());\n",
       "      window._bokeh_is_loading = js_urls.length;\n",
       "      for (var i = 0; i < js_urls.length; i++) {\n",
       "        var url = js_urls[i];\n",
       "        var s = document.createElement('script');\n",
       "        s.src = url;\n",
       "        s.async = false;\n",
       "        s.onreadystatechange = s.onload = function() {\n",
       "          window._bokeh_is_loading--;\n",
       "          if (window._bokeh_is_loading === 0) {\n",
       "            console.log(\"Bokeh: all BokehJS libraries loaded\");\n",
       "            run_callbacks()\n",
       "          }\n",
       "        };\n",
       "        s.onerror = function() {\n",
       "          console.warn(\"failed to load library \" + url);\n",
       "        };\n",
       "        console.log(\"Bokeh: injecting script tag for BokehJS library: \", url);\n",
       "        document.getElementsByTagName(\"head\")[0].appendChild(s);\n",
       "      }\n",
       "    };var element = document.getElementById(\"a4978fa7-52d2-4cc3-9328-9c245492a8b0\");\n",
       "    if (element == null) {\n",
       "      console.log(\"Bokeh: ERROR: autoload.js configured with elementid 'a4978fa7-52d2-4cc3-9328-9c245492a8b0' but no matching script tag was found. \")\n",
       "      return false;\n",
       "    }\n",
       "  \n",
       "    var js_urls = [];\n",
       "  \n",
       "    var inline_js = [\n",
       "      function(Bokeh) {\n",
       "        Bokeh.$(function() {\n",
       "            var docs_json = {\"bd7b1f14-dee0-44a9-9b50-38156976a03b\":{\"roots\":{\"references\":[{\"attributes\":{\"fill_alpha\":{\"value\":0.5},\"fill_color\":{\"value\":\"#1f77b4\"},\"line_color\":{\"value\":\"#1f77b4\"},\"size\":{\"field\":\"all_stars\",\"units\":\"screen\"},\"x\":{\"field\":\"teamID\"},\"y\":{\"field\":\"amax\"}},\"id\":\"172c4d4c-abe0-4c46-9a79-4c002be81c1d\",\"type\":\"Circle\"},{\"attributes\":{\"plot\":{\"id\":\"1567cf8c-901f-4e40-aae1-8829e3cc8539\",\"subtype\":\"Figure\",\"type\":\"Plot\"}},\"id\":\"712a20e6-e29d-4af2-8ed2-d97fb32ef468\",\"type\":\"ResizeTool\"},{\"attributes\":{\"formatter\":{\"id\":\"429607d8-eae9-4d72-a5c7-8f64523648e4\",\"type\":\"BasicTickFormatter\"},\"plot\":{\"id\":\"1567cf8c-901f-4e40-aae1-8829e3cc8539\",\"subtype\":\"Figure\",\"type\":\"Plot\"},\"ticker\":{\"id\":\"f43f9266-213d-4c55-acd6-03210f758590\",\"type\":\"BasicTicker\"}},\"id\":\"23934e2a-0485-4404-b468-a32360da66d8\",\"type\":\"LinearAxis\"},{\"attributes\":{},\"id\":\"cbeed4ed-3660-478a-a3d0-f3796e2c6f24\",\"type\":\"BasicTickFormatter\"},{\"attributes\":{\"callback\":null},\"id\":\"9ce9b965-b164-45b3-9d96-0e1ef76b518e\",\"type\":\"DataRange1d\"},{\"attributes\":{\"below\":[{\"id\":\"7600e734-84f5-4561-91d7-7720a917d3a8\",\"type\":\"CategoricalAxis\"}],\"left\":[{\"id\":\"2017aab3-9d6d-4d4b-8c81-a26beabab7b7\",\"type\":\"LinearAxis\"}],\"renderers\":[{\"id\":\"7600e734-84f5-4561-91d7-7720a917d3a8\",\"type\":\"CategoricalAxis\"},{\"id\":\"9859341d-8bc1-4f42-a4db-b870616b5407\",\"type\":\"Grid\"},{\"id\":\"2017aab3-9d6d-4d4b-8c81-a26beabab7b7\",\"type\":\"LinearAxis\"},{\"id\":\"ae8e806b-293f-47cc-bbe5-b02da336aa39\",\"type\":\"Grid\"},{\"id\":\"8fac1c54-2951-4bae-9ab7-5f5a69089f57\",\"type\":\"BoxAnnotation\"},{\"id\":\"9db66536-cfea-4f4a-bd5a-42bad1d6b525\",\"type\":\"GlyphRenderer\"}],\"tool_events\":{\"id\":\"d81014cb-a9ff-4d0a-9ec2-8a131aceb2ab\",\"type\":\"ToolEvents\"},\"tools\":[{\"id\":\"5837330a-f4de-494d-9ff8-8b8f765be3de\",\"type\":\"PanTool\"},{\"id\":\"7b8269e5-8671-43d2-bb7f-32444ee84aca\",\"type\":\"WheelZoomTool\"},{\"id\":\"75caeff2-fa55-4929-ac69-30474d75c740\",\"type\":\"BoxZoomTool\"},{\"id\":\"91397304-e346-4af1-9f8e-2d151c027fd2\",\"type\":\"PreviewSaveTool\"},{\"id\":\"e4bd50eb-6051-4a36-80c8-b7d6997ce7e3\",\"type\":\"ResizeTool\"},{\"id\":\"07db9d1d-aace-4bff-a9b9-ad184aaf8a30\",\"type\":\"ResetTool\"},{\"id\":\"bf60ebc2-35d2-4b00-b036-a819dc2b1bed\",\"type\":\"HelpTool\"}],\"x_range\":{\"id\":\"2cef1b64-2838-4f76-a848-49caff272e56\",\"type\":\"FactorRange\"},\"y_range\":{\"id\":\"3696ff42-b277-4350-b1bb-af27c49bbecb\",\"type\":\"DataRange1d\"}},\"id\":\"cf6f44f7-10b0-4886-ac82-98eda57f8dae\",\"subtype\":\"Figure\",\"type\":\"Plot\"},{\"attributes\":{\"overlay\":{\"id\":\"38ec9b0d-28bf-47be-9974-842cd5540005\",\"type\":\"PolyAnnotation\"},\"plot\":{\"id\":\"c72b441f-8531-481e-8f83-56747c3d54e0\",\"subtype\":\"Figure\",\"type\":\"Plot\"}},\"id\":\"48e78bfd-8ede-400a-8f02-d7b9389794af\",\"type\":\"LassoSelectTool\"},{\"attributes\":{\"overlay\":{\"id\":\"5c4d942d-60a7-4adb-b5c0-f404a096c93a\",\"type\":\"PolyAnnotation\"},\"plot\":{\"id\":\"1c1c70b0-bc89-426f-94a7-be58f573589e\",\"subtype\":\"Figure\",\"type\":\"Plot\"}},\"id\":\"b6b550a8-29d2-4126-894c-1616a9b2a36c\",\"type\":\"LassoSelectTool\"},{\"attributes\":{\"plot\":{\"id\":\"cf6f44f7-10b0-4886-ac82-98eda57f8dae\",\"subtype\":\"Figure\",\"type\":\"Plot\"}},\"id\":\"07db9d1d-aace-4bff-a9b9-ad184aaf8a30\",\"type\":\"ResetTool\"},{\"attributes\":{\"fill_color\":{\"value\":\"#1f77b4\"},\"line_color\":{\"value\":\"#1f77b4\"},\"x\":{\"field\":\"teamID\"},\"y\":{\"field\":\"ratio\"}},\"id\":\"404b5c35-1584-4e4b-b30b-8c0cc9f1aa04\",\"type\":\"Circle\"},{\"attributes\":{\"plot\":{\"id\":\"1567cf8c-901f-4e40-aae1-8829e3cc8539\",\"subtype\":\"Figure\",\"type\":\"Plot\"}},\"id\":\"3ff4d956-06a6-47c7-93e0-fee0077d9e01\",\"type\":\"HelpTool\"},{\"attributes\":{\"dimension\":1,\"plot\":{\"id\":\"c72b441f-8531-481e-8f83-56747c3d54e0\",\"subtype\":\"Figure\",\"type\":\"Plot\"},\"ticker\":{\"id\":\"c197da3c-c61f-4070-926a-18cedc25bcd4\",\"type\":\"BasicTicker\"}},\"id\":\"d0eef804-dfc3-4c1e-ad19-d81965a65224\",\"type\":\"Grid\"},{\"attributes\":{\"dimension\":1,\"plot\":{\"id\":\"1c1c70b0-bc89-426f-94a7-be58f573589e\",\"subtype\":\"Figure\",\"type\":\"Plot\"},\"ticker\":{\"id\":\"a0422ac8-7eda-4bb9-b27c-6eef20e4ef81\",\"type\":\"BasicTicker\"}},\"id\":\"fd3f5781-47a3-49b1-bf6a-d9d7025c6c70\",\"type\":\"Grid\"},{\"attributes\":{\"plot\":{\"id\":\"01323d32-4ce5-4102-a13c-fda2cb4b7e98\",\"subtype\":\"Figure\",\"type\":\"Plot\"}},\"id\":\"088649cc-9383-43b4-aab6-ff7ae3d3d12f\",\"type\":\"ResizeTool\"},{\"attributes\":{\"children\":[[{\"id\":\"1c1c70b0-bc89-426f-94a7-be58f573589e\",\"subtype\":\"Figure\",\"type\":\"Plot\"},{\"id\":\"c72b441f-8531-481e-8f83-56747c3d54e0\",\"subtype\":\"Figure\",\"type\":\"Plot\"}]]},\"id\":\"e8050467-8c1e-413e-b8f0-86d4b69e1599\",\"type\":\"GridPlot\"},{\"attributes\":{\"plot\":{\"id\":\"c72b441f-8531-481e-8f83-56747c3d54e0\",\"subtype\":\"Figure\",\"type\":\"Plot\"}},\"id\":\"5a3e93fc-b9c1-41f3-980a-b65d0338bf6e\",\"type\":\"PanTool\"},{\"attributes\":{\"plot\":{\"id\":\"01323d32-4ce5-4102-a13c-fda2cb4b7e98\",\"subtype\":\"Figure\",\"type\":\"Plot\"}},\"id\":\"94efae4e-bb9e-48bd-8a78-0b43703c1832\",\"type\":\"WheelZoomTool\"},{\"attributes\":{},\"id\":\"a958c7f2-09ee-4b0d-be52-a7c571bd27dc\",\"type\":\"BasicTickFormatter\"},{\"attributes\":{\"plot\":{\"id\":\"1567cf8c-901f-4e40-aae1-8829e3cc8539\",\"subtype\":\"Figure\",\"type\":\"Plot\"}},\"id\":\"1213d84c-5496-4ec4-9d6c-9953d60c21b9\",\"type\":\"WheelZoomTool\"},{\"attributes\":{\"overlay\":{\"id\":\"431886b7-d624-4df1-aea5-b7121571d453\",\"type\":\"BoxAnnotation\"},\"plot\":{\"id\":\"01323d32-4ce5-4102-a13c-fda2cb4b7e98\",\"subtype\":\"Figure\",\"type\":\"Plot\"}},\"id\":\"300444b5-1eab-46b6-a9a1-7bfbb2cabb16\",\"type\":\"BoxZoomTool\"},{\"attributes\":{\"callback\":null},\"id\":\"1a7a7827-711d-4d99-bcdb-19b067f76814\",\"type\":\"DataRange1d\"},{\"attributes\":{},\"id\":\"666e04f2-0e73-4e19-ac37-d6428b4e456a\",\"type\":\"BasicTicker\"},{\"attributes\":{\"overlay\":{\"id\":\"0472a844-dee6-4c45-a598-26e7cf48c20a\",\"type\":\"BoxAnnotation\"},\"plot\":{\"id\":\"1c1c70b0-bc89-426f-94a7-be58f573589e\",\"subtype\":\"Figure\",\"type\":\"Plot\"}},\"id\":\"517759e7-1512-4ca8-aaf5-cef209b00d7f\",\"type\":\"BoxZoomTool\"},{\"attributes\":{\"formatter\":{\"id\":\"be87fd0b-4896-4615-ac0c-44cc06d25ba7\",\"type\":\"CategoricalTickFormatter\"},\"major_label_orientation\":1.0471975511965976,\"plot\":{\"id\":\"01323d32-4ce5-4102-a13c-fda2cb4b7e98\",\"subtype\":\"Figure\",\"type\":\"Plot\"},\"ticker\":{\"id\":\"a4eed59e-8b86-4c1a-a9cf-23ee44c944e3\",\"type\":\"CategoricalTicker\"}},\"id\":\"13de03ad-cf15-4f41-b88d-34f792396766\",\"type\":\"CategoricalAxis\"},{\"attributes\":{\"formatter\":{\"id\":\"57bed416-92f0-4563-88ba-b1b56557f3ad\",\"type\":\"CategoricalTickFormatter\"},\"major_label_orientation\":1.0471975511965976,\"plot\":{\"id\":\"1c1c70b0-bc89-426f-94a7-be58f573589e\",\"subtype\":\"Figure\",\"type\":\"Plot\"},\"ticker\":{\"id\":\"0e0532be-9a5d-4eba-876b-814b48f269c7\",\"type\":\"CategoricalTicker\"}},\"id\":\"543fe452-c9bb-4b1d-a9e4-ce420c156c05\",\"type\":\"CategoricalAxis\"},{\"attributes\":{},\"id\":\"bb25dee4-98a4-4395-b5b9-01e50808ea0a\",\"type\":\"BasicTicker\"},{\"attributes\":{},\"id\":\"c197da3c-c61f-4070-926a-18cedc25bcd4\",\"type\":\"BasicTicker\"},{\"attributes\":{\"plot\":{\"id\":\"cf6f44f7-10b0-4886-ac82-98eda57f8dae\",\"subtype\":\"Figure\",\"type\":\"Plot\"}},\"id\":\"bf60ebc2-35d2-4b00-b036-a819dc2b1bed\",\"type\":\"HelpTool\"},{\"attributes\":{\"formatter\":{\"id\":\"cbeed4ed-3660-478a-a3d0-f3796e2c6f24\",\"type\":\"BasicTickFormatter\"},\"plot\":{\"id\":\"01323d32-4ce5-4102-a13c-fda2cb4b7e98\",\"subtype\":\"Figure\",\"type\":\"Plot\"},\"ticker\":{\"id\":\"bb25dee4-98a4-4395-b5b9-01e50808ea0a\",\"type\":\"BasicTicker\"}},\"id\":\"db79a8f8-e081-46cd-ba10-0c4ce7566736\",\"type\":\"LinearAxis\"},{\"attributes\":{\"callback\":null,\"factors\":[\"ML4\",\"MON\",\"CAL\",\"PIT\",\"FLO\",\"KCA\",\"OAK\",\"SDN\",\"MIN\",\"CLE\",\"TBA\",\"CIN\",\"HOU\",\"TOR\",\"BAL\",\"TEX\",\"ANA\",\"SLN\",\"SEA\",\"COL\",\"DET\",\"CHA\",\"SFN\",\"PHI\",\"MIL\",\"ATL\",\"CHN\",\"WAS\",\"NYN\",\"LAN\",\"ARI\",\"BOS\",\"MIA\",\"NYA\",\"LAA\"]},\"id\":\"aa817edc-ab16-4bda-850e-9c5e9141dfc6\",\"type\":\"FactorRange\"},{\"attributes\":{\"plot\":{\"id\":\"01323d32-4ce5-4102-a13c-fda2cb4b7e98\",\"subtype\":\"Figure\",\"type\":\"Plot\"}},\"id\":\"120df28c-0f77-42f4-846d-8c1e3843c236\",\"type\":\"PreviewSaveTool\"},{\"attributes\":{},\"id\":\"a0422ac8-7eda-4bb9-b27c-6eef20e4ef81\",\"type\":\"BasicTicker\"},{\"attributes\":{\"plot\":{\"id\":\"1567cf8c-901f-4e40-aae1-8829e3cc8539\",\"subtype\":\"Figure\",\"type\":\"Plot\"}},\"id\":\"91d5691a-0250-4c63-b306-d3d95e3c951b\",\"type\":\"ResetTool\"},{\"attributes\":{\"plot\":{\"id\":\"1c1c70b0-bc89-426f-94a7-be58f573589e\",\"subtype\":\"Figure\",\"type\":\"Plot\"}},\"id\":\"435b9a54-3323-41d5-ac4f-1b8174f44aa0\",\"type\":\"PanTool\"},{\"attributes\":{\"callback\":null},\"id\":\"3696ff42-b277-4350-b1bb-af27c49bbecb\",\"type\":\"DataRange1d\"},{\"attributes\":{},\"id\":\"be87fd0b-4896-4615-ac0c-44cc06d25ba7\",\"type\":\"CategoricalTickFormatter\"},{\"attributes\":{\"bottom_units\":\"screen\",\"fill_alpha\":{\"value\":0.5},\"fill_color\":{\"value\":\"lightgrey\"},\"left_units\":\"screen\",\"level\":\"overlay\",\"line_alpha\":{\"value\":1.0},\"line_color\":{\"value\":\"black\"},\"line_dash\":[4,4],\"line_width\":{\"value\":2},\"plot\":null,\"render_mode\":\"css\",\"right_units\":\"screen\",\"top_units\":\"screen\"},\"id\":\"431886b7-d624-4df1-aea5-b7121571d453\",\"type\":\"BoxAnnotation\"},{\"attributes\":{\"fill_color\":{\"value\":\"#1f77b4\"},\"line_color\":{\"value\":\"#1f77b4\"},\"x\":{\"field\":\"teamID\"},\"y\":{\"field\":\"mean\"}},\"id\":\"2809b14b-d6f1-4897-9656-04cf8c8bb091\",\"type\":\"Circle\"},{\"attributes\":{\"overlay\":{\"id\":\"5fe31b59-f0dc-4ad1-af40-1ef4ba56ea57\",\"type\":\"BoxAnnotation\"},\"plot\":{\"id\":\"c72b441f-8531-481e-8f83-56747c3d54e0\",\"subtype\":\"Figure\",\"type\":\"Plot\"}},\"id\":\"d02d967c-926f-459e-b55f-2303de1dc283\",\"type\":\"BoxZoomTool\"},{\"attributes\":{\"plot\":{\"id\":\"1c1c70b0-bc89-426f-94a7-be58f573589e\",\"subtype\":\"Figure\",\"type\":\"Plot\"}},\"id\":\"e03516e3-5656-4e86-ad7c-c6d0c9540fdf\",\"type\":\"ResetTool\"},{\"attributes\":{\"callback\":null,\"column_names\":[\"amax\",\"std\",\"amin\",\"ratio\",\"mean\",\"teamID\"],\"data\":{\"amax\":[5875000.0,11500000.0,5375000.0,16500000.0,14936667.0,13000000.0,13500000.0,15505142.0,23000000.0,15000000.0,10125000.0,18910655.0,19369019.0,19700000.0,17000000.0,22000000.0,13166667.0,16333327.0,20557143.0,20275000.0,23000000.0,17000000.0,22250000.0,25000000.0,15500000.0,16061802.0,19000000.0,16571429.0,23145011.0,23854494.0,16000000.0,22500000.0,19000000.0,33000000.0,26187500.0],\"amin\":[60000.0,60000.0,60000.0,0.0,50000.0,60000.0,60000.0,60000.0,60000.0,60000.0,170000.0,60000.0,60000.0,60000.0,60000.0,60000.0,150000.0,60000.0,60000.0,109000.0,60000.0,50000.0,60000.0,60000.0,170000.0,60000.0,60000.0,316000.0,60000.0,60000.0,170000.0,60000.0,480000.0,0.0,316000.0],\"mean\":[613243.5800524935,707458.8578856152,739073.179347826,1077989.6803760282,1147986.4030612244,1299025.7868080095,1303094.7988304093,1317959.64354067,1525031.650385604,1525794.9584775087,1528399.5054945054,1568035.2813238772,1705561.3130434782,1768710.9600484262,1785712.3251461987,1874651.551143201,1895109.2024291498,1928832.5547785547,1932288.913202934,1945628.4724025973,1980834.9902080784,1992653.5012315272,2044198.6841463414,2092230.9326364691,2095008.9668141592,2130474.682577566,2185518.65408039,2243755.1576923076,2317349.977245509,2346982.6980255516,2428195.9126637555,2692113.8568075118,2974115.68627451,3608860.1485380116,4151107.171875],\"ratio\":[97.91666666666667,191.66666666666666,89.58333333333333,\"Infinity\",298.73334,216.66666666666666,225.0,258.41903333333335,383.3333333333333,250.0,59.55882352941177,315.17758333333336,322.8169833333333,328.3333333333333,283.3333333333333,366.6666666666667,87.77778,272.2221166666667,342.61905,186.0091743119266,383.3333333333333,340.0,370.8333333333333,416.6666666666667,91.17647058823529,267.6967,316.6666666666667,52.44123101265823,385.7501833333333,397.5749,94.11764705882354,375.0,39.583333333333336,\"Infinity\",82.87183544303798],\"std\":[853533.7163845291,1192678.1516411488,960628.5390361849,1720168.0769492872,1808397.0244389344,1951652.8801389195,2000776.9925032738,1971054.4478543361,2684866.4482354484,2251972.7754913056,2011091.1980497667,2489143.8459413988,3083466.905934261,2714273.250736591,2491109.1857474186,3014408.0266307434,2667146.9245296065,3014710.9368142053,3047418.722298252,2980228.8372444157,3388685.94679665,3185499.881674104,3305606.755051485,3607534.5605039247,2733957.135136098,3373518.217679483,3419997.897579085,2922931.2647121297,3693195.594629475,3598846.2978953356,2971520.2250774694,3861801.8178376732,4339254.417587083,5638218.508062519,4950547.469858126],\"teamID\":[\"ML4\",\"MON\",\"CAL\",\"PIT\",\"FLO\",\"KCA\",\"OAK\",\"SDN\",\"MIN\",\"CLE\",\"TBA\",\"CIN\",\"HOU\",\"TOR\",\"BAL\",\"TEX\",\"ANA\",\"SLN\",\"SEA\",\"COL\",\"DET\",\"CHA\",\"SFN\",\"PHI\",\"MIL\",\"ATL\",\"CHN\",\"WAS\",\"NYN\",\"LAN\",\"ARI\",\"BOS\",\"MIA\",\"NYA\",\"LAA\"]}},\"id\":\"4e268405-1ef4-4851-986a-f677dea2a2da\",\"type\":\"ColumnDataSource\"},{\"attributes\":{\"formatter\":{\"id\":\"c19702d3-4abb-40b8-b1f2-0e16deac361b\",\"type\":\"CategoricalTickFormatter\"},\"plot\":{\"id\":\"1567cf8c-901f-4e40-aae1-8829e3cc8539\",\"subtype\":\"Figure\",\"type\":\"Plot\"},\"ticker\":{\"id\":\"afe912b8-9dcb-45a7-9034-b4fa542becbc\",\"type\":\"CategoricalTicker\"}},\"id\":\"eb993097-caa8-4386-b39f-35ecc9a3789f\",\"type\":\"CategoricalAxis\"},{\"attributes\":{\"fill_alpha\":{\"value\":0.1},\"fill_color\":{\"value\":\"#1f77b4\"},\"line_alpha\":{\"value\":0.1},\"line_color\":{\"value\":\"#1f77b4\"},\"size\":{\"field\":\"all_stars\",\"units\":\"screen\"},\"x\":{\"field\":\"teamID\"},\"y\":{\"field\":\"amax\"}},\"id\":\"43c372e0-ed64-46dd-b4f6-1ea2928aa053\",\"type\":\"Circle\"},{\"attributes\":{\"plot\":{\"id\":\"c72b441f-8531-481e-8f83-56747c3d54e0\",\"subtype\":\"Figure\",\"type\":\"Plot\"}},\"id\":\"74747936-8043-4b5d-b6e0-42735e62cfd3\",\"type\":\"ResetTool\"},{\"attributes\":{\"data_source\":{\"id\":\"bc3aa5f2-859b-499d-848a-3a97b2736eba\",\"type\":\"ColumnDataSource\"},\"glyph\":{\"id\":\"2809b14b-d6f1-4897-9656-04cf8c8bb091\",\"type\":\"Circle\"},\"hover_glyph\":null,\"nonselection_glyph\":{\"id\":\"ec70a90f-67d3-401b-b27e-bef56d7df459\",\"type\":\"Circle\"},\"selection_glyph\":null},\"id\":\"09534edb-f086-4332-8bd1-3d16e1b6a0ab\",\"type\":\"GlyphRenderer\"},{\"attributes\":{},\"id\":\"f43f9266-213d-4c55-acd6-03210f758590\",\"type\":\"BasicTicker\"},{\"attributes\":{\"bottom_units\":\"screen\",\"fill_alpha\":{\"value\":0.5},\"fill_color\":{\"value\":\"lightgrey\"},\"left_units\":\"screen\",\"level\":\"overlay\",\"line_alpha\":{\"value\":1.0},\"line_color\":{\"value\":\"black\"},\"line_dash\":[4,4],\"line_width\":{\"value\":2},\"plot\":null,\"render_mode\":\"css\",\"right_units\":\"screen\",\"top_units\":\"screen\"},\"id\":\"2596c9e8-39b0-47ca-a3f1-15287afcca5d\",\"type\":\"BoxAnnotation\"},{\"attributes\":{},\"id\":\"0c75ccc5-5357-445e-95e6-2f80e82eaf83\",\"type\":\"ToolEvents\"},{\"attributes\":{},\"id\":\"a4eed59e-8b86-4c1a-a9cf-23ee44c944e3\",\"type\":\"CategoricalTicker\"},{\"attributes\":{},\"id\":\"b4dd723b-6a89-4098-bceb-1fe5e03a3769\",\"type\":\"BasicTickFormatter\"},{\"attributes\":{\"formatter\":{\"id\":\"b48ed5ef-1c44-460e-b909-0c66b59aac6c\",\"type\":\"CategoricalTickFormatter\"},\"major_label_orientation\":1.0471975511965976,\"plot\":{\"id\":\"cf6f44f7-10b0-4886-ac82-98eda57f8dae\",\"subtype\":\"Figure\",\"type\":\"Plot\"},\"ticker\":{\"id\":\"dfc9aef4-e290-45c9-bf38-31b45317fce1\",\"type\":\"CategoricalTicker\"}},\"id\":\"7600e734-84f5-4561-91d7-7720a917d3a8\",\"type\":\"CategoricalAxis\"},{\"attributes\":{\"overlay\":{\"id\":\"2596c9e8-39b0-47ca-a3f1-15287afcca5d\",\"type\":\"BoxAnnotation\"},\"plot\":{\"id\":\"1567cf8c-901f-4e40-aae1-8829e3cc8539\",\"subtype\":\"Figure\",\"type\":\"Plot\"}},\"id\":\"6a5de49c-8dd8-4d62-93d9-57de228ef2f5\",\"type\":\"BoxZoomTool\"},{\"attributes\":{\"callback\":null,\"factors\":[\"ML4\",\"MON\",\"CAL\",\"PIT\",\"FLO\",\"KCA\",\"OAK\",\"SDN\",\"MIN\",\"CLE\",\"TBA\",\"CIN\",\"HOU\",\"TOR\",\"BAL\",\"TEX\",\"ANA\",\"SLN\",\"SEA\",\"COL\",\"DET\",\"CHA\",\"SFN\",\"PHI\",\"MIL\",\"ATL\",\"CHN\",\"WAS\",\"NYN\",\"LAN\",\"ARI\",\"BOS\",\"MIA\",\"NYA\",\"LAA\"]},\"id\":\"2cef1b64-2838-4f76-a848-49caff272e56\",\"type\":\"FactorRange\"},{\"attributes\":{\"bottom_units\":\"screen\",\"fill_alpha\":{\"value\":0.5},\"fill_color\":{\"value\":\"lightgrey\"},\"left_units\":\"screen\",\"level\":\"overlay\",\"line_alpha\":{\"value\":1.0},\"line_color\":{\"value\":\"black\"},\"line_dash\":[4,4],\"line_width\":{\"value\":2},\"plot\":null,\"render_mode\":\"css\",\"right_units\":\"screen\",\"top_units\":\"screen\"},\"id\":\"5fe31b59-f0dc-4ad1-af40-1ef4ba56ea57\",\"type\":\"BoxAnnotation\"},{\"attributes\":{\"dimension\":1,\"plot\":{\"id\":\"01323d32-4ce5-4102-a13c-fda2cb4b7e98\",\"subtype\":\"Figure\",\"type\":\"Plot\"},\"ticker\":{\"id\":\"bb25dee4-98a4-4395-b5b9-01e50808ea0a\",\"type\":\"BasicTicker\"}},\"id\":\"75297f78-8805-4699-946e-ea4ca83b299e\",\"type\":\"Grid\"},{\"attributes\":{\"callback\":null,\"column_names\":[\"amax\",\"std\",\"amin\",\"ratio\",\"mean\",\"teamID\",\"all_stars\"],\"data\":{\"all_stars\":[11.62621359223301,11.16504854368932,10.70388349514563,11.699029126213592,12.014563106796118,10.339805825242719,12.572815533980583,10.922330097087379,15.703883495145632,10.825242718446601,11.966019417475728,10.800970873786408,13.252427184466018,17.37864077669903,14.587378640776699,10.339805825242719,14.101941747572816,14.927184466019417,16.237864077669904,10.048543689320388,15.12135922330097,12.37864077669903,11.941747572815533,10.946601941747574,11.820388349514563,12.37864077669903,13.737864077669903,16.91747572815534,12.96116504854369,15.655339805825243,12.742718446601941,14.223300970873787,14.53883495145631,10.825242718446601,20.0],\"amax\":[5375000.0,5875000.0,10125000.0,11500000.0,13000000.0,13166667.0,13500000.0,14936667.0,15000000.0,15500000.0,15505142.0,16000000.0,16061802.0,16333327.0,16500000.0,16571429.0,17000000.0,17000000.0,18910655.0,19000000.0,19000000.0,19369019.0,19700000.0,20275000.0,20557143.0,22000000.0,22250000.0,22500000.0,23000000.0,23000000.0,23145011.0,23854494.0,25000000.0,26187500.0,33000000.0],\"amin\":[60000.0,60000.0,170000.0,60000.0,60000.0,150000.0,60000.0,50000.0,60000.0,170000.0,60000.0,170000.0,60000.0,60000.0,0.0,316000.0,60000.0,50000.0,60000.0,480000.0,60000.0,60000.0,60000.0,109000.0,60000.0,60000.0,60000.0,60000.0,60000.0,60000.0,60000.0,60000.0,60000.0,316000.0,0.0],\"mean\":[739073.179347826,613243.5800524935,1528399.5054945054,707458.8578856152,1299025.7868080095,1895109.2024291498,1303094.7988304093,1147986.4030612244,1525794.9584775087,2095008.9668141592,1317959.64354067,2428195.9126637555,2130474.682577566,1928832.5547785547,1077989.6803760282,2243755.1576923076,1785712.3251461987,1992653.5012315272,1568035.2813238772,2974115.68627451,2185518.65408039,1705561.3130434782,1768710.9600484262,1945628.4724025973,1932288.913202934,1874651.551143201,2044198.6841463414,2692113.8568075118,1525031.650385604,1980834.9902080784,2317349.977245509,2346982.6980255516,2092230.9326364691,4151107.171875,3608860.1485380116],\"ratio\":[89.58333333333333,97.91666666666667,59.55882352941177,191.66666666666666,216.66666666666666,87.77778,225.0,298.73334,250.0,91.17647058823529,258.41903333333335,94.11764705882354,267.6967,272.2221166666667,\"Infinity\",52.44123101265823,283.3333333333333,340.0,315.17758333333336,39.583333333333336,316.6666666666667,322.8169833333333,328.3333333333333,186.0091743119266,342.61905,366.6666666666667,370.8333333333333,375.0,383.3333333333333,383.3333333333333,385.7501833333333,397.5749,416.6666666666667,82.87183544303798,\"Infinity\"],\"std\":[960628.5390361849,853533.7163845291,2011091.1980497667,1192678.1516411488,1951652.8801389195,2667146.9245296065,2000776.9925032738,1808397.0244389344,2251972.7754913056,2733957.135136098,1971054.4478543361,2971520.2250774694,3373518.217679483,3014710.9368142053,1720168.0769492872,2922931.2647121297,2491109.1857474186,3185499.881674104,2489143.8459413988,4339254.417587083,3419997.897579085,3083466.905934261,2714273.250736591,2980228.8372444157,3047418.722298252,3014408.0266307434,3305606.755051485,3861801.8178376732,2684866.4482354484,3388685.94679665,3693195.594629475,3598846.2978953356,3607534.5605039247,4950547.469858126,5638218.508062519],\"teamID\":[\"CAL\",\"ML4\",\"TBA\",\"MON\",\"KCA\",\"ANA\",\"OAK\",\"FLO\",\"CLE\",\"MIL\",\"SDN\",\"ARI\",\"ATL\",\"SLN\",\"PIT\",\"WAS\",\"BAL\",\"CHA\",\"CIN\",\"MIA\",\"CHN\",\"HOU\",\"TOR\",\"COL\",\"SEA\",\"TEX\",\"SFN\",\"BOS\",\"MIN\",\"DET\",\"NYN\",\"LAN\",\"PHI\",\"LAA\",\"NYA\"]}},\"id\":\"fa9c7511-bf3e-4b63-83f6-780692970971\",\"type\":\"ColumnDataSource\"},{\"attributes\":{},\"id\":\"bc77edbf-3e70-48da-974e-d0a1192dc784\",\"type\":\"ToolEvents\"},{\"attributes\":{\"dimension\":1,\"plot\":{\"id\":\"1567cf8c-901f-4e40-aae1-8829e3cc8539\",\"subtype\":\"Figure\",\"type\":\"Plot\"},\"ticker\":{\"id\":\"f43f9266-213d-4c55-acd6-03210f758590\",\"type\":\"BasicTicker\"}},\"id\":\"512bc7a6-a40f-47cb-8aa2-6aaebaaa38f4\",\"type\":\"Grid\"},{\"attributes\":{\"plot\":{\"id\":\"1567cf8c-901f-4e40-aae1-8829e3cc8539\",\"subtype\":\"Figure\",\"type\":\"Plot\"}},\"id\":\"5c614aa5-2874-4e65-b533-d1ccfbd8c3c4\",\"type\":\"PreviewSaveTool\"},{\"attributes\":{\"plot\":{\"id\":\"cf6f44f7-10b0-4886-ac82-98eda57f8dae\",\"subtype\":\"Figure\",\"type\":\"Plot\"}},\"id\":\"7b8269e5-8671-43d2-bb7f-32444ee84aca\",\"type\":\"WheelZoomTool\"},{\"attributes\":{\"plot\":{\"id\":\"cf6f44f7-10b0-4886-ac82-98eda57f8dae\",\"subtype\":\"Figure\",\"type\":\"Plot\"},\"ticker\":{\"id\":\"dfc9aef4-e290-45c9-bf38-31b45317fce1\",\"type\":\"CategoricalTicker\"}},\"id\":\"9859341d-8bc1-4f42-a4db-b870616b5407\",\"type\":\"Grid\"},{\"attributes\":{\"plot\":{\"id\":\"1c1c70b0-bc89-426f-94a7-be58f573589e\",\"subtype\":\"Figure\",\"type\":\"Plot\"},\"ticker\":{\"id\":\"0e0532be-9a5d-4eba-876b-814b48f269c7\",\"type\":\"CategoricalTicker\"}},\"id\":\"7afc245f-b367-474e-814c-af8531506b68\",\"type\":\"Grid\"},{\"attributes\":{\"fill_alpha\":{\"value\":0.1},\"fill_color\":{\"value\":\"#1f77b4\"},\"line_alpha\":{\"value\":0.1},\"line_color\":{\"value\":\"#1f77b4\"},\"x\":{\"field\":\"teamID\"},\"y\":{\"field\":\"mean\"}},\"id\":\"4096d7e6-f7a0-444c-bad9-bfb7ba9c3c51\",\"type\":\"Circle\"},{\"attributes\":{\"bottom_units\":\"screen\",\"fill_alpha\":{\"value\":0.5},\"fill_color\":{\"value\":\"lightgrey\"},\"left_units\":\"screen\",\"level\":\"overlay\",\"line_alpha\":{\"value\":1.0},\"line_color\":{\"value\":\"black\"},\"line_dash\":[4,4],\"line_width\":{\"value\":2},\"plot\":null,\"render_mode\":\"css\",\"right_units\":\"screen\",\"top_units\":\"screen\"},\"id\":\"0472a844-dee6-4c45-a598-26e7cf48c20a\",\"type\":\"BoxAnnotation\"},{\"attributes\":{},\"id\":\"0e0532be-9a5d-4eba-876b-814b48f269c7\",\"type\":\"CategoricalTicker\"},{\"attributes\":{\"bottom_units\":\"screen\",\"fill_alpha\":{\"value\":0.5},\"fill_color\":{\"value\":\"lightgrey\"},\"left_units\":\"screen\",\"level\":\"overlay\",\"line_alpha\":{\"value\":1.0},\"line_color\":{\"value\":\"black\"},\"line_dash\":[4,4],\"line_width\":{\"value\":2},\"plot\":null,\"render_mode\":\"css\",\"right_units\":\"screen\",\"top_units\":\"screen\"},\"id\":\"8fac1c54-2951-4bae-9ab7-5f5a69089f57\",\"type\":\"BoxAnnotation\"},{\"attributes\":{},\"id\":\"429607d8-eae9-4d72-a5c7-8f64523648e4\",\"type\":\"BasicTickFormatter\"},{\"attributes\":{\"data_source\":{\"id\":\"86d263e6-b25f-4d08-90cf-d5e9349909bb\",\"type\":\"ColumnDataSource\"},\"glyph\":{\"id\":\"cffbc47e-b9a8-4600-b339-c968cdb9bec1\",\"type\":\"Circle\"},\"hover_glyph\":null,\"nonselection_glyph\":{\"id\":\"85f66d20-e9c1-4f5a-8b91-14c77c8c5f6c\",\"type\":\"Circle\"},\"selection_glyph\":null},\"id\":\"94b09ea7-bd34-4671-ba15-a186a824f9e5\",\"type\":\"GlyphRenderer\"},{\"attributes\":{\"data_source\":{\"id\":\"fa9c7511-bf3e-4b63-83f6-780692970971\",\"type\":\"ColumnDataSource\"},\"glyph\":{\"id\":\"172c4d4c-abe0-4c46-9a79-4c002be81c1d\",\"type\":\"Circle\"},\"hover_glyph\":null,\"nonselection_glyph\":{\"id\":\"43c372e0-ed64-46dd-b4f6-1ea2928aa053\",\"type\":\"Circle\"},\"selection_glyph\":null},\"id\":\"abda416d-6ebc-4869-ab5d-8203940c5223\",\"type\":\"GlyphRenderer\"},{\"attributes\":{\"fill_color\":{\"value\":\"#1f77b4\"},\"line_color\":{\"value\":\"#1f77b4\"},\"x\":{\"field\":\"teamID\"},\"y\":{\"field\":\"mean\"}},\"id\":\"cffbc47e-b9a8-4600-b339-c968cdb9bec1\",\"type\":\"Circle\"},{\"attributes\":{\"fill_alpha\":{\"value\":0.5},\"fill_color\":{\"value\":\"lightgrey\"},\"level\":\"overlay\",\"line_alpha\":{\"value\":1.0},\"line_color\":{\"value\":\"black\"},\"line_dash\":[4,4],\"line_width\":{\"value\":2},\"plot\":null,\"xs_units\":\"screen\",\"ys_units\":\"screen\"},\"id\":\"38ec9b0d-28bf-47be-9974-842cd5540005\",\"type\":\"PolyAnnotation\"},{\"attributes\":{\"plot\":{\"id\":\"1567cf8c-901f-4e40-aae1-8829e3cc8539\",\"subtype\":\"Figure\",\"type\":\"Plot\"},\"ticker\":{\"id\":\"afe912b8-9dcb-45a7-9034-b4fa542becbc\",\"type\":\"CategoricalTicker\"}},\"id\":\"1230664a-e0d4-4b4c-b6a7-b564303eac50\",\"type\":\"Grid\"},{\"attributes\":{\"formatter\":{\"id\":\"16a111de-de84-4ea9-b730-562a632d58af\",\"type\":\"BasicTickFormatter\"},\"plot\":{\"id\":\"cf6f44f7-10b0-4886-ac82-98eda57f8dae\",\"subtype\":\"Figure\",\"type\":\"Plot\"},\"ticker\":{\"id\":\"666e04f2-0e73-4e19-ac37-d6428b4e456a\",\"type\":\"BasicTicker\"}},\"id\":\"2017aab3-9d6d-4d4b-8c81-a26beabab7b7\",\"type\":\"LinearAxis\"},{\"attributes\":{\"plot\":{\"id\":\"1c1c70b0-bc89-426f-94a7-be58f573589e\",\"subtype\":\"Figure\",\"type\":\"Plot\"}},\"id\":\"7ee871f6-8d4c-4e3e-852b-af88fde8f4cc\",\"type\":\"PreviewSaveTool\"},{\"attributes\":{\"below\":[{\"id\":\"543fe452-c9bb-4b1d-a9e4-ce420c156c05\",\"type\":\"CategoricalAxis\"}],\"left\":[{\"id\":\"e0373703-6ab2-4424-996a-b43a151d47bc\",\"type\":\"LinearAxis\"}],\"plot_width\":500,\"renderers\":[{\"id\":\"543fe452-c9bb-4b1d-a9e4-ce420c156c05\",\"type\":\"CategoricalAxis\"},{\"id\":\"7afc245f-b367-474e-814c-af8531506b68\",\"type\":\"Grid\"},{\"id\":\"e0373703-6ab2-4424-996a-b43a151d47bc\",\"type\":\"LinearAxis\"},{\"id\":\"fd3f5781-47a3-49b1-bf6a-d9d7025c6c70\",\"type\":\"Grid\"},{\"id\":\"0472a844-dee6-4c45-a598-26e7cf48c20a\",\"type\":\"BoxAnnotation\"},{\"id\":\"5c4d942d-60a7-4adb-b5c0-f404a096c93a\",\"type\":\"PolyAnnotation\"},{\"id\":\"94b09ea7-bd34-4671-ba15-a186a824f9e5\",\"type\":\"GlyphRenderer\"}],\"title\":\"Pay Avg\",\"tool_events\":{\"id\":\"85216338-8d53-45fe-a63b-2039cd98a707\",\"type\":\"ToolEvents\"},\"tools\":[{\"id\":\"435b9a54-3323-41d5-ac4f-1b8174f44aa0\",\"type\":\"PanTool\"},{\"id\":\"14f12857-acec-4ea9-8f8b-6453755af609\",\"type\":\"WheelZoomTool\"},{\"id\":\"517759e7-1512-4ca8-aaf5-cef209b00d7f\",\"type\":\"BoxZoomTool\"},{\"id\":\"e03516e3-5656-4e86-ad7c-c6d0c9540fdf\",\"type\":\"ResetTool\"},{\"id\":\"7ee871f6-8d4c-4e3e-852b-af88fde8f4cc\",\"type\":\"PreviewSaveTool\"},{\"id\":\"b6b550a8-29d2-4126-894c-1616a9b2a36c\",\"type\":\"LassoSelectTool\"}],\"x_range\":{\"id\":\"f9470b07-f30c-459d-9538-3d4023c7f535\",\"type\":\"FactorRange\"},\"y_range\":{\"id\":\"5cc60ee6-9895-4c1f-88bb-1b139249ef08\",\"type\":\"DataRange1d\"}},\"id\":\"1c1c70b0-bc89-426f-94a7-be58f573589e\",\"subtype\":\"Figure\",\"type\":\"Plot\"},{\"attributes\":{\"below\":[{\"id\":\"eb993097-caa8-4386-b39f-35ecc9a3789f\",\"type\":\"CategoricalAxis\"}],\"left\":[{\"id\":\"23934e2a-0485-4404-b468-a32360da66d8\",\"type\":\"LinearAxis\"}],\"renderers\":[{\"id\":\"eb993097-caa8-4386-b39f-35ecc9a3789f\",\"type\":\"CategoricalAxis\"},{\"id\":\"1230664a-e0d4-4b4c-b6a7-b564303eac50\",\"type\":\"Grid\"},{\"id\":\"23934e2a-0485-4404-b468-a32360da66d8\",\"type\":\"LinearAxis\"},{\"id\":\"512bc7a6-a40f-47cb-8aa2-6aaebaaa38f4\",\"type\":\"Grid\"},{\"id\":\"2596c9e8-39b0-47ca-a3f1-15287afcca5d\",\"type\":\"BoxAnnotation\"},{\"id\":\"09534edb-f086-4332-8bd1-3d16e1b6a0ab\",\"type\":\"GlyphRenderer\"}],\"tool_events\":{\"id\":\"0c75ccc5-5357-445e-95e6-2f80e82eaf83\",\"type\":\"ToolEvents\"},\"tools\":[{\"id\":\"f3c0fab5-dabb-4d9b-90d9-a1a39b28eb26\",\"type\":\"PanTool\"},{\"id\":\"1213d84c-5496-4ec4-9d6c-9953d60c21b9\",\"type\":\"WheelZoomTool\"},{\"id\":\"6a5de49c-8dd8-4d62-93d9-57de228ef2f5\",\"type\":\"BoxZoomTool\"},{\"id\":\"5c614aa5-2874-4e65-b533-d1ccfbd8c3c4\",\"type\":\"PreviewSaveTool\"},{\"id\":\"712a20e6-e29d-4af2-8ed2-d97fb32ef468\",\"type\":\"ResizeTool\"},{\"id\":\"91d5691a-0250-4c63-b306-d3d95e3c951b\",\"type\":\"ResetTool\"},{\"id\":\"3ff4d956-06a6-47c7-93e0-fee0077d9e01\",\"type\":\"HelpTool\"}],\"x_range\":{\"id\":\"aa817edc-ab16-4bda-850e-9c5e9141dfc6\",\"type\":\"FactorRange\"},\"y_range\":{\"id\":\"1a7a7827-711d-4d99-bcdb-19b067f76814\",\"type\":\"DataRange1d\"}},\"id\":\"1567cf8c-901f-4e40-aae1-8829e3cc8539\",\"subtype\":\"Figure\",\"type\":\"Plot\"},{\"attributes\":{\"data_source\":{\"id\":\"4e268405-1ef4-4851-986a-f677dea2a2da\",\"type\":\"ColumnDataSource\"},\"glyph\":{\"id\":\"31bdd69d-51d6-4804-89b1-9db00aa09f51\",\"type\":\"Circle\"},\"hover_glyph\":null,\"nonselection_glyph\":{\"id\":\"4096d7e6-f7a0-444c-bad9-bfb7ba9c3c51\",\"type\":\"Circle\"},\"selection_glyph\":null},\"id\":\"9db66536-cfea-4f4a-bd5a-42bad1d6b525\",\"type\":\"GlyphRenderer\"},{\"attributes\":{\"dimension\":1,\"plot\":{\"id\":\"cf6f44f7-10b0-4886-ac82-98eda57f8dae\",\"subtype\":\"Figure\",\"type\":\"Plot\"},\"ticker\":{\"id\":\"666e04f2-0e73-4e19-ac37-d6428b4e456a\",\"type\":\"BasicTicker\"}},\"id\":\"ae8e806b-293f-47cc-bbe5-b02da336aa39\",\"type\":\"Grid\"},{\"attributes\":{\"plot\":{\"id\":\"01323d32-4ce5-4102-a13c-fda2cb4b7e98\",\"subtype\":\"Figure\",\"type\":\"Plot\"}},\"id\":\"80327027-403e-44be-b884-75d62481f6a0\",\"type\":\"HelpTool\"},{\"attributes\":{},\"id\":\"a1ef8867-cdba-44ae-afa8-a4632371bc33\",\"type\":\"CategoricalTickFormatter\"},{\"attributes\":{\"formatter\":{\"id\":\"a1ef8867-cdba-44ae-afa8-a4632371bc33\",\"type\":\"CategoricalTickFormatter\"},\"major_label_orientation\":1.0471975511965976,\"plot\":{\"id\":\"c72b441f-8531-481e-8f83-56747c3d54e0\",\"subtype\":\"Figure\",\"type\":\"Plot\"},\"ticker\":{\"id\":\"8b57e69f-980a-42cf-965f-2848f0653f1c\",\"type\":\"CategoricalTicker\"}},\"id\":\"b95e2707-f3ad-4324-a2b9-cb0a2d6172a1\",\"type\":\"CategoricalAxis\"},{\"attributes\":{\"data_source\":{\"id\":\"86d263e6-b25f-4d08-90cf-d5e9349909bb\",\"type\":\"ColumnDataSource\"},\"glyph\":{\"id\":\"404b5c35-1584-4e4b-b30b-8c0cc9f1aa04\",\"type\":\"Circle\"},\"hover_glyph\":null,\"nonselection_glyph\":{\"id\":\"252ae871-2580-4a65-8eb3-046c99d89d7e\",\"type\":\"Circle\"},\"selection_glyph\":null},\"id\":\"0222a6b0-6028-47e1-b3bf-a8b8bbcaedb8\",\"type\":\"GlyphRenderer\"},{\"attributes\":{\"plot\":{\"id\":\"c72b441f-8531-481e-8f83-56747c3d54e0\",\"subtype\":\"Figure\",\"type\":\"Plot\"}},\"id\":\"a1e27ab1-a86e-4218-9754-0b1c6c4603de\",\"type\":\"WheelZoomTool\"},{\"attributes\":{\"callback\":null},\"id\":\"c7a2f3d3-b1ed-4ec9-a8ff-9eba690cb999\",\"type\":\"DataRange1d\"},{\"attributes\":{\"plot\":{\"id\":\"01323d32-4ce5-4102-a13c-fda2cb4b7e98\",\"subtype\":\"Figure\",\"type\":\"Plot\"}},\"id\":\"29409d14-84ab-44c3-a877-49610188cfa2\",\"type\":\"PanTool\"},{\"attributes\":{\"plot\":{\"id\":\"01323d32-4ce5-4102-a13c-fda2cb4b7e98\",\"subtype\":\"Figure\",\"type\":\"Plot\"},\"ticker\":{\"id\":\"a4eed59e-8b86-4c1a-a9cf-23ee44c944e3\",\"type\":\"CategoricalTicker\"}},\"id\":\"73feeac6-b981-48ee-8951-12458a0b86cd\",\"type\":\"Grid\"},{\"attributes\":{\"fill_alpha\":{\"value\":0.1},\"fill_color\":{\"value\":\"#1f77b4\"},\"line_alpha\":{\"value\":0.1},\"line_color\":{\"value\":\"#1f77b4\"},\"x\":{\"field\":\"teamID\"},\"y\":{\"field\":\"ratio\"}},\"id\":\"252ae871-2580-4a65-8eb3-046c99d89d7e\",\"type\":\"Circle\"},{\"attributes\":{\"fill_alpha\":{\"value\":0.5},\"fill_color\":{\"value\":\"lightgrey\"},\"level\":\"overlay\",\"line_alpha\":{\"value\":1.0},\"line_color\":{\"value\":\"black\"},\"line_dash\":[4,4],\"line_width\":{\"value\":2},\"plot\":null,\"xs_units\":\"screen\",\"ys_units\":\"screen\"},\"id\":\"5c4d942d-60a7-4adb-b5c0-f404a096c93a\",\"type\":\"PolyAnnotation\"},{\"attributes\":{},\"id\":\"8b57e69f-980a-42cf-965f-2848f0653f1c\",\"type\":\"CategoricalTicker\"},{\"attributes\":{\"overlay\":{\"id\":\"8fac1c54-2951-4bae-9ab7-5f5a69089f57\",\"type\":\"BoxAnnotation\"},\"plot\":{\"id\":\"cf6f44f7-10b0-4886-ac82-98eda57f8dae\",\"subtype\":\"Figure\",\"type\":\"Plot\"}},\"id\":\"75caeff2-fa55-4929-ac69-30474d75c740\",\"type\":\"BoxZoomTool\"},{\"attributes\":{},\"id\":\"57bed416-92f0-4563-88ba-b1b56557f3ad\",\"type\":\"CategoricalTickFormatter\"},{\"attributes\":{},\"id\":\"16a111de-de84-4ea9-b730-562a632d58af\",\"type\":\"BasicTickFormatter\"},{\"attributes\":{},\"id\":\"dfc9aef4-e290-45c9-bf38-31b45317fce1\",\"type\":\"CategoricalTicker\"},{\"attributes\":{\"plot\":{\"id\":\"01323d32-4ce5-4102-a13c-fda2cb4b7e98\",\"subtype\":\"Figure\",\"type\":\"Plot\"}},\"id\":\"fa1b96fd-3ff4-40c9-a5c6-20b5418882d6\",\"type\":\"ResetTool\"},{\"attributes\":{\"formatter\":{\"id\":\"a958c7f2-09ee-4b0d-be52-a7c571bd27dc\",\"type\":\"BasicTickFormatter\"},\"plot\":{\"id\":\"c72b441f-8531-481e-8f83-56747c3d54e0\",\"subtype\":\"Figure\",\"type\":\"Plot\"},\"ticker\":{\"id\":\"c197da3c-c61f-4070-926a-18cedc25bcd4\",\"type\":\"BasicTicker\"}},\"id\":\"9834d5d1-1159-4168-beb9-56badc37b2cb\",\"type\":\"LinearAxis\"},{\"attributes\":{},\"id\":\"afe912b8-9dcb-45a7-9034-b4fa542becbc\",\"type\":\"CategoricalTicker\"},{\"attributes\":{\"fill_alpha\":{\"value\":0.1},\"fill_color\":{\"value\":\"#1f77b4\"},\"line_alpha\":{\"value\":0.1},\"line_color\":{\"value\":\"#1f77b4\"},\"x\":{\"field\":\"teamID\"},\"y\":{\"field\":\"mean\"}},\"id\":\"ec70a90f-67d3-401b-b27e-bef56d7df459\",\"type\":\"Circle\"},{\"attributes\":{\"plot\":{\"id\":\"cf6f44f7-10b0-4886-ac82-98eda57f8dae\",\"subtype\":\"Figure\",\"type\":\"Plot\"}},\"id\":\"5837330a-f4de-494d-9ff8-8b8f765be3de\",\"type\":\"PanTool\"},{\"attributes\":{\"callback\":null,\"column_names\":[\"amax\",\"std\",\"amin\",\"ratio\",\"mean\",\"teamID\"],\"data\":{\"amax\":[5875000.0,11500000.0,5375000.0,16500000.0,14936667.0,13000000.0,13500000.0,15505142.0,23000000.0,15000000.0,10125000.0,18910655.0,19369019.0,19700000.0,17000000.0,22000000.0,13166667.0,16333327.0,20557143.0,20275000.0,23000000.0,17000000.0,22250000.0,25000000.0,15500000.0,16061802.0,19000000.0,16571429.0,23145011.0,23854494.0,16000000.0,22500000.0,19000000.0,33000000.0,26187500.0],\"amin\":[60000.0,60000.0,60000.0,0.0,50000.0,60000.0,60000.0,60000.0,60000.0,60000.0,170000.0,60000.0,60000.0,60000.0,60000.0,60000.0,150000.0,60000.0,60000.0,109000.0,60000.0,50000.0,60000.0,60000.0,170000.0,60000.0,60000.0,316000.0,60000.0,60000.0,170000.0,60000.0,480000.0,0.0,316000.0],\"mean\":[613243.5800524935,707458.8578856152,739073.179347826,1077989.6803760282,1147986.4030612244,1299025.7868080095,1303094.7988304093,1317959.64354067,1525031.650385604,1525794.9584775087,1528399.5054945054,1568035.2813238772,1705561.3130434782,1768710.9600484262,1785712.3251461987,1874651.551143201,1895109.2024291498,1928832.5547785547,1932288.913202934,1945628.4724025973,1980834.9902080784,1992653.5012315272,2044198.6841463414,2092230.9326364691,2095008.9668141592,2130474.682577566,2185518.65408039,2243755.1576923076,2317349.977245509,2346982.6980255516,2428195.9126637555,2692113.8568075118,2974115.68627451,3608860.1485380116,4151107.171875],\"ratio\":[97.91666666666667,191.66666666666666,89.58333333333333,\"Infinity\",298.73334,216.66666666666666,225.0,258.41903333333335,383.3333333333333,250.0,59.55882352941177,315.17758333333336,322.8169833333333,328.3333333333333,283.3333333333333,366.6666666666667,87.77778,272.2221166666667,342.61905,186.0091743119266,383.3333333333333,340.0,370.8333333333333,416.6666666666667,91.17647058823529,267.6967,316.6666666666667,52.44123101265823,385.7501833333333,397.5749,94.11764705882354,375.0,39.583333333333336,\"Infinity\",82.87183544303798],\"std\":[853533.7163845291,1192678.1516411488,960628.5390361849,1720168.0769492872,1808397.0244389344,1951652.8801389195,2000776.9925032738,1971054.4478543361,2684866.4482354484,2251972.7754913056,2011091.1980497667,2489143.8459413988,3083466.905934261,2714273.250736591,2491109.1857474186,3014408.0266307434,2667146.9245296065,3014710.9368142053,3047418.722298252,2980228.8372444157,3388685.94679665,3185499.881674104,3305606.755051485,3607534.5605039247,2733957.135136098,3373518.217679483,3419997.897579085,2922931.2647121297,3693195.594629475,3598846.2978953356,2971520.2250774694,3861801.8178376732,4339254.417587083,5638218.508062519,4950547.469858126],\"teamID\":[\"ML4\",\"MON\",\"CAL\",\"PIT\",\"FLO\",\"KCA\",\"OAK\",\"SDN\",\"MIN\",\"CLE\",\"TBA\",\"CIN\",\"HOU\",\"TOR\",\"BAL\",\"TEX\",\"ANA\",\"SLN\",\"SEA\",\"COL\",\"DET\",\"CHA\",\"SFN\",\"PHI\",\"MIL\",\"ATL\",\"CHN\",\"WAS\",\"NYN\",\"LAN\",\"ARI\",\"BOS\",\"MIA\",\"NYA\",\"LAA\"]}},\"id\":\"86d263e6-b25f-4d08-90cf-d5e9349909bb\",\"type\":\"ColumnDataSource\"},{\"attributes\":{},\"id\":\"85216338-8d53-45fe-a63b-2039cd98a707\",\"type\":\"ToolEvents\"},{\"attributes\":{\"formatter\":{\"id\":\"b4dd723b-6a89-4098-bceb-1fe5e03a3769\",\"type\":\"BasicTickFormatter\"},\"plot\":{\"id\":\"1c1c70b0-bc89-426f-94a7-be58f573589e\",\"subtype\":\"Figure\",\"type\":\"Plot\"},\"ticker\":{\"id\":\"a0422ac8-7eda-4bb9-b27c-6eef20e4ef81\",\"type\":\"BasicTicker\"}},\"id\":\"e0373703-6ab2-4424-996a-b43a151d47bc\",\"type\":\"LinearAxis\"},{\"attributes\":{\"plot\":{\"id\":\"c72b441f-8531-481e-8f83-56747c3d54e0\",\"subtype\":\"Figure\",\"type\":\"Plot\"},\"ticker\":{\"id\":\"8b57e69f-980a-42cf-965f-2848f0653f1c\",\"type\":\"CategoricalTicker\"}},\"id\":\"6650f694-8ca2-4f03-9162-b9422169a1c4\",\"type\":\"Grid\"},{\"attributes\":{},\"id\":\"52526360-4c35-4dd9-8021-6e3d34a33586\",\"type\":\"ToolEvents\"},{\"attributes\":{},\"id\":\"b48ed5ef-1c44-460e-b909-0c66b59aac6c\",\"type\":\"CategoricalTickFormatter\"},{\"attributes\":{\"fill_alpha\":{\"value\":0.1},\"fill_color\":{\"value\":\"#1f77b4\"},\"line_alpha\":{\"value\":0.1},\"line_color\":{\"value\":\"#1f77b4\"},\"x\":{\"field\":\"teamID\"},\"y\":{\"field\":\"mean\"}},\"id\":\"85f66d20-e9c1-4f5a-8b91-14c77c8c5f6c\",\"type\":\"Circle\"},{\"attributes\":{\"callback\":null,\"column_names\":[\"amax\",\"std\",\"amin\",\"ratio\",\"mean\",\"teamID\"],\"data\":{\"amax\":[5875000.0,11500000.0,5375000.0,16500000.0,14936667.0,13000000.0,13500000.0,15505142.0,23000000.0,15000000.0,10125000.0,18910655.0,19369019.0,19700000.0,17000000.0,22000000.0,13166667.0,16333327.0,20557143.0,20275000.0,23000000.0,17000000.0,22250000.0,25000000.0,15500000.0,16061802.0,19000000.0,16571429.0,23145011.0,23854494.0,16000000.0,22500000.0,19000000.0,33000000.0,26187500.0],\"amin\":[60000.0,60000.0,60000.0,0.0,50000.0,60000.0,60000.0,60000.0,60000.0,60000.0,170000.0,60000.0,60000.0,60000.0,60000.0,60000.0,150000.0,60000.0,60000.0,109000.0,60000.0,50000.0,60000.0,60000.0,170000.0,60000.0,60000.0,316000.0,60000.0,60000.0,170000.0,60000.0,480000.0,0.0,316000.0],\"mean\":[613243.5800524935,707458.8578856152,739073.179347826,1077989.6803760282,1147986.4030612244,1299025.7868080095,1303094.7988304093,1317959.64354067,1525031.650385604,1525794.9584775087,1528399.5054945054,1568035.2813238772,1705561.3130434782,1768710.9600484262,1785712.3251461987,1874651.551143201,1895109.2024291498,1928832.5547785547,1932288.913202934,1945628.4724025973,1980834.9902080784,1992653.5012315272,2044198.6841463414,2092230.9326364691,2095008.9668141592,2130474.682577566,2185518.65408039,2243755.1576923076,2317349.977245509,2346982.6980255516,2428195.9126637555,2692113.8568075118,2974115.68627451,3608860.1485380116,4151107.171875],\"ratio\":[97.91666666666667,191.66666666666666,89.58333333333333,\"Infinity\",298.73334,216.66666666666666,225.0,258.41903333333335,383.3333333333333,250.0,59.55882352941177,315.17758333333336,322.8169833333333,328.3333333333333,283.3333333333333,366.6666666666667,87.77778,272.2221166666667,342.61905,186.0091743119266,383.3333333333333,340.0,370.8333333333333,416.6666666666667,91.17647058823529,267.6967,316.6666666666667,52.44123101265823,385.7501833333333,397.5749,94.11764705882354,375.0,39.583333333333336,\"Infinity\",82.87183544303798],\"std\":[853533.7163845291,1192678.1516411488,960628.5390361849,1720168.0769492872,1808397.0244389344,1951652.8801389195,2000776.9925032738,1971054.4478543361,2684866.4482354484,2251972.7754913056,2011091.1980497667,2489143.8459413988,3083466.905934261,2714273.250736591,2491109.1857474186,3014408.0266307434,2667146.9245296065,3014710.9368142053,3047418.722298252,2980228.8372444157,3388685.94679665,3185499.881674104,3305606.755051485,3607534.5605039247,2733957.135136098,3373518.217679483,3419997.897579085,2922931.2647121297,3693195.594629475,3598846.2978953356,2971520.2250774694,3861801.8178376732,4339254.417587083,5638218.508062519,4950547.469858126],\"teamID\":[\"ML4\",\"MON\",\"CAL\",\"PIT\",\"FLO\",\"KCA\",\"OAK\",\"SDN\",\"MIN\",\"CLE\",\"TBA\",\"CIN\",\"HOU\",\"TOR\",\"BAL\",\"TEX\",\"ANA\",\"SLN\",\"SEA\",\"COL\",\"DET\",\"CHA\",\"SFN\",\"PHI\",\"MIL\",\"ATL\",\"CHN\",\"WAS\",\"NYN\",\"LAN\",\"ARI\",\"BOS\",\"MIA\",\"NYA\",\"LAA\"]}},\"id\":\"bc3aa5f2-859b-499d-848a-3a97b2736eba\",\"type\":\"ColumnDataSource\"},{\"attributes\":{},\"id\":\"c19702d3-4abb-40b8-b1f2-0e16deac361b\",\"type\":\"CategoricalTickFormatter\"},{\"attributes\":{\"plot\":{\"id\":\"cf6f44f7-10b0-4886-ac82-98eda57f8dae\",\"subtype\":\"Figure\",\"type\":\"Plot\"}},\"id\":\"e4bd50eb-6051-4a36-80c8-b7d6997ce7e3\",\"type\":\"ResizeTool\"},{\"attributes\":{\"fill_color\":{\"value\":\"#1f77b4\"},\"line_color\":{\"value\":\"#1f77b4\"},\"x\":{\"field\":\"teamID\"},\"y\":{\"field\":\"mean\"}},\"id\":\"31bdd69d-51d6-4804-89b1-9db00aa09f51\",\"type\":\"Circle\"},{\"attributes\":{\"plot\":{\"id\":\"1567cf8c-901f-4e40-aae1-8829e3cc8539\",\"subtype\":\"Figure\",\"type\":\"Plot\"}},\"id\":\"f3c0fab5-dabb-4d9b-90d9-a1a39b28eb26\",\"type\":\"PanTool\"},{\"attributes\":{},\"id\":\"d81014cb-a9ff-4d0a-9ec2-8a131aceb2ab\",\"type\":\"ToolEvents\"},{\"attributes\":{\"below\":[{\"id\":\"13de03ad-cf15-4f41-b88d-34f792396766\",\"type\":\"CategoricalAxis\"}],\"left\":[{\"id\":\"db79a8f8-e081-46cd-ba10-0c4ce7566736\",\"type\":\"LinearAxis\"}],\"renderers\":[{\"id\":\"13de03ad-cf15-4f41-b88d-34f792396766\",\"type\":\"CategoricalAxis\"},{\"id\":\"73feeac6-b981-48ee-8951-12458a0b86cd\",\"type\":\"Grid\"},{\"id\":\"db79a8f8-e081-46cd-ba10-0c4ce7566736\",\"type\":\"LinearAxis\"},{\"id\":\"75297f78-8805-4699-946e-ea4ca83b299e\",\"type\":\"Grid\"},{\"id\":\"431886b7-d624-4df1-aea5-b7121571d453\",\"type\":\"BoxAnnotation\"},{\"id\":\"abda416d-6ebc-4869-ab5d-8203940c5223\",\"type\":\"GlyphRenderer\"}],\"tool_events\":{\"id\":\"52526360-4c35-4dd9-8021-6e3d34a33586\",\"type\":\"ToolEvents\"},\"tools\":[{\"id\":\"29409d14-84ab-44c3-a877-49610188cfa2\",\"type\":\"PanTool\"},{\"id\":\"94efae4e-bb9e-48bd-8a78-0b43703c1832\",\"type\":\"WheelZoomTool\"},{\"id\":\"300444b5-1eab-46b6-a9a1-7bfbb2cabb16\",\"type\":\"BoxZoomTool\"},{\"id\":\"120df28c-0f77-42f4-846d-8c1e3843c236\",\"type\":\"PreviewSaveTool\"},{\"id\":\"088649cc-9383-43b4-aab6-ff7ae3d3d12f\",\"type\":\"ResizeTool\"},{\"id\":\"fa1b96fd-3ff4-40c9-a5c6-20b5418882d6\",\"type\":\"ResetTool\"},{\"id\":\"80327027-403e-44be-b884-75d62481f6a0\",\"type\":\"HelpTool\"}],\"x_range\":{\"id\":\"71306e99-df1a-4b12-8962-df325789e4f8\",\"type\":\"FactorRange\"},\"y_range\":{\"id\":\"9ce9b965-b164-45b3-9d96-0e1ef76b518e\",\"type\":\"DataRange1d\"}},\"id\":\"01323d32-4ce5-4102-a13c-fda2cb4b7e98\",\"subtype\":\"Figure\",\"type\":\"Plot\"},{\"attributes\":{\"callback\":null,\"factors\":[\"ML4\",\"MON\",\"CAL\",\"PIT\",\"FLO\",\"KCA\",\"OAK\",\"SDN\",\"MIN\",\"CLE\",\"TBA\",\"CIN\",\"HOU\",\"TOR\",\"BAL\",\"TEX\",\"ANA\",\"SLN\",\"SEA\",\"COL\",\"DET\",\"CHA\",\"SFN\",\"PHI\",\"MIL\",\"ATL\",\"CHN\",\"WAS\",\"NYN\",\"LAN\",\"ARI\",\"BOS\",\"MIA\",\"NYA\",\"LAA\"]},\"id\":\"f9470b07-f30c-459d-9538-3d4023c7f535\",\"type\":\"FactorRange\"},{\"attributes\":{\"plot\":{\"id\":\"cf6f44f7-10b0-4886-ac82-98eda57f8dae\",\"subtype\":\"Figure\",\"type\":\"Plot\"}},\"id\":\"91397304-e346-4af1-9f8e-2d151c027fd2\",\"type\":\"PreviewSaveTool\"},{\"attributes\":{\"plot\":{\"id\":\"c72b441f-8531-481e-8f83-56747c3d54e0\",\"subtype\":\"Figure\",\"type\":\"Plot\"}},\"id\":\"8b4ce6b1-49df-4cb3-a58c-d0e6d8741e4f\",\"type\":\"PreviewSaveTool\"},{\"attributes\":{\"callback\":null},\"id\":\"5cc60ee6-9895-4c1f-88bb-1b139249ef08\",\"type\":\"DataRange1d\"},{\"attributes\":{\"below\":[{\"id\":\"b95e2707-f3ad-4324-a2b9-cb0a2d6172a1\",\"type\":\"CategoricalAxis\"}],\"left\":[{\"id\":\"9834d5d1-1159-4168-beb9-56badc37b2cb\",\"type\":\"LinearAxis\"}],\"plot_width\":500,\"renderers\":[{\"id\":\"b95e2707-f3ad-4324-a2b9-cb0a2d6172a1\",\"type\":\"CategoricalAxis\"},{\"id\":\"6650f694-8ca2-4f03-9162-b9422169a1c4\",\"type\":\"Grid\"},{\"id\":\"9834d5d1-1159-4168-beb9-56badc37b2cb\",\"type\":\"LinearAxis\"},{\"id\":\"d0eef804-dfc3-4c1e-ad19-d81965a65224\",\"type\":\"Grid\"},{\"id\":\"5fe31b59-f0dc-4ad1-af40-1ef4ba56ea57\",\"type\":\"BoxAnnotation\"},{\"id\":\"38ec9b0d-28bf-47be-9974-842cd5540005\",\"type\":\"PolyAnnotation\"},{\"id\":\"0222a6b0-6028-47e1-b3bf-a8b8bbcaedb8\",\"type\":\"GlyphRenderer\"}],\"title\":\"Pay Ratio\",\"tool_events\":{\"id\":\"bc77edbf-3e70-48da-974e-d0a1192dc784\",\"type\":\"ToolEvents\"},\"tools\":[{\"id\":\"5a3e93fc-b9c1-41f3-980a-b65d0338bf6e\",\"type\":\"PanTool\"},{\"id\":\"a1e27ab1-a86e-4218-9754-0b1c6c4603de\",\"type\":\"WheelZoomTool\"},{\"id\":\"d02d967c-926f-459e-b55f-2303de1dc283\",\"type\":\"BoxZoomTool\"},{\"id\":\"74747936-8043-4b5d-b6e0-42735e62cfd3\",\"type\":\"ResetTool\"},{\"id\":\"8b4ce6b1-49df-4cb3-a58c-d0e6d8741e4f\",\"type\":\"PreviewSaveTool\"},{\"id\":\"48e78bfd-8ede-400a-8f02-d7b9389794af\",\"type\":\"LassoSelectTool\"}],\"x_range\":{\"id\":\"f9470b07-f30c-459d-9538-3d4023c7f535\",\"type\":\"FactorRange\"},\"y_range\":{\"id\":\"c7a2f3d3-b1ed-4ec9-a8ff-9eba690cb999\",\"type\":\"DataRange1d\"}},\"id\":\"c72b441f-8531-481e-8f83-56747c3d54e0\",\"subtype\":\"Figure\",\"type\":\"Plot\"},{\"attributes\":{\"callback\":null,\"factors\":[\"CAL\",\"ML4\",\"TBA\",\"MON\",\"KCA\",\"ANA\",\"OAK\",\"FLO\",\"CLE\",\"MIL\",\"SDN\",\"ARI\",\"ATL\",\"SLN\",\"PIT\",\"WAS\",\"BAL\",\"CHA\",\"CIN\",\"MIA\",\"CHN\",\"HOU\",\"TOR\",\"COL\",\"SEA\",\"TEX\",\"SFN\",\"BOS\",\"MIN\",\"DET\",\"NYN\",\"LAN\",\"PHI\",\"LAA\",\"NYA\"]},\"id\":\"71306e99-df1a-4b12-8962-df325789e4f8\",\"type\":\"FactorRange\"},{\"attributes\":{\"plot\":{\"id\":\"1c1c70b0-bc89-426f-94a7-be58f573589e\",\"subtype\":\"Figure\",\"type\":\"Plot\"}},\"id\":\"14f12857-acec-4ea9-8f8b-6453755af609\",\"type\":\"WheelZoomTool\"}],\"root_ids\":[\"1567cf8c-901f-4e40-aae1-8829e3cc8539\",\"cf6f44f7-10b0-4886-ac82-98eda57f8dae\",\"e8050467-8c1e-413e-b8f0-86d4b69e1599\",\"01323d32-4ce5-4102-a13c-fda2cb4b7e98\"]},\"title\":\"Bokeh Application\",\"version\":\"0.11.1\"}};\n",
       "            var render_items = [{\"docid\":\"bd7b1f14-dee0-44a9-9b50-38156976a03b\",\"elementid\":\"a4978fa7-52d2-4cc3-9328-9c245492a8b0\",\"modelid\":\"01323d32-4ce5-4102-a13c-fda2cb4b7e98\",\"notebook_comms_target\":\"8898f526-ec5a-4c92-80f3-670ebebbee8d\"}];\n",
       "            \n",
       "            Bokeh.embed.embed_items(docs_json, render_items);\n",
       "        });\n",
       "      },\n",
       "      function(Bokeh) {\n",
       "      }\n",
       "    ];\n",
       "  \n",
       "    function run_inline_js() {\n",
       "      for (var i = 0; i < inline_js.length; i++) {\n",
       "        inline_js[i](window.Bokeh);\n",
       "      }\n",
       "    }\n",
       "  \n",
       "    if (window._bokeh_is_loading === 0) {\n",
       "      console.log(\"Bokeh: BokehJS loaded, going straight to plotting\");\n",
       "      run_inline_js();\n",
       "    } else {\n",
       "      load_libs(js_urls, function() {\n",
       "        console.log(\"Bokeh: BokehJS plotting callback run at\", now());\n",
       "        run_inline_js();\n",
       "      });\n",
       "    }\n",
       "  }(this));\n",
       "</script>"
      ]
     },
     "metadata": {},
     "output_type": "display_data"
    },
    {
     "data": {
      "text/html": [
       "<p><code>&lt;Bokeh Notebook handle for <strong>In[25]</strong>&gt;</code></p>"
      ],
      "text/plain": [
       "<bokeh.io._CommsHandle at 0x1109d8208>"
      ]
     },
     "execution_count": 25,
     "metadata": {},
     "output_type": "execute_result"
    }
   ],
   "source": [
    "df = salary_by_team.sort_values(\"amax\")\n",
    "print(df.head())\n",
    "source = ColumnDataSource(df)\n",
    "p = bokeh.plotting.figure(x_range=list(df[\"teamID\"]))\n",
    "p.scatter(x=\"teamID\", y=\"amax\", size=\"all_stars\", source=source, fill_alpha=0.5, )\n",
    "p.xaxis.major_label_orientation = np.pi/3\n",
    "\n",
    "bokeh.io.show(p)"
   ]
  },
  {
   "cell_type": "markdown",
   "metadata": {},
   "source": [
    "<hr/>\n",
    "\n",
    "Now let's make this an interactive plot!"
   ]
  },
  {
   "cell_type": "code",
   "execution_count": 26,
   "metadata": {
    "collapsed": true
   },
   "outputs": [],
   "source": [
    "# Read sqlite query results into a pandas DataFrame\n",
    "with con:\n",
    "    df_salaries = pd.read_sql_query(\"SELECT yearID, teamID, salary from Salaries\", con)\n",
    "    df_allstar = pd.read_sql_query(\"SELECT yearID, teamID, playerID from AllstarFull\", con)\n",
    "\n",
    "def compute_df(year=2012):\n",
    "    salaries_for_year = df_salaries[ df_salaries.yearID == year]\n",
    "    max_salaries = salaries_for_year.groupby('teamID')['salary'].agg([np.max])\n",
    "    max_salaries.sort_values('amax', ascending=False, inplace=True)\n",
    "    allstar_for_year = df_allstar[ df_allstar.yearID == year]\n",
    "    allstar_count = allstar_for_year.groupby('teamID')['playerID'].count()\n",
    "    allstar_count_circle_size = 10 * allstar_count / allstar_count.max() + 10\n",
    "    result = pd.DataFrame(max_salaries)\n",
    "    result['all_stars']= allstar_count_circle_size\n",
    "    result['teamID'] = result.index\n",
    "    return result"
   ]
  },
  {
   "cell_type": "code",
   "execution_count": 27,
   "metadata": {
    "collapsed": false
   },
   "outputs": [
    {
     "data": {
      "text/html": [
       "<div>\n",
       "<table border=\"1\" class=\"dataframe\">\n",
       "  <thead>\n",
       "    <tr style=\"text-align: right;\">\n",
       "      <th></th>\n",
       "      <th>amax</th>\n",
       "      <th>all_stars</th>\n",
       "      <th>teamID</th>\n",
       "    </tr>\n",
       "    <tr>\n",
       "      <th>teamID</th>\n",
       "      <th></th>\n",
       "      <th></th>\n",
       "      <th></th>\n",
       "    </tr>\n",
       "  </thead>\n",
       "  <tbody>\n",
       "    <tr>\n",
       "      <th>NYA</th>\n",
       "      <td>30000000.0</td>\n",
       "      <td>14.444444</td>\n",
       "      <td>NYA</td>\n",
       "    </tr>\n",
       "    <tr>\n",
       "      <th>LAA</th>\n",
       "      <td>24187500.0</td>\n",
       "      <td>12.222222</td>\n",
       "      <td>LAA</td>\n",
       "    </tr>\n",
       "    <tr>\n",
       "      <th>NYN</th>\n",
       "      <td>23145011.0</td>\n",
       "      <td>13.333333</td>\n",
       "      <td>NYN</td>\n",
       "    </tr>\n",
       "    <tr>\n",
       "      <th>MIN</th>\n",
       "      <td>23000000.0</td>\n",
       "      <td>11.111111</td>\n",
       "      <td>MIN</td>\n",
       "    </tr>\n",
       "    <tr>\n",
       "      <th>DET</th>\n",
       "      <td>23000000.0</td>\n",
       "      <td>15.555556</td>\n",
       "      <td>DET</td>\n",
       "    </tr>\n",
       "  </tbody>\n",
       "</table>\n",
       "</div>"
      ],
      "text/plain": [
       "              amax  all_stars teamID\n",
       "teamID                              \n",
       "NYA     30000000.0  14.444444    NYA\n",
       "LAA     24187500.0  12.222222    LAA\n",
       "NYN     23145011.0  13.333333    NYN\n",
       "MIN     23000000.0  11.111111    MIN\n",
       "DET     23000000.0  15.555556    DET"
      ]
     },
     "execution_count": 27,
     "metadata": {},
     "output_type": "execute_result"
    }
   ],
   "source": [
    "compute_df().head()"
   ]
  },
  {
   "cell_type": "code",
   "execution_count": 28,
   "metadata": {
    "collapsed": false
   },
   "outputs": [],
   "source": [
    "source = ColumnDataSource(compute_df())\n",
    "p = bokeh.plotting.figure(x_range=list(source.data[\"teamID\"]))\n",
    "p.scatter(x=\"teamID\", y=\"amax\", size=\"all_stars\", source=source, fill_alpha=0.5, )\n",
    "p.xaxis.major_label_orientation = np.pi/3"
   ]
  },
  {
   "cell_type": "code",
   "execution_count": 29,
   "metadata": {
    "collapsed": false
   },
   "outputs": [],
   "source": [
    "from ipywidgets import interact, widgets \n",
    "def update(year):\n",
    "    df = compute_df(year)\n",
    "    source.data['all_stars'] = df['all_stars']\n",
    "    source.data['amax'] = df['amax']\n",
    "    bokeh.io.push_notebook()"
   ]
  },
  {
   "cell_type": "code",
   "execution_count": 30,
   "metadata": {
    "collapsed": false
   },
   "outputs": [
    {
     "data": {
      "text/html": [
       "\n",
       "\n",
       "    <div class=\"plotdiv\" id=\"14f0b8ea-0b1c-4405-8d18-6cfd8aaf35a2\"></div>\n",
       "<script type=\"text/javascript\">\n",
       "  \n",
       "  (function(global) {\n",
       "    function now() {\n",
       "      return new Date();\n",
       "    }\n",
       "  \n",
       "    if (typeof (window._bokeh_onload_callbacks) === \"undefined\") {\n",
       "      window._bokeh_onload_callbacks = [];\n",
       "    }\n",
       "  \n",
       "    function run_callbacks() {\n",
       "      window._bokeh_onload_callbacks.forEach(function(callback) { callback() });\n",
       "      delete window._bokeh_onload_callbacks\n",
       "      console.info(\"Bokeh: all callbacks have finished\");\n",
       "    }\n",
       "  \n",
       "    function load_libs(js_urls, callback) {\n",
       "      window._bokeh_onload_callbacks.push(callback);\n",
       "      if (window._bokeh_is_loading > 0) {\n",
       "        console.log(\"Bokeh: BokehJS is being loaded, scheduling callback at\", now());\n",
       "        return null;\n",
       "      }\n",
       "      if (js_urls == null || js_urls.length === 0) {\n",
       "        run_callbacks();\n",
       "        return null;\n",
       "      }\n",
       "      console.log(\"Bokeh: BokehJS not loaded, scheduling load and callback at\", now());\n",
       "      window._bokeh_is_loading = js_urls.length;\n",
       "      for (var i = 0; i < js_urls.length; i++) {\n",
       "        var url = js_urls[i];\n",
       "        var s = document.createElement('script');\n",
       "        s.src = url;\n",
       "        s.async = false;\n",
       "        s.onreadystatechange = s.onload = function() {\n",
       "          window._bokeh_is_loading--;\n",
       "          if (window._bokeh_is_loading === 0) {\n",
       "            console.log(\"Bokeh: all BokehJS libraries loaded\");\n",
       "            run_callbacks()\n",
       "          }\n",
       "        };\n",
       "        s.onerror = function() {\n",
       "          console.warn(\"failed to load library \" + url);\n",
       "        };\n",
       "        console.log(\"Bokeh: injecting script tag for BokehJS library: \", url);\n",
       "        document.getElementsByTagName(\"head\")[0].appendChild(s);\n",
       "      }\n",
       "    };var element = document.getElementById(\"14f0b8ea-0b1c-4405-8d18-6cfd8aaf35a2\");\n",
       "    if (element == null) {\n",
       "      console.log(\"Bokeh: ERROR: autoload.js configured with elementid '14f0b8ea-0b1c-4405-8d18-6cfd8aaf35a2' but no matching script tag was found. \")\n",
       "      return false;\n",
       "    }\n",
       "  \n",
       "    var js_urls = [];\n",
       "  \n",
       "    var inline_js = [\n",
       "      function(Bokeh) {\n",
       "        Bokeh.$(function() {\n",
       "            var docs_json = {\"27be9254-07d8-43c6-b4dc-006d9dda7a19\":{\"roots\":{\"references\":[{\"attributes\":{\"fill_alpha\":{\"value\":0.5},\"fill_color\":{\"value\":\"#1f77b4\"},\"line_color\":{\"value\":\"#1f77b4\"},\"size\":{\"field\":\"all_stars\",\"units\":\"screen\"},\"x\":{\"field\":\"teamID\"},\"y\":{\"field\":\"amax\"}},\"id\":\"172c4d4c-abe0-4c46-9a79-4c002be81c1d\",\"type\":\"Circle\"},{\"attributes\":{\"plot\":{\"id\":\"1567cf8c-901f-4e40-aae1-8829e3cc8539\",\"subtype\":\"Figure\",\"type\":\"Plot\"}},\"id\":\"712a20e6-e29d-4af2-8ed2-d97fb32ef468\",\"type\":\"ResizeTool\"},{\"attributes\":{\"formatter\":{\"id\":\"429607d8-eae9-4d72-a5c7-8f64523648e4\",\"type\":\"BasicTickFormatter\"},\"plot\":{\"id\":\"1567cf8c-901f-4e40-aae1-8829e3cc8539\",\"subtype\":\"Figure\",\"type\":\"Plot\"},\"ticker\":{\"id\":\"f43f9266-213d-4c55-acd6-03210f758590\",\"type\":\"BasicTicker\"}},\"id\":\"23934e2a-0485-4404-b468-a32360da66d8\",\"type\":\"LinearAxis\"},{\"attributes\":{},\"id\":\"cbeed4ed-3660-478a-a3d0-f3796e2c6f24\",\"type\":\"BasicTickFormatter\"},{\"attributes\":{\"plot\":{\"id\":\"d0c3825b-589c-40f0-b601-dccdf7af674c\",\"subtype\":\"Figure\",\"type\":\"Plot\"}},\"id\":\"636a2eea-d5b4-47ac-ba8b-c597ad43ae64\",\"type\":\"PreviewSaveTool\"},{\"attributes\":{\"bottom_units\":\"screen\",\"fill_alpha\":{\"value\":0.5},\"fill_color\":{\"value\":\"lightgrey\"},\"left_units\":\"screen\",\"level\":\"overlay\",\"line_alpha\":{\"value\":1.0},\"line_color\":{\"value\":\"black\"},\"line_dash\":[4,4],\"line_width\":{\"value\":2},\"plot\":null,\"render_mode\":\"css\",\"right_units\":\"screen\",\"top_units\":\"screen\"},\"id\":\"f79353cf-73fb-4227-a8cf-107fed7036a7\",\"type\":\"BoxAnnotation\"},{\"attributes\":{\"callback\":null},\"id\":\"9ce9b965-b164-45b3-9d96-0e1ef76b518e\",\"type\":\"DataRange1d\"},{\"attributes\":{\"below\":[{\"id\":\"7600e734-84f5-4561-91d7-7720a917d3a8\",\"type\":\"CategoricalAxis\"}],\"left\":[{\"id\":\"2017aab3-9d6d-4d4b-8c81-a26beabab7b7\",\"type\":\"LinearAxis\"}],\"renderers\":[{\"id\":\"7600e734-84f5-4561-91d7-7720a917d3a8\",\"type\":\"CategoricalAxis\"},{\"id\":\"9859341d-8bc1-4f42-a4db-b870616b5407\",\"type\":\"Grid\"},{\"id\":\"2017aab3-9d6d-4d4b-8c81-a26beabab7b7\",\"type\":\"LinearAxis\"},{\"id\":\"ae8e806b-293f-47cc-bbe5-b02da336aa39\",\"type\":\"Grid\"},{\"id\":\"8fac1c54-2951-4bae-9ab7-5f5a69089f57\",\"type\":\"BoxAnnotation\"},{\"id\":\"9db66536-cfea-4f4a-bd5a-42bad1d6b525\",\"type\":\"GlyphRenderer\"}],\"tool_events\":{\"id\":\"d81014cb-a9ff-4d0a-9ec2-8a131aceb2ab\",\"type\":\"ToolEvents\"},\"tools\":[{\"id\":\"5837330a-f4de-494d-9ff8-8b8f765be3de\",\"type\":\"PanTool\"},{\"id\":\"7b8269e5-8671-43d2-bb7f-32444ee84aca\",\"type\":\"WheelZoomTool\"},{\"id\":\"75caeff2-fa55-4929-ac69-30474d75c740\",\"type\":\"BoxZoomTool\"},{\"id\":\"91397304-e346-4af1-9f8e-2d151c027fd2\",\"type\":\"PreviewSaveTool\"},{\"id\":\"e4bd50eb-6051-4a36-80c8-b7d6997ce7e3\",\"type\":\"ResizeTool\"},{\"id\":\"07db9d1d-aace-4bff-a9b9-ad184aaf8a30\",\"type\":\"ResetTool\"},{\"id\":\"bf60ebc2-35d2-4b00-b036-a819dc2b1bed\",\"type\":\"HelpTool\"}],\"x_range\":{\"id\":\"2cef1b64-2838-4f76-a848-49caff272e56\",\"type\":\"FactorRange\"},\"y_range\":{\"id\":\"3696ff42-b277-4350-b1bb-af27c49bbecb\",\"type\":\"DataRange1d\"}},\"id\":\"cf6f44f7-10b0-4886-ac82-98eda57f8dae\",\"subtype\":\"Figure\",\"type\":\"Plot\"},{\"attributes\":{\"overlay\":{\"id\":\"38ec9b0d-28bf-47be-9974-842cd5540005\",\"type\":\"PolyAnnotation\"},\"plot\":{\"id\":\"c72b441f-8531-481e-8f83-56747c3d54e0\",\"subtype\":\"Figure\",\"type\":\"Plot\"}},\"id\":\"48e78bfd-8ede-400a-8f02-d7b9389794af\",\"type\":\"LassoSelectTool\"},{\"attributes\":{\"overlay\":{\"id\":\"5c4d942d-60a7-4adb-b5c0-f404a096c93a\",\"type\":\"PolyAnnotation\"},\"plot\":{\"id\":\"1c1c70b0-bc89-426f-94a7-be58f573589e\",\"subtype\":\"Figure\",\"type\":\"Plot\"}},\"id\":\"b6b550a8-29d2-4126-894c-1616a9b2a36c\",\"type\":\"LassoSelectTool\"},{\"attributes\":{\"plot\":{\"id\":\"cf6f44f7-10b0-4886-ac82-98eda57f8dae\",\"subtype\":\"Figure\",\"type\":\"Plot\"}},\"id\":\"07db9d1d-aace-4bff-a9b9-ad184aaf8a30\",\"type\":\"ResetTool\"},{\"attributes\":{\"fill_color\":{\"value\":\"#1f77b4\"},\"line_color\":{\"value\":\"#1f77b4\"},\"x\":{\"field\":\"teamID\"},\"y\":{\"field\":\"ratio\"}},\"id\":\"404b5c35-1584-4e4b-b30b-8c0cc9f1aa04\",\"type\":\"Circle\"},{\"attributes\":{\"plot\":{\"id\":\"1567cf8c-901f-4e40-aae1-8829e3cc8539\",\"subtype\":\"Figure\",\"type\":\"Plot\"}},\"id\":\"3ff4d956-06a6-47c7-93e0-fee0077d9e01\",\"type\":\"HelpTool\"},{\"attributes\":{\"dimension\":1,\"plot\":{\"id\":\"c72b441f-8531-481e-8f83-56747c3d54e0\",\"subtype\":\"Figure\",\"type\":\"Plot\"},\"ticker\":{\"id\":\"c197da3c-c61f-4070-926a-18cedc25bcd4\",\"type\":\"BasicTicker\"}},\"id\":\"d0eef804-dfc3-4c1e-ad19-d81965a65224\",\"type\":\"Grid\"},{\"attributes\":{\"dimension\":1,\"plot\":{\"id\":\"1c1c70b0-bc89-426f-94a7-be58f573589e\",\"subtype\":\"Figure\",\"type\":\"Plot\"},\"ticker\":{\"id\":\"a0422ac8-7eda-4bb9-b27c-6eef20e4ef81\",\"type\":\"BasicTicker\"}},\"id\":\"fd3f5781-47a3-49b1-bf6a-d9d7025c6c70\",\"type\":\"Grid\"},{\"attributes\":{\"plot\":{\"id\":\"01323d32-4ce5-4102-a13c-fda2cb4b7e98\",\"subtype\":\"Figure\",\"type\":\"Plot\"}},\"id\":\"088649cc-9383-43b4-aab6-ff7ae3d3d12f\",\"type\":\"ResizeTool\"},{\"attributes\":{\"children\":[[{\"id\":\"1c1c70b0-bc89-426f-94a7-be58f573589e\",\"subtype\":\"Figure\",\"type\":\"Plot\"},{\"id\":\"c72b441f-8531-481e-8f83-56747c3d54e0\",\"subtype\":\"Figure\",\"type\":\"Plot\"}]]},\"id\":\"e8050467-8c1e-413e-b8f0-86d4b69e1599\",\"type\":\"GridPlot\"},{\"attributes\":{\"plot\":{\"id\":\"c72b441f-8531-481e-8f83-56747c3d54e0\",\"subtype\":\"Figure\",\"type\":\"Plot\"}},\"id\":\"5a3e93fc-b9c1-41f3-980a-b65d0338bf6e\",\"type\":\"PanTool\"},{\"attributes\":{\"plot\":{\"id\":\"01323d32-4ce5-4102-a13c-fda2cb4b7e98\",\"subtype\":\"Figure\",\"type\":\"Plot\"}},\"id\":\"94efae4e-bb9e-48bd-8a78-0b43703c1832\",\"type\":\"WheelZoomTool\"},{\"attributes\":{\"plot\":{\"id\":\"d0c3825b-589c-40f0-b601-dccdf7af674c\",\"subtype\":\"Figure\",\"type\":\"Plot\"}},\"id\":\"cf68130e-4f69-4ee9-b1a0-c2ca2bebcd9c\",\"type\":\"WheelZoomTool\"},{\"attributes\":{\"plot\":{\"id\":\"1567cf8c-901f-4e40-aae1-8829e3cc8539\",\"subtype\":\"Figure\",\"type\":\"Plot\"}},\"id\":\"1213d84c-5496-4ec4-9d6c-9953d60c21b9\",\"type\":\"WheelZoomTool\"},{\"attributes\":{\"overlay\":{\"id\":\"431886b7-d624-4df1-aea5-b7121571d453\",\"type\":\"BoxAnnotation\"},\"plot\":{\"id\":\"01323d32-4ce5-4102-a13c-fda2cb4b7e98\",\"subtype\":\"Figure\",\"type\":\"Plot\"}},\"id\":\"300444b5-1eab-46b6-a9a1-7bfbb2cabb16\",\"type\":\"BoxZoomTool\"},{\"attributes\":{\"callback\":null},\"id\":\"1a7a7827-711d-4d99-bcdb-19b067f76814\",\"type\":\"DataRange1d\"},{\"attributes\":{},\"id\":\"666e04f2-0e73-4e19-ac37-d6428b4e456a\",\"type\":\"BasicTicker\"},{\"attributes\":{\"overlay\":{\"id\":\"0472a844-dee6-4c45-a598-26e7cf48c20a\",\"type\":\"BoxAnnotation\"},\"plot\":{\"id\":\"1c1c70b0-bc89-426f-94a7-be58f573589e\",\"subtype\":\"Figure\",\"type\":\"Plot\"}},\"id\":\"517759e7-1512-4ca8-aaf5-cef209b00d7f\",\"type\":\"BoxZoomTool\"},{\"attributes\":{\"formatter\":{\"id\":\"be87fd0b-4896-4615-ac0c-44cc06d25ba7\",\"type\":\"CategoricalTickFormatter\"},\"major_label_orientation\":1.0471975511965976,\"plot\":{\"id\":\"01323d32-4ce5-4102-a13c-fda2cb4b7e98\",\"subtype\":\"Figure\",\"type\":\"Plot\"},\"ticker\":{\"id\":\"a4eed59e-8b86-4c1a-a9cf-23ee44c944e3\",\"type\":\"CategoricalTicker\"}},\"id\":\"13de03ad-cf15-4f41-b88d-34f792396766\",\"type\":\"CategoricalAxis\"},{\"attributes\":{\"formatter\":{\"id\":\"57bed416-92f0-4563-88ba-b1b56557f3ad\",\"type\":\"CategoricalTickFormatter\"},\"major_label_orientation\":1.0471975511965976,\"plot\":{\"id\":\"1c1c70b0-bc89-426f-94a7-be58f573589e\",\"subtype\":\"Figure\",\"type\":\"Plot\"},\"ticker\":{\"id\":\"0e0532be-9a5d-4eba-876b-814b48f269c7\",\"type\":\"CategoricalTicker\"}},\"id\":\"543fe452-c9bb-4b1d-a9e4-ce420c156c05\",\"type\":\"CategoricalAxis\"},{\"attributes\":{\"callback\":null,\"column_names\":[\"amax\",\"teamID\",\"all_stars\"],\"data\":{\"all_stars\":[14.444444444444445,12.222222222222221,13.333333333333334,11.11111111111111,15.555555555555555,11.11111111111111,13.333333333333334,11.11111111111111,11.11111111111111,12.222222222222221,11.11111111111111,14.444444444444445,14.444444444444445,12.222222222222221,15.555555555555555,20.0,12.222222222222221,14.444444444444445,11.11111111111111,14.444444444444445,11.11111111111111,13.333333333333334,13.333333333333334,12.222222222222221,11.11111111111111,11.11111111111111,11.11111111111111,11.11111111111111,11.11111111111111,11.11111111111111],\"amax\":[30000000.0,24187500.0,23145011.0,23000000.0,23000000.0,21857142.0,21500000.0,19700000.0,19000000.0,19000000.0,19000000.0,19000000.0,17000000.0,16500000.0,16292362.0,16174974.0,15000000.0,14000000.0,14000000.0,13571428.0,13500000.0,12500000.0,12350000.0,11666666.0,10500000.0,9000000.0,8500000.0,8000000.0,7750000.0,7500000.0],\"teamID\":[\"NYA\",\"LAA\",\"NYN\",\"MIN\",\"DET\",\"BOS\",\"PHI\",\"SEA\",\"HOU\",\"CHN\",\"MIA\",\"SFN\",\"CHA\",\"PIT\",\"SLN\",\"TEX\",\"CLE\",\"ATL\",\"TOR\",\"WAS\",\"MIL\",\"CIN\",\"BAL\",\"LAN\",\"COL\",\"OAK\",\"KCA\",\"TBA\",\"ARI\",\"SDN\"]}},\"id\":\"cc95f914-5cf3-4a72-8342-15bd87bea279\",\"type\":\"ColumnDataSource\"},{\"attributes\":{},\"id\":\"bb25dee4-98a4-4395-b5b9-01e50808ea0a\",\"type\":\"BasicTicker\"},{\"attributes\":{},\"id\":\"c197da3c-c61f-4070-926a-18cedc25bcd4\",\"type\":\"BasicTicker\"},{\"attributes\":{\"plot\":{\"id\":\"cf6f44f7-10b0-4886-ac82-98eda57f8dae\",\"subtype\":\"Figure\",\"type\":\"Plot\"}},\"id\":\"bf60ebc2-35d2-4b00-b036-a819dc2b1bed\",\"type\":\"HelpTool\"},{\"attributes\":{\"formatter\":{\"id\":\"cbeed4ed-3660-478a-a3d0-f3796e2c6f24\",\"type\":\"BasicTickFormatter\"},\"plot\":{\"id\":\"01323d32-4ce5-4102-a13c-fda2cb4b7e98\",\"subtype\":\"Figure\",\"type\":\"Plot\"},\"ticker\":{\"id\":\"bb25dee4-98a4-4395-b5b9-01e50808ea0a\",\"type\":\"BasicTicker\"}},\"id\":\"db79a8f8-e081-46cd-ba10-0c4ce7566736\",\"type\":\"LinearAxis\"},{\"attributes\":{\"plot\":{\"id\":\"d0c3825b-589c-40f0-b601-dccdf7af674c\",\"subtype\":\"Figure\",\"type\":\"Plot\"}},\"id\":\"48dda1c9-db6a-4d05-a6e3-dd64c316f11c\",\"type\":\"ResizeTool\"},{\"attributes\":{\"callback\":null,\"factors\":[\"ML4\",\"MON\",\"CAL\",\"PIT\",\"FLO\",\"KCA\",\"OAK\",\"SDN\",\"MIN\",\"CLE\",\"TBA\",\"CIN\",\"HOU\",\"TOR\",\"BAL\",\"TEX\",\"ANA\",\"SLN\",\"SEA\",\"COL\",\"DET\",\"CHA\",\"SFN\",\"PHI\",\"MIL\",\"ATL\",\"CHN\",\"WAS\",\"NYN\",\"LAN\",\"ARI\",\"BOS\",\"MIA\",\"NYA\",\"LAA\"]},\"id\":\"aa817edc-ab16-4bda-850e-9c5e9141dfc6\",\"type\":\"FactorRange\"},{\"attributes\":{},\"id\":\"2fd5d1f4-502f-43d2-b74b-6b2911633a19\",\"type\":\"BasicTicker\"},{\"attributes\":{\"plot\":{\"id\":\"01323d32-4ce5-4102-a13c-fda2cb4b7e98\",\"subtype\":\"Figure\",\"type\":\"Plot\"}},\"id\":\"120df28c-0f77-42f4-846d-8c1e3843c236\",\"type\":\"PreviewSaveTool\"},{\"attributes\":{},\"id\":\"a0422ac8-7eda-4bb9-b27c-6eef20e4ef81\",\"type\":\"BasicTicker\"},{\"attributes\":{\"plot\":{\"id\":\"1567cf8c-901f-4e40-aae1-8829e3cc8539\",\"subtype\":\"Figure\",\"type\":\"Plot\"}},\"id\":\"91d5691a-0250-4c63-b306-d3d95e3c951b\",\"type\":\"ResetTool\"},{\"attributes\":{\"plot\":{\"id\":\"1c1c70b0-bc89-426f-94a7-be58f573589e\",\"subtype\":\"Figure\",\"type\":\"Plot\"}},\"id\":\"435b9a54-3323-41d5-ac4f-1b8174f44aa0\",\"type\":\"PanTool\"},{\"attributes\":{\"callback\":null},\"id\":\"3696ff42-b277-4350-b1bb-af27c49bbecb\",\"type\":\"DataRange1d\"},{\"attributes\":{},\"id\":\"a3b98033-1da4-4f48-a442-90a871ed25f8\",\"type\":\"ToolEvents\"},{\"attributes\":{},\"id\":\"be87fd0b-4896-4615-ac0c-44cc06d25ba7\",\"type\":\"CategoricalTickFormatter\"},{\"attributes\":{\"plot\":{\"id\":\"cf6f44f7-10b0-4886-ac82-98eda57f8dae\",\"subtype\":\"Figure\",\"type\":\"Plot\"}},\"id\":\"91397304-e346-4af1-9f8e-2d151c027fd2\",\"type\":\"PreviewSaveTool\"},{\"attributes\":{\"fill_alpha\":{\"value\":0.5},\"fill_color\":{\"value\":\"lightgrey\"},\"level\":\"overlay\",\"line_alpha\":{\"value\":1.0},\"line_color\":{\"value\":\"black\"},\"line_dash\":[4,4],\"line_width\":{\"value\":2},\"plot\":null,\"xs_units\":\"screen\",\"ys_units\":\"screen\"},\"id\":\"5c4d942d-60a7-4adb-b5c0-f404a096c93a\",\"type\":\"PolyAnnotation\"},{\"attributes\":{},\"id\":\"afe912b8-9dcb-45a7-9034-b4fa542becbc\",\"type\":\"CategoricalTicker\"},{\"attributes\":{\"fill_color\":{\"value\":\"#1f77b4\"},\"line_color\":{\"value\":\"#1f77b4\"},\"x\":{\"field\":\"teamID\"},\"y\":{\"field\":\"mean\"}},\"id\":\"2809b14b-d6f1-4897-9656-04cf8c8bb091\",\"type\":\"Circle\"},{\"attributes\":{\"overlay\":{\"id\":\"f79353cf-73fb-4227-a8cf-107fed7036a7\",\"type\":\"BoxAnnotation\"},\"plot\":{\"id\":\"d0c3825b-589c-40f0-b601-dccdf7af674c\",\"subtype\":\"Figure\",\"type\":\"Plot\"}},\"id\":\"968cb64c-daa0-4240-98ee-e5bf623e883f\",\"type\":\"BoxZoomTool\"},{\"attributes\":{\"plot\":{\"id\":\"1c1c70b0-bc89-426f-94a7-be58f573589e\",\"subtype\":\"Figure\",\"type\":\"Plot\"}},\"id\":\"e03516e3-5656-4e86-ad7c-c6d0c9540fdf\",\"type\":\"ResetTool\"},{\"attributes\":{\"plot\":{\"id\":\"d0c3825b-589c-40f0-b601-dccdf7af674c\",\"subtype\":\"Figure\",\"type\":\"Plot\"}},\"id\":\"7f3e72c8-445d-4d91-aa33-ba400423df60\",\"type\":\"ResetTool\"},{\"attributes\":{\"callback\":null,\"column_names\":[\"amax\",\"std\",\"amin\",\"ratio\",\"mean\",\"teamID\"],\"data\":{\"amax\":[5875000.0,11500000.0,5375000.0,16500000.0,14936667.0,13000000.0,13500000.0,15505142.0,23000000.0,15000000.0,10125000.0,18910655.0,19369019.0,19700000.0,17000000.0,22000000.0,13166667.0,16333327.0,20557143.0,20275000.0,23000000.0,17000000.0,22250000.0,25000000.0,15500000.0,16061802.0,19000000.0,16571429.0,23145011.0,23854494.0,16000000.0,22500000.0,19000000.0,33000000.0,26187500.0],\"amin\":[60000.0,60000.0,60000.0,0.0,50000.0,60000.0,60000.0,60000.0,60000.0,60000.0,170000.0,60000.0,60000.0,60000.0,60000.0,60000.0,150000.0,60000.0,60000.0,109000.0,60000.0,50000.0,60000.0,60000.0,170000.0,60000.0,60000.0,316000.0,60000.0,60000.0,170000.0,60000.0,480000.0,0.0,316000.0],\"mean\":[613243.5800524935,707458.8578856152,739073.179347826,1077989.6803760282,1147986.4030612244,1299025.7868080095,1303094.7988304093,1317959.64354067,1525031.650385604,1525794.9584775087,1528399.5054945054,1568035.2813238772,1705561.3130434782,1768710.9600484262,1785712.3251461987,1874651.551143201,1895109.2024291498,1928832.5547785547,1932288.913202934,1945628.4724025973,1980834.9902080784,1992653.5012315272,2044198.6841463414,2092230.9326364691,2095008.9668141592,2130474.682577566,2185518.65408039,2243755.1576923076,2317349.977245509,2346982.6980255516,2428195.9126637555,2692113.8568075118,2974115.68627451,3608860.1485380116,4151107.171875],\"ratio\":[97.91666666666667,191.66666666666666,89.58333333333333,\"Infinity\",298.73334,216.66666666666666,225.0,258.41903333333335,383.3333333333333,250.0,59.55882352941177,315.17758333333336,322.8169833333333,328.3333333333333,283.3333333333333,366.6666666666667,87.77778,272.2221166666667,342.61905,186.0091743119266,383.3333333333333,340.0,370.8333333333333,416.6666666666667,91.17647058823529,267.6967,316.6666666666667,52.44123101265823,385.7501833333333,397.5749,94.11764705882354,375.0,39.583333333333336,\"Infinity\",82.87183544303798],\"std\":[853533.7163845291,1192678.1516411488,960628.5390361849,1720168.0769492872,1808397.0244389344,1951652.8801389195,2000776.9925032738,1971054.4478543361,2684866.4482354484,2251972.7754913056,2011091.1980497667,2489143.8459413988,3083466.905934261,2714273.250736591,2491109.1857474186,3014408.0266307434,2667146.9245296065,3014710.9368142053,3047418.722298252,2980228.8372444157,3388685.94679665,3185499.881674104,3305606.755051485,3607534.5605039247,2733957.135136098,3373518.217679483,3419997.897579085,2922931.2647121297,3693195.594629475,3598846.2978953356,2971520.2250774694,3861801.8178376732,4339254.417587083,5638218.508062519,4950547.469858126],\"teamID\":[\"ML4\",\"MON\",\"CAL\",\"PIT\",\"FLO\",\"KCA\",\"OAK\",\"SDN\",\"MIN\",\"CLE\",\"TBA\",\"CIN\",\"HOU\",\"TOR\",\"BAL\",\"TEX\",\"ANA\",\"SLN\",\"SEA\",\"COL\",\"DET\",\"CHA\",\"SFN\",\"PHI\",\"MIL\",\"ATL\",\"CHN\",\"WAS\",\"NYN\",\"LAN\",\"ARI\",\"BOS\",\"MIA\",\"NYA\",\"LAA\"]}},\"id\":\"4e268405-1ef4-4851-986a-f677dea2a2da\",\"type\":\"ColumnDataSource\"},{\"attributes\":{\"fill_alpha\":{\"value\":0.1},\"fill_color\":{\"value\":\"#1f77b4\"},\"line_alpha\":{\"value\":0.1},\"line_color\":{\"value\":\"#1f77b4\"},\"size\":{\"field\":\"all_stars\",\"units\":\"screen\"},\"x\":{\"field\":\"teamID\"},\"y\":{\"field\":\"amax\"}},\"id\":\"43c372e0-ed64-46dd-b4f6-1ea2928aa053\",\"type\":\"Circle\"},{\"attributes\":{\"plot\":{\"id\":\"c72b441f-8531-481e-8f83-56747c3d54e0\",\"subtype\":\"Figure\",\"type\":\"Plot\"}},\"id\":\"74747936-8043-4b5d-b6e0-42735e62cfd3\",\"type\":\"ResetTool\"},{\"attributes\":{\"data_source\":{\"id\":\"bc3aa5f2-859b-499d-848a-3a97b2736eba\",\"type\":\"ColumnDataSource\"},\"glyph\":{\"id\":\"2809b14b-d6f1-4897-9656-04cf8c8bb091\",\"type\":\"Circle\"},\"hover_glyph\":null,\"nonselection_glyph\":{\"id\":\"ec70a90f-67d3-401b-b27e-bef56d7df459\",\"type\":\"Circle\"},\"selection_glyph\":null},\"id\":\"09534edb-f086-4332-8bd1-3d16e1b6a0ab\",\"type\":\"GlyphRenderer\"},{\"attributes\":{},\"id\":\"8b57e69f-980a-42cf-965f-2848f0653f1c\",\"type\":\"CategoricalTicker\"},{\"attributes\":{\"formatter\":{\"id\":\"6a953b5b-bc37-469e-845c-f6ce386beae5\",\"type\":\"BasicTickFormatter\"},\"plot\":{\"id\":\"d0c3825b-589c-40f0-b601-dccdf7af674c\",\"subtype\":\"Figure\",\"type\":\"Plot\"},\"ticker\":{\"id\":\"2fd5d1f4-502f-43d2-b74b-6b2911633a19\",\"type\":\"BasicTicker\"}},\"id\":\"968af908-2aae-4548-bdb3-08a9a27a0396\",\"type\":\"LinearAxis\"},{\"attributes\":{\"bottom_units\":\"screen\",\"fill_alpha\":{\"value\":0.5},\"fill_color\":{\"value\":\"lightgrey\"},\"left_units\":\"screen\",\"level\":\"overlay\",\"line_alpha\":{\"value\":1.0},\"line_color\":{\"value\":\"black\"},\"line_dash\":[4,4],\"line_width\":{\"value\":2},\"plot\":null,\"render_mode\":\"css\",\"right_units\":\"screen\",\"top_units\":\"screen\"},\"id\":\"2596c9e8-39b0-47ca-a3f1-15287afcca5d\",\"type\":\"BoxAnnotation\"},{\"attributes\":{},\"id\":\"0c75ccc5-5357-445e-95e6-2f80e82eaf83\",\"type\":\"ToolEvents\"},{\"attributes\":{},\"id\":\"a4eed59e-8b86-4c1a-a9cf-23ee44c944e3\",\"type\":\"CategoricalTicker\"},{\"attributes\":{\"below\":[{\"id\":\"543fe452-c9bb-4b1d-a9e4-ce420c156c05\",\"type\":\"CategoricalAxis\"}],\"left\":[{\"id\":\"e0373703-6ab2-4424-996a-b43a151d47bc\",\"type\":\"LinearAxis\"}],\"plot_width\":500,\"renderers\":[{\"id\":\"543fe452-c9bb-4b1d-a9e4-ce420c156c05\",\"type\":\"CategoricalAxis\"},{\"id\":\"7afc245f-b367-474e-814c-af8531506b68\",\"type\":\"Grid\"},{\"id\":\"e0373703-6ab2-4424-996a-b43a151d47bc\",\"type\":\"LinearAxis\"},{\"id\":\"fd3f5781-47a3-49b1-bf6a-d9d7025c6c70\",\"type\":\"Grid\"},{\"id\":\"0472a844-dee6-4c45-a598-26e7cf48c20a\",\"type\":\"BoxAnnotation\"},{\"id\":\"5c4d942d-60a7-4adb-b5c0-f404a096c93a\",\"type\":\"PolyAnnotation\"},{\"id\":\"94b09ea7-bd34-4671-ba15-a186a824f9e5\",\"type\":\"GlyphRenderer\"}],\"title\":\"Pay Avg\",\"tool_events\":{\"id\":\"85216338-8d53-45fe-a63b-2039cd98a707\",\"type\":\"ToolEvents\"},\"tools\":[{\"id\":\"435b9a54-3323-41d5-ac4f-1b8174f44aa0\",\"type\":\"PanTool\"},{\"id\":\"14f12857-acec-4ea9-8f8b-6453755af609\",\"type\":\"WheelZoomTool\"},{\"id\":\"517759e7-1512-4ca8-aaf5-cef209b00d7f\",\"type\":\"BoxZoomTool\"},{\"id\":\"e03516e3-5656-4e86-ad7c-c6d0c9540fdf\",\"type\":\"ResetTool\"},{\"id\":\"7ee871f6-8d4c-4e3e-852b-af88fde8f4cc\",\"type\":\"PreviewSaveTool\"},{\"id\":\"b6b550a8-29d2-4126-894c-1616a9b2a36c\",\"type\":\"LassoSelectTool\"}],\"x_range\":{\"id\":\"f9470b07-f30c-459d-9538-3d4023c7f535\",\"type\":\"FactorRange\"},\"y_range\":{\"id\":\"5cc60ee6-9895-4c1f-88bb-1b139249ef08\",\"type\":\"DataRange1d\"}},\"id\":\"1c1c70b0-bc89-426f-94a7-be58f573589e\",\"subtype\":\"Figure\",\"type\":\"Plot\"},{\"attributes\":{},\"id\":\"b4dd723b-6a89-4098-bceb-1fe5e03a3769\",\"type\":\"BasicTickFormatter\"},{\"attributes\":{\"formatter\":{\"id\":\"b48ed5ef-1c44-460e-b909-0c66b59aac6c\",\"type\":\"CategoricalTickFormatter\"},\"major_label_orientation\":1.0471975511965976,\"plot\":{\"id\":\"cf6f44f7-10b0-4886-ac82-98eda57f8dae\",\"subtype\":\"Figure\",\"type\":\"Plot\"},\"ticker\":{\"id\":\"dfc9aef4-e290-45c9-bf38-31b45317fce1\",\"type\":\"CategoricalTicker\"}},\"id\":\"7600e734-84f5-4561-91d7-7720a917d3a8\",\"type\":\"CategoricalAxis\"},{\"attributes\":{},\"id\":\"f43f9266-213d-4c55-acd6-03210f758590\",\"type\":\"BasicTicker\"},{\"attributes\":{\"callback\":null,\"factors\":[\"NYA\",\"LAA\",\"NYN\",\"MIN\",\"DET\",\"BOS\",\"PHI\",\"SEA\",\"HOU\",\"CHN\",\"MIA\",\"SFN\",\"CHA\",\"PIT\",\"SLN\",\"TEX\",\"CLE\",\"ATL\",\"TOR\",\"WAS\",\"MIL\",\"CIN\",\"BAL\",\"LAN\",\"COL\",\"OAK\",\"KCA\",\"TBA\",\"ARI\",\"SDN\"]},\"id\":\"e8055a4e-cf57-4aab-9209-c0d5761dde44\",\"type\":\"FactorRange\"},{\"attributes\":{\"overlay\":{\"id\":\"2596c9e8-39b0-47ca-a3f1-15287afcca5d\",\"type\":\"BoxAnnotation\"},\"plot\":{\"id\":\"1567cf8c-901f-4e40-aae1-8829e3cc8539\",\"subtype\":\"Figure\",\"type\":\"Plot\"}},\"id\":\"6a5de49c-8dd8-4d62-93d9-57de228ef2f5\",\"type\":\"BoxZoomTool\"},{\"attributes\":{\"callback\":null,\"factors\":[\"ML4\",\"MON\",\"CAL\",\"PIT\",\"FLO\",\"KCA\",\"OAK\",\"SDN\",\"MIN\",\"CLE\",\"TBA\",\"CIN\",\"HOU\",\"TOR\",\"BAL\",\"TEX\",\"ANA\",\"SLN\",\"SEA\",\"COL\",\"DET\",\"CHA\",\"SFN\",\"PHI\",\"MIL\",\"ATL\",\"CHN\",\"WAS\",\"NYN\",\"LAN\",\"ARI\",\"BOS\",\"MIA\",\"NYA\",\"LAA\"]},\"id\":\"2cef1b64-2838-4f76-a848-49caff272e56\",\"type\":\"FactorRange\"},{\"attributes\":{\"bottom_units\":\"screen\",\"fill_alpha\":{\"value\":0.5},\"fill_color\":{\"value\":\"lightgrey\"},\"left_units\":\"screen\",\"level\":\"overlay\",\"line_alpha\":{\"value\":1.0},\"line_color\":{\"value\":\"black\"},\"line_dash\":[4,4],\"line_width\":{\"value\":2},\"plot\":null,\"render_mode\":\"css\",\"right_units\":\"screen\",\"top_units\":\"screen\"},\"id\":\"5fe31b59-f0dc-4ad1-af40-1ef4ba56ea57\",\"type\":\"BoxAnnotation\"},{\"attributes\":{\"dimension\":1,\"plot\":{\"id\":\"01323d32-4ce5-4102-a13c-fda2cb4b7e98\",\"subtype\":\"Figure\",\"type\":\"Plot\"},\"ticker\":{\"id\":\"bb25dee4-98a4-4395-b5b9-01e50808ea0a\",\"type\":\"BasicTicker\"}},\"id\":\"75297f78-8805-4699-946e-ea4ca83b299e\",\"type\":\"Grid\"},{\"attributes\":{\"callback\":null,\"column_names\":[\"amax\",\"std\",\"amin\",\"ratio\",\"mean\",\"teamID\",\"all_stars\"],\"data\":{\"all_stars\":[11.62621359223301,11.16504854368932,10.70388349514563,11.699029126213592,12.014563106796118,10.339805825242719,12.572815533980583,10.922330097087379,15.703883495145632,10.825242718446601,11.966019417475728,10.800970873786408,13.252427184466018,17.37864077669903,14.587378640776699,10.339805825242719,14.101941747572816,14.927184466019417,16.237864077669904,10.048543689320388,15.12135922330097,12.37864077669903,11.941747572815533,10.946601941747574,11.820388349514563,12.37864077669903,13.737864077669903,16.91747572815534,12.96116504854369,15.655339805825243,12.742718446601941,14.223300970873787,14.53883495145631,10.825242718446601,20.0],\"amax\":[5375000.0,5875000.0,10125000.0,11500000.0,13000000.0,13166667.0,13500000.0,14936667.0,15000000.0,15500000.0,15505142.0,16000000.0,16061802.0,16333327.0,16500000.0,16571429.0,17000000.0,17000000.0,18910655.0,19000000.0,19000000.0,19369019.0,19700000.0,20275000.0,20557143.0,22000000.0,22250000.0,22500000.0,23000000.0,23000000.0,23145011.0,23854494.0,25000000.0,26187500.0,33000000.0],\"amin\":[60000.0,60000.0,170000.0,60000.0,60000.0,150000.0,60000.0,50000.0,60000.0,170000.0,60000.0,170000.0,60000.0,60000.0,0.0,316000.0,60000.0,50000.0,60000.0,480000.0,60000.0,60000.0,60000.0,109000.0,60000.0,60000.0,60000.0,60000.0,60000.0,60000.0,60000.0,60000.0,60000.0,316000.0,0.0],\"mean\":[739073.179347826,613243.5800524935,1528399.5054945054,707458.8578856152,1299025.7868080095,1895109.2024291498,1303094.7988304093,1147986.4030612244,1525794.9584775087,2095008.9668141592,1317959.64354067,2428195.9126637555,2130474.682577566,1928832.5547785547,1077989.6803760282,2243755.1576923076,1785712.3251461987,1992653.5012315272,1568035.2813238772,2974115.68627451,2185518.65408039,1705561.3130434782,1768710.9600484262,1945628.4724025973,1932288.913202934,1874651.551143201,2044198.6841463414,2692113.8568075118,1525031.650385604,1980834.9902080784,2317349.977245509,2346982.6980255516,2092230.9326364691,4151107.171875,3608860.1485380116],\"ratio\":[89.58333333333333,97.91666666666667,59.55882352941177,191.66666666666666,216.66666666666666,87.77778,225.0,298.73334,250.0,91.17647058823529,258.41903333333335,94.11764705882354,267.6967,272.2221166666667,\"Infinity\",52.44123101265823,283.3333333333333,340.0,315.17758333333336,39.583333333333336,316.6666666666667,322.8169833333333,328.3333333333333,186.0091743119266,342.61905,366.6666666666667,370.8333333333333,375.0,383.3333333333333,383.3333333333333,385.7501833333333,397.5749,416.6666666666667,82.87183544303798,\"Infinity\"],\"std\":[960628.5390361849,853533.7163845291,2011091.1980497667,1192678.1516411488,1951652.8801389195,2667146.9245296065,2000776.9925032738,1808397.0244389344,2251972.7754913056,2733957.135136098,1971054.4478543361,2971520.2250774694,3373518.217679483,3014710.9368142053,1720168.0769492872,2922931.2647121297,2491109.1857474186,3185499.881674104,2489143.8459413988,4339254.417587083,3419997.897579085,3083466.905934261,2714273.250736591,2980228.8372444157,3047418.722298252,3014408.0266307434,3305606.755051485,3861801.8178376732,2684866.4482354484,3388685.94679665,3693195.594629475,3598846.2978953356,3607534.5605039247,4950547.469858126,5638218.508062519],\"teamID\":[\"CAL\",\"ML4\",\"TBA\",\"MON\",\"KCA\",\"ANA\",\"OAK\",\"FLO\",\"CLE\",\"MIL\",\"SDN\",\"ARI\",\"ATL\",\"SLN\",\"PIT\",\"WAS\",\"BAL\",\"CHA\",\"CIN\",\"MIA\",\"CHN\",\"HOU\",\"TOR\",\"COL\",\"SEA\",\"TEX\",\"SFN\",\"BOS\",\"MIN\",\"DET\",\"NYN\",\"LAN\",\"PHI\",\"LAA\",\"NYA\"]}},\"id\":\"fa9c7511-bf3e-4b63-83f6-780692970971\",\"type\":\"ColumnDataSource\"},{\"attributes\":{},\"id\":\"bc77edbf-3e70-48da-974e-d0a1192dc784\",\"type\":\"ToolEvents\"},{\"attributes\":{\"dimension\":1,\"plot\":{\"id\":\"1567cf8c-901f-4e40-aae1-8829e3cc8539\",\"subtype\":\"Figure\",\"type\":\"Plot\"},\"ticker\":{\"id\":\"f43f9266-213d-4c55-acd6-03210f758590\",\"type\":\"BasicTicker\"}},\"id\":\"512bc7a6-a40f-47cb-8aa2-6aaebaaa38f4\",\"type\":\"Grid\"},{\"attributes\":{\"fill_alpha\":{\"value\":0.5},\"fill_color\":{\"value\":\"#1f77b4\"},\"line_color\":{\"value\":\"#1f77b4\"},\"size\":{\"field\":\"all_stars\",\"units\":\"screen\"},\"x\":{\"field\":\"teamID\"},\"y\":{\"field\":\"amax\"}},\"id\":\"30421922-d2ea-4b97-8c4e-9563bffdcfe4\",\"type\":\"Circle\"},{\"attributes\":{\"plot\":{\"id\":\"1567cf8c-901f-4e40-aae1-8829e3cc8539\",\"subtype\":\"Figure\",\"type\":\"Plot\"}},\"id\":\"5c614aa5-2874-4e65-b533-d1ccfbd8c3c4\",\"type\":\"PreviewSaveTool\"},{\"attributes\":{\"plot\":{\"id\":\"cf6f44f7-10b0-4886-ac82-98eda57f8dae\",\"subtype\":\"Figure\",\"type\":\"Plot\"}},\"id\":\"7b8269e5-8671-43d2-bb7f-32444ee84aca\",\"type\":\"WheelZoomTool\"},{\"attributes\":{\"plot\":{\"id\":\"cf6f44f7-10b0-4886-ac82-98eda57f8dae\",\"subtype\":\"Figure\",\"type\":\"Plot\"},\"ticker\":{\"id\":\"dfc9aef4-e290-45c9-bf38-31b45317fce1\",\"type\":\"CategoricalTicker\"}},\"id\":\"9859341d-8bc1-4f42-a4db-b870616b5407\",\"type\":\"Grid\"},{\"attributes\":{\"data_source\":{\"id\":\"cc95f914-5cf3-4a72-8342-15bd87bea279\",\"type\":\"ColumnDataSource\"},\"glyph\":{\"id\":\"30421922-d2ea-4b97-8c4e-9563bffdcfe4\",\"type\":\"Circle\"},\"hover_glyph\":null,\"nonselection_glyph\":{\"id\":\"9c86c86f-4664-43a0-9304-b817dd2dd774\",\"type\":\"Circle\"},\"selection_glyph\":null},\"id\":\"8e91a094-f216-4e5b-818e-7a53de5dcbb6\",\"type\":\"GlyphRenderer\"},{\"attributes\":{\"plot\":{\"id\":\"1c1c70b0-bc89-426f-94a7-be58f573589e\",\"subtype\":\"Figure\",\"type\":\"Plot\"},\"ticker\":{\"id\":\"0e0532be-9a5d-4eba-876b-814b48f269c7\",\"type\":\"CategoricalTicker\"}},\"id\":\"7afc245f-b367-474e-814c-af8531506b68\",\"type\":\"Grid\"},{\"attributes\":{\"fill_alpha\":{\"value\":0.1},\"fill_color\":{\"value\":\"#1f77b4\"},\"line_alpha\":{\"value\":0.1},\"line_color\":{\"value\":\"#1f77b4\"},\"x\":{\"field\":\"teamID\"},\"y\":{\"field\":\"mean\"}},\"id\":\"4096d7e6-f7a0-444c-bad9-bfb7ba9c3c51\",\"type\":\"Circle\"},{\"attributes\":{\"bottom_units\":\"screen\",\"fill_alpha\":{\"value\":0.5},\"fill_color\":{\"value\":\"lightgrey\"},\"left_units\":\"screen\",\"level\":\"overlay\",\"line_alpha\":{\"value\":1.0},\"line_color\":{\"value\":\"black\"},\"line_dash\":[4,4],\"line_width\":{\"value\":2},\"plot\":null,\"render_mode\":\"css\",\"right_units\":\"screen\",\"top_units\":\"screen\"},\"id\":\"0472a844-dee6-4c45-a598-26e7cf48c20a\",\"type\":\"BoxAnnotation\"},{\"attributes\":{},\"id\":\"0e0532be-9a5d-4eba-876b-814b48f269c7\",\"type\":\"CategoricalTicker\"},{\"attributes\":{\"bottom_units\":\"screen\",\"fill_alpha\":{\"value\":0.5},\"fill_color\":{\"value\":\"lightgrey\"},\"left_units\":\"screen\",\"level\":\"overlay\",\"line_alpha\":{\"value\":1.0},\"line_color\":{\"value\":\"black\"},\"line_dash\":[4,4],\"line_width\":{\"value\":2},\"plot\":null,\"render_mode\":\"css\",\"right_units\":\"screen\",\"top_units\":\"screen\"},\"id\":\"8fac1c54-2951-4bae-9ab7-5f5a69089f57\",\"type\":\"BoxAnnotation\"},{\"attributes\":{},\"id\":\"429607d8-eae9-4d72-a5c7-8f64523648e4\",\"type\":\"BasicTickFormatter\"},{\"attributes\":{\"data_source\":{\"id\":\"86d263e6-b25f-4d08-90cf-d5e9349909bb\",\"type\":\"ColumnDataSource\"},\"glyph\":{\"id\":\"cffbc47e-b9a8-4600-b339-c968cdb9bec1\",\"type\":\"Circle\"},\"hover_glyph\":null,\"nonselection_glyph\":{\"id\":\"85f66d20-e9c1-4f5a-8b91-14c77c8c5f6c\",\"type\":\"Circle\"},\"selection_glyph\":null},\"id\":\"94b09ea7-bd34-4671-ba15-a186a824f9e5\",\"type\":\"GlyphRenderer\"},{\"attributes\":{\"data_source\":{\"id\":\"fa9c7511-bf3e-4b63-83f6-780692970971\",\"type\":\"ColumnDataSource\"},\"glyph\":{\"id\":\"172c4d4c-abe0-4c46-9a79-4c002be81c1d\",\"type\":\"Circle\"},\"hover_glyph\":null,\"nonselection_glyph\":{\"id\":\"43c372e0-ed64-46dd-b4f6-1ea2928aa053\",\"type\":\"Circle\"},\"selection_glyph\":null},\"id\":\"abda416d-6ebc-4869-ab5d-8203940c5223\",\"type\":\"GlyphRenderer\"},{\"attributes\":{\"fill_color\":{\"value\":\"#1f77b4\"},\"line_color\":{\"value\":\"#1f77b4\"},\"x\":{\"field\":\"teamID\"},\"y\":{\"field\":\"mean\"}},\"id\":\"cffbc47e-b9a8-4600-b339-c968cdb9bec1\",\"type\":\"Circle\"},{\"attributes\":{\"plot\":{\"id\":\"d0c3825b-589c-40f0-b601-dccdf7af674c\",\"subtype\":\"Figure\",\"type\":\"Plot\"},\"ticker\":{\"id\":\"398dd452-ae4e-4e14-9e5f-37378e2785c7\",\"type\":\"CategoricalTicker\"}},\"id\":\"508227ea-c53e-4444-b4c1-4c399a903cb5\",\"type\":\"Grid\"},{\"attributes\":{\"fill_alpha\":{\"value\":0.5},\"fill_color\":{\"value\":\"lightgrey\"},\"level\":\"overlay\",\"line_alpha\":{\"value\":1.0},\"line_color\":{\"value\":\"black\"},\"line_dash\":[4,4],\"line_width\":{\"value\":2},\"plot\":null,\"xs_units\":\"screen\",\"ys_units\":\"screen\"},\"id\":\"38ec9b0d-28bf-47be-9974-842cd5540005\",\"type\":\"PolyAnnotation\"},{\"attributes\":{\"plot\":{\"id\":\"1567cf8c-901f-4e40-aae1-8829e3cc8539\",\"subtype\":\"Figure\",\"type\":\"Plot\"},\"ticker\":{\"id\":\"afe912b8-9dcb-45a7-9034-b4fa542becbc\",\"type\":\"CategoricalTicker\"}},\"id\":\"1230664a-e0d4-4b4c-b6a7-b564303eac50\",\"type\":\"Grid\"},{\"attributes\":{\"formatter\":{\"id\":\"16a111de-de84-4ea9-b730-562a632d58af\",\"type\":\"BasicTickFormatter\"},\"plot\":{\"id\":\"cf6f44f7-10b0-4886-ac82-98eda57f8dae\",\"subtype\":\"Figure\",\"type\":\"Plot\"},\"ticker\":{\"id\":\"666e04f2-0e73-4e19-ac37-d6428b4e456a\",\"type\":\"BasicTicker\"}},\"id\":\"2017aab3-9d6d-4d4b-8c81-a26beabab7b7\",\"type\":\"LinearAxis\"},{\"attributes\":{\"plot\":{\"id\":\"1c1c70b0-bc89-426f-94a7-be58f573589e\",\"subtype\":\"Figure\",\"type\":\"Plot\"}},\"id\":\"7ee871f6-8d4c-4e3e-852b-af88fde8f4cc\",\"type\":\"PreviewSaveTool\"},{\"attributes\":{},\"id\":\"6a953b5b-bc37-469e-845c-f6ce386beae5\",\"type\":\"BasicTickFormatter\"},{\"attributes\":{\"below\":[{\"id\":\"eb993097-caa8-4386-b39f-35ecc9a3789f\",\"type\":\"CategoricalAxis\"}],\"left\":[{\"id\":\"23934e2a-0485-4404-b468-a32360da66d8\",\"type\":\"LinearAxis\"}],\"renderers\":[{\"id\":\"eb993097-caa8-4386-b39f-35ecc9a3789f\",\"type\":\"CategoricalAxis\"},{\"id\":\"1230664a-e0d4-4b4c-b6a7-b564303eac50\",\"type\":\"Grid\"},{\"id\":\"23934e2a-0485-4404-b468-a32360da66d8\",\"type\":\"LinearAxis\"},{\"id\":\"512bc7a6-a40f-47cb-8aa2-6aaebaaa38f4\",\"type\":\"Grid\"},{\"id\":\"2596c9e8-39b0-47ca-a3f1-15287afcca5d\",\"type\":\"BoxAnnotation\"},{\"id\":\"09534edb-f086-4332-8bd1-3d16e1b6a0ab\",\"type\":\"GlyphRenderer\"}],\"tool_events\":{\"id\":\"0c75ccc5-5357-445e-95e6-2f80e82eaf83\",\"type\":\"ToolEvents\"},\"tools\":[{\"id\":\"f3c0fab5-dabb-4d9b-90d9-a1a39b28eb26\",\"type\":\"PanTool\"},{\"id\":\"1213d84c-5496-4ec4-9d6c-9953d60c21b9\",\"type\":\"WheelZoomTool\"},{\"id\":\"6a5de49c-8dd8-4d62-93d9-57de228ef2f5\",\"type\":\"BoxZoomTool\"},{\"id\":\"5c614aa5-2874-4e65-b533-d1ccfbd8c3c4\",\"type\":\"PreviewSaveTool\"},{\"id\":\"712a20e6-e29d-4af2-8ed2-d97fb32ef468\",\"type\":\"ResizeTool\"},{\"id\":\"91d5691a-0250-4c63-b306-d3d95e3c951b\",\"type\":\"ResetTool\"},{\"id\":\"3ff4d956-06a6-47c7-93e0-fee0077d9e01\",\"type\":\"HelpTool\"}],\"x_range\":{\"id\":\"aa817edc-ab16-4bda-850e-9c5e9141dfc6\",\"type\":\"FactorRange\"},\"y_range\":{\"id\":\"1a7a7827-711d-4d99-bcdb-19b067f76814\",\"type\":\"DataRange1d\"}},\"id\":\"1567cf8c-901f-4e40-aae1-8829e3cc8539\",\"subtype\":\"Figure\",\"type\":\"Plot\"},{\"attributes\":{\"data_source\":{\"id\":\"4e268405-1ef4-4851-986a-f677dea2a2da\",\"type\":\"ColumnDataSource\"},\"glyph\":{\"id\":\"31bdd69d-51d6-4804-89b1-9db00aa09f51\",\"type\":\"Circle\"},\"hover_glyph\":null,\"nonselection_glyph\":{\"id\":\"4096d7e6-f7a0-444c-bad9-bfb7ba9c3c51\",\"type\":\"Circle\"},\"selection_glyph\":null},\"id\":\"9db66536-cfea-4f4a-bd5a-42bad1d6b525\",\"type\":\"GlyphRenderer\"},{\"attributes\":{\"dimension\":1,\"plot\":{\"id\":\"cf6f44f7-10b0-4886-ac82-98eda57f8dae\",\"subtype\":\"Figure\",\"type\":\"Plot\"},\"ticker\":{\"id\":\"666e04f2-0e73-4e19-ac37-d6428b4e456a\",\"type\":\"BasicTicker\"}},\"id\":\"ae8e806b-293f-47cc-bbe5-b02da336aa39\",\"type\":\"Grid\"},{\"attributes\":{\"formatter\":{\"id\":\"80810970-699a-4ed0-b2b5-557880f21f65\",\"type\":\"CategoricalTickFormatter\"},\"major_label_orientation\":1.0471975511965976,\"plot\":{\"id\":\"d0c3825b-589c-40f0-b601-dccdf7af674c\",\"subtype\":\"Figure\",\"type\":\"Plot\"},\"ticker\":{\"id\":\"398dd452-ae4e-4e14-9e5f-37378e2785c7\",\"type\":\"CategoricalTicker\"}},\"id\":\"5cb4b66f-f8bb-4c84-a08a-6e618abf81c2\",\"type\":\"CategoricalAxis\"},{\"attributes\":{\"plot\":{\"id\":\"d0c3825b-589c-40f0-b601-dccdf7af674c\",\"subtype\":\"Figure\",\"type\":\"Plot\"}},\"id\":\"9f5a0a5b-e73f-4c9e-8845-13a92142488c\",\"type\":\"HelpTool\"},{\"attributes\":{\"formatter\":{\"id\":\"a1ef8867-cdba-44ae-afa8-a4632371bc33\",\"type\":\"CategoricalTickFormatter\"},\"major_label_orientation\":1.0471975511965976,\"plot\":{\"id\":\"c72b441f-8531-481e-8f83-56747c3d54e0\",\"subtype\":\"Figure\",\"type\":\"Plot\"},\"ticker\":{\"id\":\"8b57e69f-980a-42cf-965f-2848f0653f1c\",\"type\":\"CategoricalTicker\"}},\"id\":\"b95e2707-f3ad-4324-a2b9-cb0a2d6172a1\",\"type\":\"CategoricalAxis\"},{\"attributes\":{\"data_source\":{\"id\":\"86d263e6-b25f-4d08-90cf-d5e9349909bb\",\"type\":\"ColumnDataSource\"},\"glyph\":{\"id\":\"404b5c35-1584-4e4b-b30b-8c0cc9f1aa04\",\"type\":\"Circle\"},\"hover_glyph\":null,\"nonselection_glyph\":{\"id\":\"252ae871-2580-4a65-8eb3-046c99d89d7e\",\"type\":\"Circle\"},\"selection_glyph\":null},\"id\":\"0222a6b0-6028-47e1-b3bf-a8b8bbcaedb8\",\"type\":\"GlyphRenderer\"},{\"attributes\":{\"plot\":{\"id\":\"c72b441f-8531-481e-8f83-56747c3d54e0\",\"subtype\":\"Figure\",\"type\":\"Plot\"}},\"id\":\"a1e27ab1-a86e-4218-9754-0b1c6c4603de\",\"type\":\"WheelZoomTool\"},{\"attributes\":{\"callback\":null},\"id\":\"c7a2f3d3-b1ed-4ec9-a8ff-9eba690cb999\",\"type\":\"DataRange1d\"},{\"attributes\":{\"plot\":{\"id\":\"cf6f44f7-10b0-4886-ac82-98eda57f8dae\",\"subtype\":\"Figure\",\"type\":\"Plot\"}},\"id\":\"5837330a-f4de-494d-9ff8-8b8f765be3de\",\"type\":\"PanTool\"},{\"attributes\":{\"plot\":{\"id\":\"01323d32-4ce5-4102-a13c-fda2cb4b7e98\",\"subtype\":\"Figure\",\"type\":\"Plot\"},\"ticker\":{\"id\":\"a4eed59e-8b86-4c1a-a9cf-23ee44c944e3\",\"type\":\"CategoricalTicker\"}},\"id\":\"73feeac6-b981-48ee-8951-12458a0b86cd\",\"type\":\"Grid\"},{\"attributes\":{\"fill_alpha\":{\"value\":0.1},\"fill_color\":{\"value\":\"#1f77b4\"},\"line_alpha\":{\"value\":0.1},\"line_color\":{\"value\":\"#1f77b4\"},\"x\":{\"field\":\"teamID\"},\"y\":{\"field\":\"ratio\"}},\"id\":\"252ae871-2580-4a65-8eb3-046c99d89d7e\",\"type\":\"Circle\"},{\"attributes\":{\"callback\":null},\"id\":\"a397cca9-eb93-45a3-b579-ddaffe099a27\",\"type\":\"DataRange1d\"},{\"attributes\":{\"fill_alpha\":{\"value\":0.1},\"fill_color\":{\"value\":\"#1f77b4\"},\"line_alpha\":{\"value\":0.1},\"line_color\":{\"value\":\"#1f77b4\"},\"size\":{\"field\":\"all_stars\",\"units\":\"screen\"},\"x\":{\"field\":\"teamID\"},\"y\":{\"field\":\"amax\"}},\"id\":\"9c86c86f-4664-43a0-9304-b817dd2dd774\",\"type\":\"Circle\"},{\"attributes\":{\"overlay\":{\"id\":\"8fac1c54-2951-4bae-9ab7-5f5a69089f57\",\"type\":\"BoxAnnotation\"},\"plot\":{\"id\":\"cf6f44f7-10b0-4886-ac82-98eda57f8dae\",\"subtype\":\"Figure\",\"type\":\"Plot\"}},\"id\":\"75caeff2-fa55-4929-ac69-30474d75c740\",\"type\":\"BoxZoomTool\"},{\"attributes\":{},\"id\":\"57bed416-92f0-4563-88ba-b1b56557f3ad\",\"type\":\"CategoricalTickFormatter\"},{\"attributes\":{},\"id\":\"16a111de-de84-4ea9-b730-562a632d58af\",\"type\":\"BasicTickFormatter\"},{\"attributes\":{},\"id\":\"398dd452-ae4e-4e14-9e5f-37378e2785c7\",\"type\":\"CategoricalTicker\"},{\"attributes\":{\"bottom_units\":\"screen\",\"fill_alpha\":{\"value\":0.5},\"fill_color\":{\"value\":\"lightgrey\"},\"left_units\":\"screen\",\"level\":\"overlay\",\"line_alpha\":{\"value\":1.0},\"line_color\":{\"value\":\"black\"},\"line_dash\":[4,4],\"line_width\":{\"value\":2},\"plot\":null,\"render_mode\":\"css\",\"right_units\":\"screen\",\"top_units\":\"screen\"},\"id\":\"431886b7-d624-4df1-aea5-b7121571d453\",\"type\":\"BoxAnnotation\"},{\"attributes\":{},\"id\":\"dfc9aef4-e290-45c9-bf38-31b45317fce1\",\"type\":\"CategoricalTicker\"},{\"attributes\":{\"plot\":{\"id\":\"01323d32-4ce5-4102-a13c-fda2cb4b7e98\",\"subtype\":\"Figure\",\"type\":\"Plot\"}},\"id\":\"fa1b96fd-3ff4-40c9-a5c6-20b5418882d6\",\"type\":\"ResetTool\"},{\"attributes\":{},\"id\":\"80810970-699a-4ed0-b2b5-557880f21f65\",\"type\":\"CategoricalTickFormatter\"},{\"attributes\":{\"formatter\":{\"id\":\"a958c7f2-09ee-4b0d-be52-a7c571bd27dc\",\"type\":\"BasicTickFormatter\"},\"plot\":{\"id\":\"c72b441f-8531-481e-8f83-56747c3d54e0\",\"subtype\":\"Figure\",\"type\":\"Plot\"},\"ticker\":{\"id\":\"c197da3c-c61f-4070-926a-18cedc25bcd4\",\"type\":\"BasicTicker\"}},\"id\":\"9834d5d1-1159-4168-beb9-56badc37b2cb\",\"type\":\"LinearAxis\"},{\"attributes\":{\"below\":[{\"id\":\"5cb4b66f-f8bb-4c84-a08a-6e618abf81c2\",\"type\":\"CategoricalAxis\"}],\"left\":[{\"id\":\"968af908-2aae-4548-bdb3-08a9a27a0396\",\"type\":\"LinearAxis\"}],\"renderers\":[{\"id\":\"5cb4b66f-f8bb-4c84-a08a-6e618abf81c2\",\"type\":\"CategoricalAxis\"},{\"id\":\"508227ea-c53e-4444-b4c1-4c399a903cb5\",\"type\":\"Grid\"},{\"id\":\"968af908-2aae-4548-bdb3-08a9a27a0396\",\"type\":\"LinearAxis\"},{\"id\":\"6a8fc19a-8acd-47f4-a3b9-1de510e14a77\",\"type\":\"Grid\"},{\"id\":\"f79353cf-73fb-4227-a8cf-107fed7036a7\",\"type\":\"BoxAnnotation\"},{\"id\":\"8e91a094-f216-4e5b-818e-7a53de5dcbb6\",\"type\":\"GlyphRenderer\"}],\"tool_events\":{\"id\":\"a3b98033-1da4-4f48-a442-90a871ed25f8\",\"type\":\"ToolEvents\"},\"tools\":[{\"id\":\"59ffd3eb-f36d-42de-9464-8dbda222ba42\",\"type\":\"PanTool\"},{\"id\":\"cf68130e-4f69-4ee9-b1a0-c2ca2bebcd9c\",\"type\":\"WheelZoomTool\"},{\"id\":\"968cb64c-daa0-4240-98ee-e5bf623e883f\",\"type\":\"BoxZoomTool\"},{\"id\":\"636a2eea-d5b4-47ac-ba8b-c597ad43ae64\",\"type\":\"PreviewSaveTool\"},{\"id\":\"48dda1c9-db6a-4d05-a6e3-dd64c316f11c\",\"type\":\"ResizeTool\"},{\"id\":\"7f3e72c8-445d-4d91-aa33-ba400423df60\",\"type\":\"ResetTool\"},{\"id\":\"9f5a0a5b-e73f-4c9e-8845-13a92142488c\",\"type\":\"HelpTool\"}],\"x_range\":{\"id\":\"e8055a4e-cf57-4aab-9209-c0d5761dde44\",\"type\":\"FactorRange\"},\"y_range\":{\"id\":\"a397cca9-eb93-45a3-b579-ddaffe099a27\",\"type\":\"DataRange1d\"}},\"id\":\"d0c3825b-589c-40f0-b601-dccdf7af674c\",\"subtype\":\"Figure\",\"type\":\"Plot\"},{\"attributes\":{\"plot\":{\"id\":\"d0c3825b-589c-40f0-b601-dccdf7af674c\",\"subtype\":\"Figure\",\"type\":\"Plot\"}},\"id\":\"59ffd3eb-f36d-42de-9464-8dbda222ba42\",\"type\":\"PanTool\"},{\"attributes\":{\"fill_alpha\":{\"value\":0.1},\"fill_color\":{\"value\":\"#1f77b4\"},\"line_alpha\":{\"value\":0.1},\"line_color\":{\"value\":\"#1f77b4\"},\"x\":{\"field\":\"teamID\"},\"y\":{\"field\":\"mean\"}},\"id\":\"ec70a90f-67d3-401b-b27e-bef56d7df459\",\"type\":\"Circle\"},{\"attributes\":{},\"id\":\"85216338-8d53-45fe-a63b-2039cd98a707\",\"type\":\"ToolEvents\"},{\"attributes\":{\"dimension\":1,\"plot\":{\"id\":\"d0c3825b-589c-40f0-b601-dccdf7af674c\",\"subtype\":\"Figure\",\"type\":\"Plot\"},\"ticker\":{\"id\":\"2fd5d1f4-502f-43d2-b74b-6b2911633a19\",\"type\":\"BasicTicker\"}},\"id\":\"6a8fc19a-8acd-47f4-a3b9-1de510e14a77\",\"type\":\"Grid\"},{\"attributes\":{\"callback\":null,\"column_names\":[\"amax\",\"std\",\"amin\",\"ratio\",\"mean\",\"teamID\"],\"data\":{\"amax\":[5875000.0,11500000.0,5375000.0,16500000.0,14936667.0,13000000.0,13500000.0,15505142.0,23000000.0,15000000.0,10125000.0,18910655.0,19369019.0,19700000.0,17000000.0,22000000.0,13166667.0,16333327.0,20557143.0,20275000.0,23000000.0,17000000.0,22250000.0,25000000.0,15500000.0,16061802.0,19000000.0,16571429.0,23145011.0,23854494.0,16000000.0,22500000.0,19000000.0,33000000.0,26187500.0],\"amin\":[60000.0,60000.0,60000.0,0.0,50000.0,60000.0,60000.0,60000.0,60000.0,60000.0,170000.0,60000.0,60000.0,60000.0,60000.0,60000.0,150000.0,60000.0,60000.0,109000.0,60000.0,50000.0,60000.0,60000.0,170000.0,60000.0,60000.0,316000.0,60000.0,60000.0,170000.0,60000.0,480000.0,0.0,316000.0],\"mean\":[613243.5800524935,707458.8578856152,739073.179347826,1077989.6803760282,1147986.4030612244,1299025.7868080095,1303094.7988304093,1317959.64354067,1525031.650385604,1525794.9584775087,1528399.5054945054,1568035.2813238772,1705561.3130434782,1768710.9600484262,1785712.3251461987,1874651.551143201,1895109.2024291498,1928832.5547785547,1932288.913202934,1945628.4724025973,1980834.9902080784,1992653.5012315272,2044198.6841463414,2092230.9326364691,2095008.9668141592,2130474.682577566,2185518.65408039,2243755.1576923076,2317349.977245509,2346982.6980255516,2428195.9126637555,2692113.8568075118,2974115.68627451,3608860.1485380116,4151107.171875],\"ratio\":[97.91666666666667,191.66666666666666,89.58333333333333,\"Infinity\",298.73334,216.66666666666666,225.0,258.41903333333335,383.3333333333333,250.0,59.55882352941177,315.17758333333336,322.8169833333333,328.3333333333333,283.3333333333333,366.6666666666667,87.77778,272.2221166666667,342.61905,186.0091743119266,383.3333333333333,340.0,370.8333333333333,416.6666666666667,91.17647058823529,267.6967,316.6666666666667,52.44123101265823,385.7501833333333,397.5749,94.11764705882354,375.0,39.583333333333336,\"Infinity\",82.87183544303798],\"std\":[853533.7163845291,1192678.1516411488,960628.5390361849,1720168.0769492872,1808397.0244389344,1951652.8801389195,2000776.9925032738,1971054.4478543361,2684866.4482354484,2251972.7754913056,2011091.1980497667,2489143.8459413988,3083466.905934261,2714273.250736591,2491109.1857474186,3014408.0266307434,2667146.9245296065,3014710.9368142053,3047418.722298252,2980228.8372444157,3388685.94679665,3185499.881674104,3305606.755051485,3607534.5605039247,2733957.135136098,3373518.217679483,3419997.897579085,2922931.2647121297,3693195.594629475,3598846.2978953356,2971520.2250774694,3861801.8178376732,4339254.417587083,5638218.508062519,4950547.469858126],\"teamID\":[\"ML4\",\"MON\",\"CAL\",\"PIT\",\"FLO\",\"KCA\",\"OAK\",\"SDN\",\"MIN\",\"CLE\",\"TBA\",\"CIN\",\"HOU\",\"TOR\",\"BAL\",\"TEX\",\"ANA\",\"SLN\",\"SEA\",\"COL\",\"DET\",\"CHA\",\"SFN\",\"PHI\",\"MIL\",\"ATL\",\"CHN\",\"WAS\",\"NYN\",\"LAN\",\"ARI\",\"BOS\",\"MIA\",\"NYA\",\"LAA\"]}},\"id\":\"86d263e6-b25f-4d08-90cf-d5e9349909bb\",\"type\":\"ColumnDataSource\"},{\"attributes\":{\"plot\":{\"id\":\"c72b441f-8531-481e-8f83-56747c3d54e0\",\"subtype\":\"Figure\",\"type\":\"Plot\"}},\"id\":\"8b4ce6b1-49df-4cb3-a58c-d0e6d8741e4f\",\"type\":\"PreviewSaveTool\"},{\"attributes\":{},\"id\":\"a958c7f2-09ee-4b0d-be52-a7c571bd27dc\",\"type\":\"BasicTickFormatter\"},{\"attributes\":{\"plot\":{\"id\":\"01323d32-4ce5-4102-a13c-fda2cb4b7e98\",\"subtype\":\"Figure\",\"type\":\"Plot\"}},\"id\":\"29409d14-84ab-44c3-a877-49610188cfa2\",\"type\":\"PanTool\"},{\"attributes\":{\"formatter\":{\"id\":\"b4dd723b-6a89-4098-bceb-1fe5e03a3769\",\"type\":\"BasicTickFormatter\"},\"plot\":{\"id\":\"1c1c70b0-bc89-426f-94a7-be58f573589e\",\"subtype\":\"Figure\",\"type\":\"Plot\"},\"ticker\":{\"id\":\"a0422ac8-7eda-4bb9-b27c-6eef20e4ef81\",\"type\":\"BasicTicker\"}},\"id\":\"e0373703-6ab2-4424-996a-b43a151d47bc\",\"type\":\"LinearAxis\"},{\"attributes\":{\"plot\":{\"id\":\"c72b441f-8531-481e-8f83-56747c3d54e0\",\"subtype\":\"Figure\",\"type\":\"Plot\"},\"ticker\":{\"id\":\"8b57e69f-980a-42cf-965f-2848f0653f1c\",\"type\":\"CategoricalTicker\"}},\"id\":\"6650f694-8ca2-4f03-9162-b9422169a1c4\",\"type\":\"Grid\"},{\"attributes\":{},\"id\":\"52526360-4c35-4dd9-8021-6e3d34a33586\",\"type\":\"ToolEvents\"},{\"attributes\":{},\"id\":\"b48ed5ef-1c44-460e-b909-0c66b59aac6c\",\"type\":\"CategoricalTickFormatter\"},{\"attributes\":{\"fill_alpha\":{\"value\":0.1},\"fill_color\":{\"value\":\"#1f77b4\"},\"line_alpha\":{\"value\":0.1},\"line_color\":{\"value\":\"#1f77b4\"},\"x\":{\"field\":\"teamID\"},\"y\":{\"field\":\"mean\"}},\"id\":\"85f66d20-e9c1-4f5a-8b91-14c77c8c5f6c\",\"type\":\"Circle\"},{\"attributes\":{\"callback\":null,\"column_names\":[\"amax\",\"std\",\"amin\",\"ratio\",\"mean\",\"teamID\"],\"data\":{\"amax\":[5875000.0,11500000.0,5375000.0,16500000.0,14936667.0,13000000.0,13500000.0,15505142.0,23000000.0,15000000.0,10125000.0,18910655.0,19369019.0,19700000.0,17000000.0,22000000.0,13166667.0,16333327.0,20557143.0,20275000.0,23000000.0,17000000.0,22250000.0,25000000.0,15500000.0,16061802.0,19000000.0,16571429.0,23145011.0,23854494.0,16000000.0,22500000.0,19000000.0,33000000.0,26187500.0],\"amin\":[60000.0,60000.0,60000.0,0.0,50000.0,60000.0,60000.0,60000.0,60000.0,60000.0,170000.0,60000.0,60000.0,60000.0,60000.0,60000.0,150000.0,60000.0,60000.0,109000.0,60000.0,50000.0,60000.0,60000.0,170000.0,60000.0,60000.0,316000.0,60000.0,60000.0,170000.0,60000.0,480000.0,0.0,316000.0],\"mean\":[613243.5800524935,707458.8578856152,739073.179347826,1077989.6803760282,1147986.4030612244,1299025.7868080095,1303094.7988304093,1317959.64354067,1525031.650385604,1525794.9584775087,1528399.5054945054,1568035.2813238772,1705561.3130434782,1768710.9600484262,1785712.3251461987,1874651.551143201,1895109.2024291498,1928832.5547785547,1932288.913202934,1945628.4724025973,1980834.9902080784,1992653.5012315272,2044198.6841463414,2092230.9326364691,2095008.9668141592,2130474.682577566,2185518.65408039,2243755.1576923076,2317349.977245509,2346982.6980255516,2428195.9126637555,2692113.8568075118,2974115.68627451,3608860.1485380116,4151107.171875],\"ratio\":[97.91666666666667,191.66666666666666,89.58333333333333,\"Infinity\",298.73334,216.66666666666666,225.0,258.41903333333335,383.3333333333333,250.0,59.55882352941177,315.17758333333336,322.8169833333333,328.3333333333333,283.3333333333333,366.6666666666667,87.77778,272.2221166666667,342.61905,186.0091743119266,383.3333333333333,340.0,370.8333333333333,416.6666666666667,91.17647058823529,267.6967,316.6666666666667,52.44123101265823,385.7501833333333,397.5749,94.11764705882354,375.0,39.583333333333336,\"Infinity\",82.87183544303798],\"std\":[853533.7163845291,1192678.1516411488,960628.5390361849,1720168.0769492872,1808397.0244389344,1951652.8801389195,2000776.9925032738,1971054.4478543361,2684866.4482354484,2251972.7754913056,2011091.1980497667,2489143.8459413988,3083466.905934261,2714273.250736591,2491109.1857474186,3014408.0266307434,2667146.9245296065,3014710.9368142053,3047418.722298252,2980228.8372444157,3388685.94679665,3185499.881674104,3305606.755051485,3607534.5605039247,2733957.135136098,3373518.217679483,3419997.897579085,2922931.2647121297,3693195.594629475,3598846.2978953356,2971520.2250774694,3861801.8178376732,4339254.417587083,5638218.508062519,4950547.469858126],\"teamID\":[\"ML4\",\"MON\",\"CAL\",\"PIT\",\"FLO\",\"KCA\",\"OAK\",\"SDN\",\"MIN\",\"CLE\",\"TBA\",\"CIN\",\"HOU\",\"TOR\",\"BAL\",\"TEX\",\"ANA\",\"SLN\",\"SEA\",\"COL\",\"DET\",\"CHA\",\"SFN\",\"PHI\",\"MIL\",\"ATL\",\"CHN\",\"WAS\",\"NYN\",\"LAN\",\"ARI\",\"BOS\",\"MIA\",\"NYA\",\"LAA\"]}},\"id\":\"bc3aa5f2-859b-499d-848a-3a97b2736eba\",\"type\":\"ColumnDataSource\"},{\"attributes\":{},\"id\":\"c19702d3-4abb-40b8-b1f2-0e16deac361b\",\"type\":\"CategoricalTickFormatter\"},{\"attributes\":{\"plot\":{\"id\":\"cf6f44f7-10b0-4886-ac82-98eda57f8dae\",\"subtype\":\"Figure\",\"type\":\"Plot\"}},\"id\":\"e4bd50eb-6051-4a36-80c8-b7d6997ce7e3\",\"type\":\"ResizeTool\"},{\"attributes\":{\"plot\":{\"id\":\"01323d32-4ce5-4102-a13c-fda2cb4b7e98\",\"subtype\":\"Figure\",\"type\":\"Plot\"}},\"id\":\"80327027-403e-44be-b884-75d62481f6a0\",\"type\":\"HelpTool\"},{\"attributes\":{\"fill_color\":{\"value\":\"#1f77b4\"},\"line_color\":{\"value\":\"#1f77b4\"},\"x\":{\"field\":\"teamID\"},\"y\":{\"field\":\"mean\"}},\"id\":\"31bdd69d-51d6-4804-89b1-9db00aa09f51\",\"type\":\"Circle\"},{\"attributes\":{\"plot\":{\"id\":\"1567cf8c-901f-4e40-aae1-8829e3cc8539\",\"subtype\":\"Figure\",\"type\":\"Plot\"}},\"id\":\"f3c0fab5-dabb-4d9b-90d9-a1a39b28eb26\",\"type\":\"PanTool\"},{\"attributes\":{},\"id\":\"d81014cb-a9ff-4d0a-9ec2-8a131aceb2ab\",\"type\":\"ToolEvents\"},{\"attributes\":{},\"id\":\"a1ef8867-cdba-44ae-afa8-a4632371bc33\",\"type\":\"CategoricalTickFormatter\"},{\"attributes\":{\"below\":[{\"id\":\"13de03ad-cf15-4f41-b88d-34f792396766\",\"type\":\"CategoricalAxis\"}],\"left\":[{\"id\":\"db79a8f8-e081-46cd-ba10-0c4ce7566736\",\"type\":\"LinearAxis\"}],\"renderers\":[{\"id\":\"13de03ad-cf15-4f41-b88d-34f792396766\",\"type\":\"CategoricalAxis\"},{\"id\":\"73feeac6-b981-48ee-8951-12458a0b86cd\",\"type\":\"Grid\"},{\"id\":\"db79a8f8-e081-46cd-ba10-0c4ce7566736\",\"type\":\"LinearAxis\"},{\"id\":\"75297f78-8805-4699-946e-ea4ca83b299e\",\"type\":\"Grid\"},{\"id\":\"431886b7-d624-4df1-aea5-b7121571d453\",\"type\":\"BoxAnnotation\"},{\"id\":\"abda416d-6ebc-4869-ab5d-8203940c5223\",\"type\":\"GlyphRenderer\"}],\"tool_events\":{\"id\":\"52526360-4c35-4dd9-8021-6e3d34a33586\",\"type\":\"ToolEvents\"},\"tools\":[{\"id\":\"29409d14-84ab-44c3-a877-49610188cfa2\",\"type\":\"PanTool\"},{\"id\":\"94efae4e-bb9e-48bd-8a78-0b43703c1832\",\"type\":\"WheelZoomTool\"},{\"id\":\"300444b5-1eab-46b6-a9a1-7bfbb2cabb16\",\"type\":\"BoxZoomTool\"},{\"id\":\"120df28c-0f77-42f4-846d-8c1e3843c236\",\"type\":\"PreviewSaveTool\"},{\"id\":\"088649cc-9383-43b4-aab6-ff7ae3d3d12f\",\"type\":\"ResizeTool\"},{\"id\":\"fa1b96fd-3ff4-40c9-a5c6-20b5418882d6\",\"type\":\"ResetTool\"},{\"id\":\"80327027-403e-44be-b884-75d62481f6a0\",\"type\":\"HelpTool\"}],\"x_range\":{\"id\":\"71306e99-df1a-4b12-8962-df325789e4f8\",\"type\":\"FactorRange\"},\"y_range\":{\"id\":\"9ce9b965-b164-45b3-9d96-0e1ef76b518e\",\"type\":\"DataRange1d\"}},\"id\":\"01323d32-4ce5-4102-a13c-fda2cb4b7e98\",\"subtype\":\"Figure\",\"type\":\"Plot\"},{\"attributes\":{\"callback\":null,\"factors\":[\"ML4\",\"MON\",\"CAL\",\"PIT\",\"FLO\",\"KCA\",\"OAK\",\"SDN\",\"MIN\",\"CLE\",\"TBA\",\"CIN\",\"HOU\",\"TOR\",\"BAL\",\"TEX\",\"ANA\",\"SLN\",\"SEA\",\"COL\",\"DET\",\"CHA\",\"SFN\",\"PHI\",\"MIL\",\"ATL\",\"CHN\",\"WAS\",\"NYN\",\"LAN\",\"ARI\",\"BOS\",\"MIA\",\"NYA\",\"LAA\"]},\"id\":\"f9470b07-f30c-459d-9538-3d4023c7f535\",\"type\":\"FactorRange\"},{\"attributes\":{\"formatter\":{\"id\":\"c19702d3-4abb-40b8-b1f2-0e16deac361b\",\"type\":\"CategoricalTickFormatter\"},\"plot\":{\"id\":\"1567cf8c-901f-4e40-aae1-8829e3cc8539\",\"subtype\":\"Figure\",\"type\":\"Plot\"},\"ticker\":{\"id\":\"afe912b8-9dcb-45a7-9034-b4fa542becbc\",\"type\":\"CategoricalTicker\"}},\"id\":\"eb993097-caa8-4386-b39f-35ecc9a3789f\",\"type\":\"CategoricalAxis\"},{\"attributes\":{\"overlay\":{\"id\":\"5fe31b59-f0dc-4ad1-af40-1ef4ba56ea57\",\"type\":\"BoxAnnotation\"},\"plot\":{\"id\":\"c72b441f-8531-481e-8f83-56747c3d54e0\",\"subtype\":\"Figure\",\"type\":\"Plot\"}},\"id\":\"d02d967c-926f-459e-b55f-2303de1dc283\",\"type\":\"BoxZoomTool\"},{\"attributes\":{\"callback\":null},\"id\":\"5cc60ee6-9895-4c1f-88bb-1b139249ef08\",\"type\":\"DataRange1d\"},{\"attributes\":{\"below\":[{\"id\":\"b95e2707-f3ad-4324-a2b9-cb0a2d6172a1\",\"type\":\"CategoricalAxis\"}],\"left\":[{\"id\":\"9834d5d1-1159-4168-beb9-56badc37b2cb\",\"type\":\"LinearAxis\"}],\"plot_width\":500,\"renderers\":[{\"id\":\"b95e2707-f3ad-4324-a2b9-cb0a2d6172a1\",\"type\":\"CategoricalAxis\"},{\"id\":\"6650f694-8ca2-4f03-9162-b9422169a1c4\",\"type\":\"Grid\"},{\"id\":\"9834d5d1-1159-4168-beb9-56badc37b2cb\",\"type\":\"LinearAxis\"},{\"id\":\"d0eef804-dfc3-4c1e-ad19-d81965a65224\",\"type\":\"Grid\"},{\"id\":\"5fe31b59-f0dc-4ad1-af40-1ef4ba56ea57\",\"type\":\"BoxAnnotation\"},{\"id\":\"38ec9b0d-28bf-47be-9974-842cd5540005\",\"type\":\"PolyAnnotation\"},{\"id\":\"0222a6b0-6028-47e1-b3bf-a8b8bbcaedb8\",\"type\":\"GlyphRenderer\"}],\"title\":\"Pay Ratio\",\"tool_events\":{\"id\":\"bc77edbf-3e70-48da-974e-d0a1192dc784\",\"type\":\"ToolEvents\"},\"tools\":[{\"id\":\"5a3e93fc-b9c1-41f3-980a-b65d0338bf6e\",\"type\":\"PanTool\"},{\"id\":\"a1e27ab1-a86e-4218-9754-0b1c6c4603de\",\"type\":\"WheelZoomTool\"},{\"id\":\"d02d967c-926f-459e-b55f-2303de1dc283\",\"type\":\"BoxZoomTool\"},{\"id\":\"74747936-8043-4b5d-b6e0-42735e62cfd3\",\"type\":\"ResetTool\"},{\"id\":\"8b4ce6b1-49df-4cb3-a58c-d0e6d8741e4f\",\"type\":\"PreviewSaveTool\"},{\"id\":\"48e78bfd-8ede-400a-8f02-d7b9389794af\",\"type\":\"LassoSelectTool\"}],\"x_range\":{\"id\":\"f9470b07-f30c-459d-9538-3d4023c7f535\",\"type\":\"FactorRange\"},\"y_range\":{\"id\":\"c7a2f3d3-b1ed-4ec9-a8ff-9eba690cb999\",\"type\":\"DataRange1d\"}},\"id\":\"c72b441f-8531-481e-8f83-56747c3d54e0\",\"subtype\":\"Figure\",\"type\":\"Plot\"},{\"attributes\":{\"callback\":null,\"factors\":[\"CAL\",\"ML4\",\"TBA\",\"MON\",\"KCA\",\"ANA\",\"OAK\",\"FLO\",\"CLE\",\"MIL\",\"SDN\",\"ARI\",\"ATL\",\"SLN\",\"PIT\",\"WAS\",\"BAL\",\"CHA\",\"CIN\",\"MIA\",\"CHN\",\"HOU\",\"TOR\",\"COL\",\"SEA\",\"TEX\",\"SFN\",\"BOS\",\"MIN\",\"DET\",\"NYN\",\"LAN\",\"PHI\",\"LAA\",\"NYA\"]},\"id\":\"71306e99-df1a-4b12-8962-df325789e4f8\",\"type\":\"FactorRange\"},{\"attributes\":{\"plot\":{\"id\":\"1c1c70b0-bc89-426f-94a7-be58f573589e\",\"subtype\":\"Figure\",\"type\":\"Plot\"}},\"id\":\"14f12857-acec-4ea9-8f8b-6453755af609\",\"type\":\"WheelZoomTool\"}],\"root_ids\":[\"1567cf8c-901f-4e40-aae1-8829e3cc8539\",\"cf6f44f7-10b0-4886-ac82-98eda57f8dae\",\"e8050467-8c1e-413e-b8f0-86d4b69e1599\",\"01323d32-4ce5-4102-a13c-fda2cb4b7e98\",\"d0c3825b-589c-40f0-b601-dccdf7af674c\"]},\"title\":\"Bokeh Application\",\"version\":\"0.11.1\"}};\n",
       "            var render_items = [{\"docid\":\"27be9254-07d8-43c6-b4dc-006d9dda7a19\",\"elementid\":\"14f0b8ea-0b1c-4405-8d18-6cfd8aaf35a2\",\"modelid\":\"d0c3825b-589c-40f0-b601-dccdf7af674c\",\"notebook_comms_target\":\"523b1ef4-1a22-4c8d-8d4d-68defafc86e6\"}];\n",
       "            \n",
       "            Bokeh.embed.embed_items(docs_json, render_items);\n",
       "        });\n",
       "      },\n",
       "      function(Bokeh) {\n",
       "      }\n",
       "    ];\n",
       "  \n",
       "    function run_inline_js() {\n",
       "      for (var i = 0; i < inline_js.length; i++) {\n",
       "        inline_js[i](window.Bokeh);\n",
       "      }\n",
       "    }\n",
       "  \n",
       "    if (window._bokeh_is_loading === 0) {\n",
       "      console.log(\"Bokeh: BokehJS loaded, going straight to plotting\");\n",
       "      run_inline_js();\n",
       "    } else {\n",
       "      load_libs(js_urls, function() {\n",
       "        console.log(\"Bokeh: BokehJS plotting callback run at\", now());\n",
       "        run_inline_js();\n",
       "      });\n",
       "    }\n",
       "  }(this));\n",
       "</script>"
      ]
     },
     "metadata": {},
     "output_type": "display_data"
    },
    {
     "data": {
      "text/html": [
       "<p><code>&lt;Bokeh Notebook handle for <strong>In[30]</strong>&gt;</code></p>"
      ],
      "text/plain": [
       "<bokeh.io._CommsHandle at 0x110dcbc18>"
      ]
     },
     "execution_count": 30,
     "metadata": {},
     "output_type": "execute_result"
    }
   ],
   "source": [
    "bokeh.io.show(p)"
   ]
  },
  {
   "cell_type": "code",
   "execution_count": 31,
   "metadata": {
    "collapsed": false
   },
   "outputs": [
    {
     "data": {
      "text/plain": [
       "<function __main__.update>"
      ]
     },
     "execution_count": 31,
     "metadata": {},
     "output_type": "execute_result"
    }
   ],
   "source": [
    "interact(update, year=widgets.IntSlider(min=1985, max=2013, value=2013))"
   ]
  },
  {
   "cell_type": "code",
   "execution_count": 32,
   "metadata": {
    "collapsed": true
   },
   "outputs": [],
   "source": [
    "with con:\n",
    "    df_pitching = pd.read_sql_query(\"SELECT * from Pitching\", con)\n"
   ]
  },
  {
   "cell_type": "code",
   "execution_count": 33,
   "metadata": {
    "collapsed": false
   },
   "outputs": [
    {
     "data": {
      "text/plain": [
       "Index(['playerID', 'yearID', 'stint', 'teamID', 'lgID', 'W', 'L', 'G', 'GS',\n",
       "       'CG', 'SHO', 'SV', 'IPouts', 'H', 'ER', 'HR', 'BB', 'SO', 'BAOpp',\n",
       "       'ERA', 'IBB', 'WP', 'HBP', 'BK', 'BFP', 'GF', 'R', 'SH', 'SF', 'GIDP'],\n",
       "      dtype='object')"
      ]
     },
     "execution_count": 33,
     "metadata": {},
     "output_type": "execute_result"
    }
   ],
   "source": [
    "df_pitching.columns"
   ]
  },
  {
   "cell_type": "code",
   "execution_count": null,
   "metadata": {
    "collapsed": true
   },
   "outputs": [],
   "source": []
  }
 ],
 "metadata": {
  "kernelspec": {
   "display_name": "Python 3",
   "language": "python",
   "name": "python3"
  },
  "language_info": {
   "codemirror_mode": {
    "name": "ipython",
    "version": 3
   },
   "file_extension": ".py",
   "mimetype": "text/x-python",
   "name": "python",
   "nbconvert_exporter": "python",
   "pygments_lexer": "ipython3",
   "version": "3.5.1"
  }
 },
 "nbformat": 4,
 "nbformat_minor": 0
}
