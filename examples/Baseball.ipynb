{
 "cells": [
  {
   "cell_type": "markdown",
   "metadata": {},
   "source": [
    "<hr />\n",
    "\n",
    "# Baseball App Example\n",
    "\n",
    "In this example we use Blaze and Bokeh to explore the Lahman Baseball Statistics database.\n",
    "\n"
   ]
  },
  {
   "cell_type": "code",
   "execution_count": 1,
   "metadata": {
    "collapsed": false
   },
   "outputs": [
    {
     "data": {
      "text/html": [
       "\n",
       "    <div class=\"bk-banner\">\n",
       "        <a href=\"http://bokeh.pydata.org\" target=\"_blank\" class=\"bk-logo bk-logo-small bk-logo-notebook\"></a>\n",
       "        <span id=\"0ba77179-bf55-428d-8d0f-848709a720e7\">Loading BokehJS ...</span>\n",
       "    </div>"
      ]
     },
     "metadata": {},
     "output_type": "display_data"
    },
    {
     "data": {
      "application/javascript": [
       "\n",
       "(function(global) {\n",
       "  function now() {\n",
       "    return new Date();\n",
       "  }\n",
       "\n",
       "  if (typeof (window._bokeh_onload_callbacks) === \"undefined\") {\n",
       "    window._bokeh_onload_callbacks = [];\n",
       "  }\n",
       "\n",
       "  function run_callbacks() {\n",
       "    window._bokeh_onload_callbacks.forEach(function(callback) { callback() });\n",
       "    delete window._bokeh_onload_callbacks\n",
       "    console.info(\"Bokeh: all callbacks have finished\");\n",
       "  }\n",
       "\n",
       "  function load_libs(js_urls, callback) {\n",
       "    window._bokeh_onload_callbacks.push(callback);\n",
       "    if (window._bokeh_is_loading > 0) {\n",
       "      console.log(\"Bokeh: BokehJS is being loaded, scheduling callback at\", now());\n",
       "      return null;\n",
       "    }\n",
       "    if (js_urls == null || js_urls.length === 0) {\n",
       "      run_callbacks();\n",
       "      return null;\n",
       "    }\n",
       "    console.log(\"Bokeh: BokehJS not loaded, scheduling load and callback at\", now());\n",
       "    window._bokeh_is_loading = js_urls.length;\n",
       "    for (var i = 0; i < js_urls.length; i++) {\n",
       "      var url = js_urls[i];\n",
       "      var s = document.createElement('script');\n",
       "      s.src = url;\n",
       "      s.async = false;\n",
       "      s.onreadystatechange = s.onload = function() {\n",
       "        window._bokeh_is_loading--;\n",
       "        if (window._bokeh_is_loading === 0) {\n",
       "          console.log(\"Bokeh: all BokehJS libraries loaded\");\n",
       "          run_callbacks()\n",
       "        }\n",
       "      };\n",
       "      s.onerror = function() {\n",
       "        console.warn(\"failed to load library \" + url);\n",
       "      };\n",
       "      console.log(\"Bokeh: injecting script tag for BokehJS library: \", url);\n",
       "      document.getElementsByTagName(\"head\")[0].appendChild(s);\n",
       "    }\n",
       "  };\n",
       "\n",
       "  var js_urls = ['https://cdn.pydata.org/bokeh/release/bokeh-0.11.1.min.js', 'https://cdn.pydata.org/bokeh/release/bokeh-widgets-0.11.1.min.js', 'https://cdn.pydata.org/bokeh/release/bokeh-compiler-0.11.1.min.js'];\n",
       "\n",
       "  var inline_js = [\n",
       "    function(Bokeh) {\n",
       "      Bokeh.set_log_level(\"info\");\n",
       "    },\n",
       "    \n",
       "    function(Bokeh) {\n",
       "      Bokeh.$(\"#0ba77179-bf55-428d-8d0f-848709a720e7\").text(\"BokehJS successfully loaded\");\n",
       "    },\n",
       "    function(Bokeh) {\n",
       "      console.log(\"Bokeh: injecting CSS: https://cdn.pydata.org/bokeh/release/bokeh-0.11.1.min.css\");\n",
       "      Bokeh.embed.inject_css(\"https://cdn.pydata.org/bokeh/release/bokeh-0.11.1.min.css\");\n",
       "      console.log(\"Bokeh: injecting CSS: https://cdn.pydata.org/bokeh/release/bokeh-widgets-0.11.1.min.css\");\n",
       "      Bokeh.embed.inject_css(\"https://cdn.pydata.org/bokeh/release/bokeh-widgets-0.11.1.min.css\");\n",
       "    }\n",
       "  ];\n",
       "\n",
       "  function run_inline_js() {\n",
       "    for (var i = 0; i < inline_js.length; i++) {\n",
       "      inline_js[i](window.Bokeh);\n",
       "    }\n",
       "  }\n",
       "\n",
       "  if (window._bokeh_is_loading === 0) {\n",
       "    console.log(\"Bokeh: BokehJS loaded, going straight to plotting\");\n",
       "    run_inline_js();\n",
       "  } else {\n",
       "    load_libs(js_urls, function() {\n",
       "      console.log(\"Bokeh: BokehJS plotting callback run at\", now());\n",
       "      run_inline_js();\n",
       "    });\n",
       "  }\n",
       "}(this));"
      ]
     },
     "metadata": {},
     "output_type": "display_data"
    }
   ],
   "source": [
    "import pandas as pd\n",
    "import numpy as np\n",
    "from bokeh.plotting import *\n",
    "output_notebook()"
   ]
  },
  {
   "cell_type": "code",
   "execution_count": null,
   "metadata": {
    "collapsed": false
   },
   "outputs": [],
   "source": [
    "db = bz.Data('sqlite:///lahman2013.sqlite')\n",
    "db.dshape"
   ]
  },
  {
   "cell_type": "code",
   "execution_count": null,
   "metadata": {
    "collapsed": false
   },
   "outputs": [],
   "source": [
    "list(db.Salaries.teamID.distinct())"
   ]
  },
  {
   "cell_type": "code",
   "execution_count": null,
   "metadata": {
    "collapsed": false
   },
   "outputs": [],
   "source": [
    "r = bz.compute(db.Salaries[\"teamID\"].distinct())\n",
    "odo(r, pd.DataFrame)"
   ]
  },
  {
   "cell_type": "code",
   "execution_count": null,
   "metadata": {
    "collapsed": false
   },
   "outputs": [],
   "source": [
    "result = bz.by(db.Salaries.teamID, avg=db.Salaries.salary.mean(), \n",
    "                                   max=db.Salaries.salary.max(), \n",
    "                                   ratio=db.Salaries.salary.max() / db.Salaries.salary.min()\n",
    "                ).sort('ratio', ascending=False)\n",
    "df = odo(result, pd.DataFrame)"
   ]
  },
  {
   "cell_type": "code",
   "execution_count": null,
   "metadata": {
    "collapsed": false
   },
   "outputs": [],
   "source": [
    "df.head()"
   ]
  },
  {
   "cell_type": "code",
   "execution_count": null,
   "metadata": {
    "collapsed": false
   },
   "outputs": [],
   "source": [
    "df = df.sort('avg')\n",
    "source = ColumnDataSource(df)\n",
    "p = figure(x_range=list(df[\"teamID\"]))\n",
    "p.scatter(x=\"teamID\", y=\"avg\", source=source)\n",
    "show(p)"
   ]
  },
  {
   "cell_type": "markdown",
   "metadata": {},
   "source": [
    "Hmm, can't read the y axis very well..."
   ]
  },
  {
   "cell_type": "code",
   "execution_count": null,
   "metadata": {
    "collapsed": false
   },
   "outputs": [],
   "source": [
    "df = df.sort('avg')\n",
    "source = ColumnDataSource(df)\n",
    "p = figure(x_range=list(df[\"teamID\"]))\n",
    "p.scatter(x=\"teamID\", y=\"avg\", source=source)\n",
    "p.xaxis.major_label_orientation = np.pi/3\n",
    "\n",
    "show(p)"
   ]
  },
  {
   "cell_type": "markdown",
   "metadata": {},
   "source": [
    "Let's view a max versus ratio"
   ]
  },
  {
   "cell_type": "code",
   "execution_count": null,
   "metadata": {
    "collapsed": false
   },
   "outputs": [],
   "source": [
    "TOOLS = \"pan,wheel_zoom,box_zoom,reset,save,lasso_select\"\n",
    "\n",
    "df = df.sort('avg')\n",
    "source = ColumnDataSource(df)\n",
    "s1 = figure(title=\"Pay Avg\",x_range=source.data[\"teamID\"], tools=TOOLS, width=500)\n",
    "s1.scatter(x=\"teamID\", y=\"avg\", source=source)\n",
    "s1.xaxis.major_label_orientation = np.pi/3\n",
    "\n",
    "s2 = figure(title=\"Pay Ratio\", x_range=s1.x_range, tools=TOOLS, width=500)\n",
    "s2.scatter(x=\"teamID\", y=\"ratio\", source=source)\n",
    "s2.xaxis.major_label_orientation = np.pi/3\n",
    "\n",
    "p = gridplot([[s1, s2]])\n",
    "show(p)"
   ]
  },
  {
   "cell_type": "markdown",
   "metadata": {},
   "source": [
    "<hr/>\n",
    "\n",
    "Now let's join on the AllStars table to see how max salaries and all star count correlate."
   ]
  },
  {
   "cell_type": "code",
   "execution_count": null,
   "metadata": {
    "collapsed": false
   },
   "outputs": [],
   "source": [
    "result = bz.by(db.AllstarFull.teamID, all_stars=db.AllstarFull.playerID.count()\n",
    "                ).sort('all_stars', ascending=False)\n",
    "r = bz.Data(odo(result, pd.DataFrame))\n",
    "m = odo(r, pd.DataFrame)[\"all_stars\"].max()\n",
    "print \"max number of all stars from a single team:\", m\n",
    "\n",
    "print \"normalized list of all_stars:\\n\", bz.compute((r.all_stars / m).head())\n",
    "\n",
    "# Now let's use this as the size of the circles in the scatter plot\n",
    "df1 = odo(r, pd.DataFrame)\n",
    "df1['all_stars'] /= (df1['all_stars'].max() / 10)\n",
    "df1['all_stars'] += 10"
   ]
  },
  {
   "cell_type": "markdown",
   "metadata": {},
   "source": [
    "<hr/>\n",
    "\n",
    "Now lets join the data to all_star sizes"
   ]
  },
  {
   "cell_type": "code",
   "execution_count": null,
   "metadata": {
    "collapsed": false
   },
   "outputs": [],
   "source": [
    "r = bz.join(bz.Data(df1), bz.Data(df), 'teamID')\n",
    "r.head()"
   ]
  },
  {
   "cell_type": "code",
   "execution_count": null,
   "metadata": {
    "collapsed": false
   },
   "outputs": [],
   "source": [
    "df_j = odo(r, pd.DataFrame)\n",
    "df_j = df_j.sort(\"max\")\n",
    "print df_j.head()\n",
    "source = odo(df_j, ColumnDataSource)\n",
    "p = figure(x_range=list(df_j[\"teamID\"]))\n",
    "p.scatter(x=\"teamID\", y=\"max\", size=\"all_stars\", source=source, fill_alpha=0.5, )\n",
    "p.xaxis.major_label_orientation = np.pi/3\n",
    "\n",
    "show(p)"
   ]
  },
  {
   "cell_type": "markdown",
   "metadata": {},
   "source": [
    "<hr/>\n",
    "\n",
    "Now let's make this an interactive plot!"
   ]
  },
  {
   "cell_type": "code",
   "execution_count": null,
   "metadata": {
    "collapsed": false
   },
   "outputs": [],
   "source": [
    "def compute_df(year=2012):\n",
    "    result = db.Salaries[ db.Salaries.yearID==year ]\n",
    "    result = bz.Data(odo(result, pd.DataFrame))\n",
    "    result = bz.by(result.teamID, max=result.salary.max()).sort('max', ascending=False)\n",
    "    df = odo(result, pd.DataFrame)\n",
    "    asf_year = db.AllstarFull[ db.AllstarFull.yearID==year]\n",
    "    result = bz.by(asf_year.teamID, all_stars=db.AllstarFull.playerID.count()\n",
    "                    ).sort('all_stars', ascending=False)\n",
    "    r = bz.Data(odo(result, pd.DataFrame))\n",
    "    df1 = odo(r, pd.DataFrame)\n",
    "    df1['all_stars'] /= (df1['all_stars'].max() / 10)\n",
    "    df1['all_stars'] += 10\n",
    "    r = bz.join(bz.Data(df1), bz.Data(df), 'teamID')\n",
    "    df_j = odo(r, pd.DataFrame)\n",
    "    df_j = df_j.sort(\"max\")\n",
    "    return df_j\n",
    "\n",
    "source = odo(compute_df(), ColumnDataSource)\n",
    "\n",
    "p = figure(x_range=list(source.data[\"teamID\"]))\n",
    "p.scatter(x=\"teamID\", y=\"max\", size=\"all_stars\", source=source, fill_alpha=0.5, )\n",
    "p.xaxis.major_label_orientation = np.pi/3"
   ]
  },
  {
   "cell_type": "code",
   "execution_count": null,
   "metadata": {
    "collapsed": false
   },
   "outputs": [],
   "source": [
    "from IPython.html.widgets import interact, IntSliderWidget\n",
    "\n",
    "def update(year):\n",
    "    df = compute_df(year)\n",
    "    source.data['all_stars'] = df['all_stars']\n",
    "    source.data['max'] = df['max']\n",
    "    source.push_notebook()\n",
    "#interact(update, year=(1980, 2013))\n",
    "interact(update, year=IntSliderWidget(min=1985, max=2013, value=2013))"
   ]
  },
  {
   "cell_type": "code",
   "execution_count": null,
   "metadata": {
    "collapsed": false
   },
   "outputs": [],
   "source": [
    "show(p)"
   ]
  },
  {
   "cell_type": "code",
   "execution_count": null,
   "metadata": {
    "collapsed": false
   },
   "outputs": [],
   "source": []
  }
 ],
 "metadata": {
  "kernelspec": {
   "display_name": "Python 3",
   "language": "python",
   "name": "python3"
  },
  "language_info": {
   "codemirror_mode": {
    "name": "ipython",
    "version": 3
   },
   "file_extension": ".py",
   "mimetype": "text/x-python",
   "name": "python",
   "nbconvert_exporter": "python",
   "pygments_lexer": "ipython3",
   "version": "3.5.1"
  }
 },
 "nbformat": 4,
 "nbformat_minor": 0
}
