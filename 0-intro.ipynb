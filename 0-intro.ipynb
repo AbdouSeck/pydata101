{
 "cells": [
  {
   "cell_type": "markdown",
   "metadata": {},
   "source": [
    "# PyData 101 <br/> Essential Data Skills for hackers\n",
    "\n",
    "*PyCon 2016, Portland, OR*\n",
    "\n",
    "by Christine Doig and Andy Terrel\n",
    "\n",
    "<hr/>"
   ]
  },
  {
   "cell_type": "markdown",
   "metadata": {
    "collapsed": true
   },
   "source": [
    "## Tutorial sections\n",
    "\n",
    "- Section 0: Introduction\n",
    "- Section 1: Data Manipulation with Pandas\n",
    "- Section 2: Data Visualization with Bokeh\n",
    "- Section 3: Data Modeling with Scikit-learn\n",
    "\n",
    "<hr/>\n"
   ]
  },
  {
   "cell_type": "markdown",
   "metadata": {},
   "source": [
    "## Follow along\n",
    "\n",
    "### http://bit.ly/pydata101\n",
    "\n",
    "<br>\n",
    "\n",
    "- Option A: Download repository\n",
    "\n",
    "### https://github.com/aterrel/pydata101\n",
    "\n",
    "- Option B: View notebooks on nbviewer\n",
    "\n",
    "### http://nbviewer.ipython.org/github/aterrel/pydata101\n",
    "\n",
    "- Option C: Run on docker in the cloud via binder\n",
    "\n",
    "### http://mybinder.org/repo/aterrel/pydata101\n",
    "\n",
    "<hr/>\n"
   ]
  },
  {
   "cell_type": "markdown",
   "metadata": {},
   "source": [
    "# Pandas\n",
    "\n",
    "http://pandas.pydata.org"
   ]
  },
  {
   "cell_type": "code",
   "execution_count": 1,
   "metadata": {
    "collapsed": false
   },
   "outputs": [
    {
     "data": {
      "text/html": [
       "\n",
       "        <iframe\n",
       "            width=\"100%\"\n",
       "            height=\"350\"\n",
       "            src=\"http://pandas.pydata.org/\"\n",
       "            frameborder=\"0\"\n",
       "            allowfullscreen\n",
       "        ></iframe>\n",
       "        "
      ],
      "text/plain": [
       "<IPython.lib.display.IFrame at 0x103dc3240>"
      ]
     },
     "execution_count": 1,
     "metadata": {},
     "output_type": "execute_result"
    }
   ],
   "source": [
    "from IPython.display import IFrame\n",
    "IFrame('http://pandas.pydata.org/', width='100%', height=350)"
   ]
  },
  {
   "cell_type": "markdown",
   "metadata": {},
   "source": [
    "<hr>"
   ]
  },
  {
   "cell_type": "markdown",
   "metadata": {},
   "source": [
    "## Bokeh\n",
    "\n",
    "\n",
    "### http://bokeh.pydata.org/"
   ]
  },
  {
   "cell_type": "code",
   "execution_count": 2,
   "metadata": {
    "collapsed": false
   },
   "outputs": [
    {
     "data": {
      "text/html": [
       "\n",
       "        <iframe\n",
       "            width=\"100%\"\n",
       "            height=\"350\"\n",
       "            src=\"http://bokeh.pydata.org\"\n",
       "            frameborder=\"0\"\n",
       "            allowfullscreen\n",
       "        ></iframe>\n",
       "        "
      ],
      "text/plain": [
       "<IPython.lib.display.IFrame at 0x103dc3198>"
      ]
     },
     "execution_count": 2,
     "metadata": {},
     "output_type": "execute_result"
    }
   ],
   "source": [
    "from IPython.display import IFrame\n",
    "IFrame('http://bokeh.pydata.org', width='100%', height=350)"
   ]
  },
  {
   "cell_type": "markdown",
   "metadata": {},
   "source": [
    "<hr>"
   ]
  },
  {
   "cell_type": "markdown",
   "metadata": {},
   "source": [
    "## Scikit-Learn\n"
   ]
  },
  {
   "cell_type": "markdown",
   "metadata": {},
   "source": [
    "### http://scikit-learn.org/\n"
   ]
  },
  {
   "cell_type": "code",
   "execution_count": 3,
   "metadata": {
    "collapsed": false
   },
   "outputs": [
    {
     "data": {
      "text/html": [
       "\n",
       "        <iframe\n",
       "            width=\"100%\"\n",
       "            height=\"350\"\n",
       "            src=\"http://scikit-learn.org/\"\n",
       "            frameborder=\"0\"\n",
       "            allowfullscreen\n",
       "        ></iframe>\n",
       "        "
      ],
      "text/plain": [
       "<IPython.lib.display.IFrame at 0x103dc37b8>"
      ]
     },
     "execution_count": 3,
     "metadata": {},
     "output_type": "execute_result"
    }
   ],
   "source": [
    "from IPython.display import IFrame\n",
    "IFrame('http://scikit-learn.org/', width='100%', height=350)"
   ]
  },
  {
   "cell_type": "markdown",
   "metadata": {},
   "source": [
    "<hr>"
   ]
  },
  {
   "cell_type": "markdown",
   "metadata": {},
   "source": [
    "### Tutorial goals\n",
    "\n",
    "- basic examples of taking raw data and producing insights,\n",
    "- building an interactive exploratory data visualizations,\n",
    "- modelling, or predicting, phenomena with that data\n",
    "\n",
    "<hr/>"
   ]
  },
  {
   "cell_type": "markdown",
   "metadata": {},
   "source": [
    "### Installation"
   ]
  },
  {
   "cell_type": "markdown",
   "metadata": {},
   "source": [
    "### Run locally\n",
    "\n",
    "- Download and install the [Anaconda Python Distribution](http://continuum.io/downloads)\n",
    "- Download [archive of this repository](https://github.com/aterrel/pydata-apps/archive/master.zip) or checkout with git \n",
    "\n",
    "  ```\n",
    "  git clone https://github.com/aterrel/pydata101.git\n",
    "  ```\n",
    "\n",
    "- Each tutorial has a slightly different set of requirements. To download all the requirements try:\n",
    "  \n",
    "  ```\n",
    "  conda update conda\n",
    "  conda env create\n",
    "  ```\n",
    "\n",
    "- Activate the environment\n",
    "\n",
    "  ```\n",
    "  source activate pydata101\n",
    "  ```\n",
    "\n",
    "### Editable Online Notebooks\n",
    "\n",
    "[Binder: http://mybinder.org/repo/aterrel/pydata101](http://mybinder.org/repo/aterrel/pydata101)\n",
    "\n",
    "### Static Online Notebooks\n",
    "\n",
    "For those want to just follow a static notebook (not all interactive elements will work), see the following links:\n",
    "\n",
    "[NBViewer: http://nbviewer.jupyter.org/github/aterrel/pydata101/tree/master/](http://nbviewer.jupyter.org/github/aterrel/pydata101/tree/master/)\n"
   ]
  },
  {
   "cell_type": "code",
   "execution_count": null,
   "metadata": {
    "collapsed": true
   },
   "outputs": [],
   "source": []
  }
 ],
 "metadata": {
  "kernelspec": {
   "display_name": "Python 3",
   "language": "python",
   "name": "python3"
  },
  "language_info": {
   "codemirror_mode": {
    "name": "ipython",
    "version": 3
   },
   "file_extension": ".py",
   "mimetype": "text/x-python",
   "name": "python",
   "nbconvert_exporter": "python",
   "pygments_lexer": "ipython3",
   "version": "3.5.1"
  }
 },
 "nbformat": 4,
 "nbformat_minor": 0
}
